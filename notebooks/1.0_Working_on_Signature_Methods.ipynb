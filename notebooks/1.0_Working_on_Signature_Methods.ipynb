{
 "cells": [
  {
   "cell_type": "markdown",
   "metadata": {},
   "source": [
    "# 1.0 Working on Signature Methods"
   ]
  },
  {
   "cell_type": "code",
   "execution_count": 1,
   "metadata": {},
   "outputs": [],
   "source": [
    "from clustergrammer_widget import *\n",
    "net = Network(clustergrammer_widget)\n",
    "df = {}\n",
    "\n",
    "import clustergrammer_groupby as cby\n",
    "import gene_exp_10x"
   ]
  },
  {
   "cell_type": "code",
   "execution_count": 2,
   "metadata": {},
   "outputs": [],
   "source": [
    "### signature distance calculation requirements\n",
    "from sklearn.metrics import pairwise_distances\n",
    "from scipy.stats import ttest_ind \n",
    "\n",
    "import pandas as pd\n",
    "import numpy as np\n",
    "from copy import deepcopy\n",
    "\n",
    "import matplotlib.pyplot as plt\n",
    "%matplotlib inline "
   ]
  },
  {
   "cell_type": "markdown",
   "metadata": {},
   "source": [
    "### Load Default Dataset"
   ]
  },
  {
   "cell_type": "code",
   "execution_count": 3,
   "metadata": {},
   "outputs": [
    {
     "data": {
      "text/plain": [
       "(38, 29)"
      ]
     },
     "execution_count": 3,
     "metadata": {},
     "output_type": "execute_result"
    }
   ],
   "source": [
    "net.load_file('../data/rc_two_cats.txt')\n",
    "df['ini'] = net.export_df()\n",
    "df['ini'].shape"
   ]
  },
  {
   "cell_type": "code",
   "execution_count": 4,
   "metadata": {},
   "outputs": [
    {
     "data": {
      "application/vnd.jupyter.widget-view+json": {
       "model_id": "b04201187df7413caf8e00c0b54c85b7"
      }
     },
     "metadata": {},
     "output_type": "display_data"
    }
   ],
   "source": [
    "net.cluster()\n",
    "net.widget()"
   ]
  },
  {
   "cell_type": "markdown",
   "metadata": {},
   "source": [
    "### Calculate Signatures of Categories"
   ]
  },
  {
   "cell_type": "code",
   "execution_count": 5,
   "metadata": {},
   "outputs": [],
   "source": [
    "df['ini_mi'] = cby.row_tuple_to_multiindex(df['ini'].transpose())"
   ]
  },
  {
   "cell_type": "code",
   "execution_count": 7,
   "metadata": {},
   "outputs": [
    {
     "data": {
      "text/html": [
       "<div>\n",
       "<table border=\"1\" class=\"dataframe\">\n",
       "  <thead>\n",
       "    <tr style=\"text-align: right;\">\n",
       "      <th></th>\n",
       "      <th></th>\n",
       "      <th></th>\n",
       "      <th>(Gene: CDK4, Gene Type: Interesting)</th>\n",
       "      <th>(Gene: LMTK3, Gene Type: Not Interesting)</th>\n",
       "      <th>(Gene: LRRK2, Gene Type: Not Interesting)</th>\n",
       "      <th>(Gene: UHMK1, Gene Type: Not Interesting)</th>\n",
       "      <th>(Gene: EGFR, Gene Type: Interesting)</th>\n",
       "      <th>(Gene: STK32A, Gene Type: Interesting)</th>\n",
       "      <th>(Gene: NRK, Gene Type: Interesting)</th>\n",
       "      <th>(Gene: ERBB2, Gene Type: Not Interesting)</th>\n",
       "      <th>(Gene: ERBB4, Gene Type: Not Interesting)</th>\n",
       "      <th>(Gene: AAK1, Gene Type: Not Interesting)</th>\n",
       "      <th>...</th>\n",
       "      <th>(Gene: ROS1, Gene Type: Interesting)</th>\n",
       "      <th>(Gene: MAP2K4, Gene Type: Interesting)</th>\n",
       "      <th>(Gene: SRC, Gene Type: Interesting)</th>\n",
       "      <th>(Gene: TGFBR1, Gene Type: Interesting)</th>\n",
       "      <th>(Gene: CAMK2B, Gene Type: Not Interesting)</th>\n",
       "      <th>(Gene: STK24, Gene Type: Interesting)</th>\n",
       "      <th>(Gene: DCLK3, Gene Type: Not Interesting)</th>\n",
       "      <th>(Gene: LATS1, Gene Type: Not Interesting)</th>\n",
       "      <th>(Gene: NEK9, Gene Type: Not Interesting)</th>\n",
       "      <th>(Gene: MYLK3, Gene Type: Not Interesting)</th>\n",
       "    </tr>\n",
       "    <tr>\n",
       "      <th>Cell Line</th>\n",
       "      <th>Category</th>\n",
       "      <th>Gender</th>\n",
       "      <th></th>\n",
       "      <th></th>\n",
       "      <th></th>\n",
       "      <th></th>\n",
       "      <th></th>\n",
       "      <th></th>\n",
       "      <th></th>\n",
       "      <th></th>\n",
       "      <th></th>\n",
       "      <th></th>\n",
       "      <th></th>\n",
       "      <th></th>\n",
       "      <th></th>\n",
       "      <th></th>\n",
       "      <th></th>\n",
       "      <th></th>\n",
       "      <th></th>\n",
       "      <th></th>\n",
       "      <th></th>\n",
       "      <th></th>\n",
       "      <th></th>\n",
       "    </tr>\n",
       "  </thead>\n",
       "  <tbody>\n",
       "    <tr>\n",
       "      <th>H1650</th>\n",
       "      <th>two</th>\n",
       "      <th>Male</th>\n",
       "      <td>-0.792804</td>\n",
       "      <td>0.177621</td>\n",
       "      <td>-0.697876</td>\n",
       "      <td>0.850547</td>\n",
       "      <td>1.412416</td>\n",
       "      <td>-0.388040</td>\n",
       "      <td>1.408537</td>\n",
       "      <td>0.906642</td>\n",
       "      <td>-0.452907</td>\n",
       "      <td>3.579052</td>\n",
       "      <td>...</td>\n",
       "      <td>-0.312364</td>\n",
       "      <td>0.119311</td>\n",
       "      <td>-0.294264</td>\n",
       "      <td>-0.000864</td>\n",
       "      <td>-0.276737</td>\n",
       "      <td>-0.318076</td>\n",
       "      <td>-0.670178</td>\n",
       "      <td>-0.695253</td>\n",
       "      <td>-0.337849</td>\n",
       "      <td>-0.368173</td>\n",
       "    </tr>\n",
       "    <tr>\n",
       "      <th>H23</th>\n",
       "      <th>two</th>\n",
       "      <th>Male</th>\n",
       "      <td>0.527687</td>\n",
       "      <td>-0.016061</td>\n",
       "      <td>-0.555610</td>\n",
       "      <td>-0.263280</td>\n",
       "      <td>0.018988</td>\n",
       "      <td>-0.592627</td>\n",
       "      <td>-0.017369</td>\n",
       "      <td>-0.684771</td>\n",
       "      <td>-0.392791</td>\n",
       "      <td>0.923308</td>\n",
       "      <td>...</td>\n",
       "      <td>0.701257</td>\n",
       "      <td>0.593671</td>\n",
       "      <td>-0.618072</td>\n",
       "      <td>0.735638</td>\n",
       "      <td>-0.426081</td>\n",
       "      <td>-0.814111</td>\n",
       "      <td>3.224534</td>\n",
       "      <td>4.299877</td>\n",
       "      <td>-0.535266</td>\n",
       "      <td>0.209192</td>\n",
       "    </tr>\n",
       "    <tr>\n",
       "      <th>CAL-12T</th>\n",
       "      <th>two</th>\n",
       "      <th>Male</th>\n",
       "      <td>0.000623</td>\n",
       "      <td>5.422114</td>\n",
       "      <td>-0.360498</td>\n",
       "      <td>0.179253</td>\n",
       "      <td>0.902252</td>\n",
       "      <td>-0.244137</td>\n",
       "      <td>-0.367128</td>\n",
       "      <td>0.015261</td>\n",
       "      <td>-0.374174</td>\n",
       "      <td>-0.651094</td>\n",
       "      <td>...</td>\n",
       "      <td>0.475208</td>\n",
       "      <td>0.489153</td>\n",
       "      <td>-0.252534</td>\n",
       "      <td>-0.680290</td>\n",
       "      <td>-0.160160</td>\n",
       "      <td>0.646545</td>\n",
       "      <td>0.145510</td>\n",
       "      <td>-0.175587</td>\n",
       "      <td>0.803160</td>\n",
       "      <td>0.266318</td>\n",
       "    </tr>\n",
       "    <tr>\n",
       "      <th>H358</th>\n",
       "      <th>one</th>\n",
       "      <th>Male</th>\n",
       "      <td>0.356723</td>\n",
       "      <td>1.307040</td>\n",
       "      <td>-0.460237</td>\n",
       "      <td>0.398647</td>\n",
       "      <td>-0.178137</td>\n",
       "      <td>0.740365</td>\n",
       "      <td>0.313254</td>\n",
       "      <td>0.160568</td>\n",
       "      <td>-0.527418</td>\n",
       "      <td>0.952744</td>\n",
       "      <td>...</td>\n",
       "      <td>-0.585297</td>\n",
       "      <td>0.841683</td>\n",
       "      <td>-0.786607</td>\n",
       "      <td>0.040926</td>\n",
       "      <td>-0.890033</td>\n",
       "      <td>0.268372</td>\n",
       "      <td>0.107432</td>\n",
       "      <td>-0.061022</td>\n",
       "      <td>0.275911</td>\n",
       "      <td>-0.100657</td>\n",
       "    </tr>\n",
       "    <tr>\n",
       "      <th>H1975</th>\n",
       "      <th>two</th>\n",
       "      <th>Female</th>\n",
       "      <td>0.933286</td>\n",
       "      <td>0.355815</td>\n",
       "      <td>-0.680761</td>\n",
       "      <td>1.537664</td>\n",
       "      <td>0.781819</td>\n",
       "      <td>3.023348</td>\n",
       "      <td>-0.162887</td>\n",
       "      <td>0.365002</td>\n",
       "      <td>-0.320103</td>\n",
       "      <td>-0.212733</td>\n",
       "      <td>...</td>\n",
       "      <td>-0.122694</td>\n",
       "      <td>1.064674</td>\n",
       "      <td>-0.228027</td>\n",
       "      <td>0.359330</td>\n",
       "      <td>-0.437405</td>\n",
       "      <td>-9.425121</td>\n",
       "      <td>-1.120493</td>\n",
       "      <td>-0.391646</td>\n",
       "      <td>0.981343</td>\n",
       "      <td>-0.336792</td>\n",
       "    </tr>\n",
       "  </tbody>\n",
       "</table>\n",
       "<p>5 rows × 38 columns</p>\n",
       "</div>"
      ],
      "text/plain": [
       "                           (Gene: CDK4, Gene Type: Interesting)  \\\n",
       "Cell Line Category Gender                                         \n",
       "H1650     two      Male                               -0.792804   \n",
       "H23       two      Male                                0.527687   \n",
       "CAL-12T   two      Male                                0.000623   \n",
       "H358      one      Male                                0.356723   \n",
       "H1975     two      Female                              0.933286   \n",
       "\n",
       "                           (Gene: LMTK3, Gene Type: Not Interesting)  \\\n",
       "Cell Line Category Gender                                              \n",
       "H1650     two      Male                                     0.177621   \n",
       "H23       two      Male                                    -0.016061   \n",
       "CAL-12T   two      Male                                     5.422114   \n",
       "H358      one      Male                                     1.307040   \n",
       "H1975     two      Female                                   0.355815   \n",
       "\n",
       "                           (Gene: LRRK2, Gene Type: Not Interesting)  \\\n",
       "Cell Line Category Gender                                              \n",
       "H1650     two      Male                                    -0.697876   \n",
       "H23       two      Male                                    -0.555610   \n",
       "CAL-12T   two      Male                                    -0.360498   \n",
       "H358      one      Male                                    -0.460237   \n",
       "H1975     two      Female                                  -0.680761   \n",
       "\n",
       "                           (Gene: UHMK1, Gene Type: Not Interesting)  \\\n",
       "Cell Line Category Gender                                              \n",
       "H1650     two      Male                                     0.850547   \n",
       "H23       two      Male                                    -0.263280   \n",
       "CAL-12T   two      Male                                     0.179253   \n",
       "H358      one      Male                                     0.398647   \n",
       "H1975     two      Female                                   1.537664   \n",
       "\n",
       "                           (Gene: EGFR, Gene Type: Interesting)  \\\n",
       "Cell Line Category Gender                                         \n",
       "H1650     two      Male                                1.412416   \n",
       "H23       two      Male                                0.018988   \n",
       "CAL-12T   two      Male                                0.902252   \n",
       "H358      one      Male                               -0.178137   \n",
       "H1975     two      Female                              0.781819   \n",
       "\n",
       "                           (Gene: STK32A, Gene Type: Interesting)  \\\n",
       "Cell Line Category Gender                                           \n",
       "H1650     two      Male                                 -0.388040   \n",
       "H23       two      Male                                 -0.592627   \n",
       "CAL-12T   two      Male                                 -0.244137   \n",
       "H358      one      Male                                  0.740365   \n",
       "H1975     two      Female                                3.023348   \n",
       "\n",
       "                           (Gene: NRK, Gene Type: Interesting)  \\\n",
       "Cell Line Category Gender                                        \n",
       "H1650     two      Male                               1.408537   \n",
       "H23       two      Male                              -0.017369   \n",
       "CAL-12T   two      Male                              -0.367128   \n",
       "H358      one      Male                               0.313254   \n",
       "H1975     two      Female                            -0.162887   \n",
       "\n",
       "                           (Gene: ERBB2, Gene Type: Not Interesting)  \\\n",
       "Cell Line Category Gender                                              \n",
       "H1650     two      Male                                     0.906642   \n",
       "H23       two      Male                                    -0.684771   \n",
       "CAL-12T   two      Male                                     0.015261   \n",
       "H358      one      Male                                     0.160568   \n",
       "H1975     two      Female                                   0.365002   \n",
       "\n",
       "                           (Gene: ERBB4, Gene Type: Not Interesting)  \\\n",
       "Cell Line Category Gender                                              \n",
       "H1650     two      Male                                    -0.452907   \n",
       "H23       two      Male                                    -0.392791   \n",
       "CAL-12T   two      Male                                    -0.374174   \n",
       "H358      one      Male                                    -0.527418   \n",
       "H1975     two      Female                                  -0.320103   \n",
       "\n",
       "                           (Gene: AAK1, Gene Type: Not Interesting)  \\\n",
       "Cell Line Category Gender                                             \n",
       "H1650     two      Male                                    3.579052   \n",
       "H23       two      Male                                    0.923308   \n",
       "CAL-12T   two      Male                                   -0.651094   \n",
       "H358      one      Male                                    0.952744   \n",
       "H1975     two      Female                                 -0.212733   \n",
       "\n",
       "                                             ...                      \\\n",
       "Cell Line Category Gender                    ...                       \n",
       "H1650     two      Male                      ...                       \n",
       "H23       two      Male                      ...                       \n",
       "CAL-12T   two      Male                      ...                       \n",
       "H358      one      Male                      ...                       \n",
       "H1975     two      Female                    ...                       \n",
       "\n",
       "                           (Gene: ROS1, Gene Type: Interesting)  \\\n",
       "Cell Line Category Gender                                         \n",
       "H1650     two      Male                               -0.312364   \n",
       "H23       two      Male                                0.701257   \n",
       "CAL-12T   two      Male                                0.475208   \n",
       "H358      one      Male                               -0.585297   \n",
       "H1975     two      Female                             -0.122694   \n",
       "\n",
       "                           (Gene: MAP2K4, Gene Type: Interesting)  \\\n",
       "Cell Line Category Gender                                           \n",
       "H1650     two      Male                                  0.119311   \n",
       "H23       two      Male                                  0.593671   \n",
       "CAL-12T   two      Male                                  0.489153   \n",
       "H358      one      Male                                  0.841683   \n",
       "H1975     two      Female                                1.064674   \n",
       "\n",
       "                           (Gene: SRC, Gene Type: Interesting)  \\\n",
       "Cell Line Category Gender                                        \n",
       "H1650     two      Male                              -0.294264   \n",
       "H23       two      Male                              -0.618072   \n",
       "CAL-12T   two      Male                              -0.252534   \n",
       "H358      one      Male                              -0.786607   \n",
       "H1975     two      Female                            -0.228027   \n",
       "\n",
       "                           (Gene: TGFBR1, Gene Type: Interesting)  \\\n",
       "Cell Line Category Gender                                           \n",
       "H1650     two      Male                                 -0.000864   \n",
       "H23       two      Male                                  0.735638   \n",
       "CAL-12T   two      Male                                 -0.680290   \n",
       "H358      one      Male                                  0.040926   \n",
       "H1975     two      Female                                0.359330   \n",
       "\n",
       "                           (Gene: CAMK2B, Gene Type: Not Interesting)  \\\n",
       "Cell Line Category Gender                                               \n",
       "H1650     two      Male                                     -0.276737   \n",
       "H23       two      Male                                     -0.426081   \n",
       "CAL-12T   two      Male                                     -0.160160   \n",
       "H358      one      Male                                     -0.890033   \n",
       "H1975     two      Female                                   -0.437405   \n",
       "\n",
       "                           (Gene: STK24, Gene Type: Interesting)  \\\n",
       "Cell Line Category Gender                                          \n",
       "H1650     two      Male                                -0.318076   \n",
       "H23       two      Male                                -0.814111   \n",
       "CAL-12T   two      Male                                 0.646545   \n",
       "H358      one      Male                                 0.268372   \n",
       "H1975     two      Female                              -9.425121   \n",
       "\n",
       "                           (Gene: DCLK3, Gene Type: Not Interesting)  \\\n",
       "Cell Line Category Gender                                              \n",
       "H1650     two      Male                                    -0.670178   \n",
       "H23       two      Male                                     3.224534   \n",
       "CAL-12T   two      Male                                     0.145510   \n",
       "H358      one      Male                                     0.107432   \n",
       "H1975     two      Female                                  -1.120493   \n",
       "\n",
       "                           (Gene: LATS1, Gene Type: Not Interesting)  \\\n",
       "Cell Line Category Gender                                              \n",
       "H1650     two      Male                                    -0.695253   \n",
       "H23       two      Male                                     4.299877   \n",
       "CAL-12T   two      Male                                    -0.175587   \n",
       "H358      one      Male                                    -0.061022   \n",
       "H1975     two      Female                                  -0.391646   \n",
       "\n",
       "                           (Gene: NEK9, Gene Type: Not Interesting)  \\\n",
       "Cell Line Category Gender                                             \n",
       "H1650     two      Male                                   -0.337849   \n",
       "H23       two      Male                                   -0.535266   \n",
       "CAL-12T   two      Male                                    0.803160   \n",
       "H358      one      Male                                    0.275911   \n",
       "H1975     two      Female                                  0.981343   \n",
       "\n",
       "                           (Gene: MYLK3, Gene Type: Not Interesting)  \n",
       "Cell Line Category Gender                                             \n",
       "H1650     two      Male                                    -0.368173  \n",
       "H23       two      Male                                     0.209192  \n",
       "CAL-12T   two      Male                                     0.266318  \n",
       "H358      one      Male                                    -0.100657  \n",
       "H1975     two      Female                                  -0.336792  \n",
       "\n",
       "[5 rows x 38 columns]"
      ]
     },
     "execution_count": 7,
     "metadata": {},
     "output_type": "execute_result"
    }
   ],
   "source": [
    "df['ini_mi'].head()"
   ]
  },
  {
   "cell_type": "markdown",
   "metadata": {},
   "source": [
    "### Collect Top diff genes using T-test"
   ]
  },
  {
   "cell_type": "code",
   "execution_count": 14,
   "metadata": {},
   "outputs": [
    {
     "data": {
      "text/plain": [
       "['five', 'four', 'one', 'three', 'two']"
      ]
     },
     "execution_count": 14,
     "metadata": {},
     "output_type": "execute_result"
    }
   ],
   "source": []
  },
  {
   "cell_type": "code",
   "execution_count": 41,
   "metadata": {
    "scrolled": false
   },
   "outputs": [
    {
     "name": "stdout",
     "output_type": "stream",
     "text": [
      "(Gene: NEK9, Gene Type: Not Interesting)    0.000724\n",
      "(Gene: ULK4, Gene Type: Interesting)        0.002321\n",
      "(Gene: ROS1, Gene Type: Interesting)        0.010923\n",
      "(Gene: MAPK11, Gene Type: Interesting)      0.013899\n",
      "dtype: float64\n",
      "(Gene: MAPK4, Gene Type: Interesting)         0.008790\n",
      "(Gene: TGFBR1, Gene Type: Interesting)        0.010232\n",
      "(Gene: SRPK3, Gene Type: Not Interesting)     0.013685\n",
      "(Gene: UHMK1, Gene Type: Not Interesting)     0.016737\n",
      "(Gene: CAMK2B, Gene Type: Not Interesting)    0.025516\n",
      "(Gene: GRK1, Gene Type: Not Interesting)      0.036758\n",
      "dtype: float64\n",
      "(Gene: STK32A, Gene Type: Interesting)     0.000172\n",
      "(Gene: STK31, Gene Type: Interesting)      0.002281\n",
      "(Gene: KDR, Gene Type: Not Interesting)    0.006222\n",
      "(Gene: NRK, Gene Type: Interesting)        0.011511\n",
      "(Gene: CDK4, Gene Type: Interesting)       0.045237\n",
      "dtype: float64\n",
      "(Gene: LRRK2, Gene Type: Not Interesting)    0.002408\n",
      "dtype: float64\n",
      "(Gene: PRKCE, Gene Type: Not Interesting)    0.005459\n",
      "(Gene: STK39, Gene Type: Interesting)        0.008790\n",
      "(Gene: STK24, Gene Type: Interesting)        0.049223\n",
      "dtype: float64\n"
     ]
    }
   ],
   "source": [
    "num_top_genes = False\n",
    "pval_cutoff = 0.05\n",
    "\n",
    "cell_types = sorted(list(set(df['ini_mi'].index.get_level_values('Category').tolist())))\n",
    "\n",
    "inst_level = 'Category'\n",
    "\n",
    "keep_genes = []\n",
    "keep_genes_dict = {}\n",
    "\n",
    "for inst_ct in cell_types:\n",
    "    \n",
    "    inst_ct_mat = df['ini_mi'].xs(key=inst_ct, level=inst_level)\n",
    "    inst_other_mat = df['ini_mi'].drop(inst_ct, level=inst_level)\n",
    "    \n",
    "    inst_stats, inst_pvals = ttest_ind(inst_ct_mat, inst_other_mat, axis=0)\n",
    "    \n",
    "    ser_pval = pd.Series(data=inst_pvals, index=df['ini_mi'].columns.tolist()).sort_values()\n",
    "\n",
    "    if num_top_genes == False:\n",
    "        ser_pval_keep = ser_pval[ser_pval < pval_cutoff]\n",
    "\n",
    "    print(ser_pval_keep)\n",
    "    inst_keep = ser_pval_keep.index.tolist()\n",
    "    keep_genes.extend(inst_keep)\n",
    "    keep_genes_dict[inst_ct] = inst_keep"
   ]
  },
  {
   "cell_type": "code",
   "execution_count": 38,
   "metadata": {},
   "outputs": [
    {
     "data": {
      "text/plain": [
       "(Gene: PRKCE, Gene Type: Not Interesting)     0.005459\n",
       "(Gene: STK39, Gene Type: Interesting)         0.008790\n",
       "(Gene: STK24, Gene Type: Interesting)         0.049223\n",
       "(Gene: LMTK3, Gene Type: Not Interesting)     0.070541\n",
       "(Gene: INSRR, Gene Type: Not Interesting)     0.077243\n",
       "(Gene: LATS1, Gene Type: Not Interesting)     0.095774\n",
       "(Gene: AAK1, Gene Type: Not Interesting)      0.113099\n",
       "(Gene: PDK4, Gene Type: Not Interesting)      0.208975\n",
       "(Gene: PRKG2, Gene Type: Not Interesting)     0.228264\n",
       "(Gene: STK31, Gene Type: Interesting)         0.233379\n",
       "(Gene: TBK1, Gene Type: Not Interesting)      0.242821\n",
       "(Gene: DCLK3, Gene Type: Not Interesting)     0.283216\n",
       "(Gene: KDR, Gene Type: Not Interesting)       0.290763\n",
       "(Gene: LRRK2, Gene Type: Not Interesting)     0.341282\n",
       "(Gene: PAK3, Gene Type: Not Interesting)      0.460001\n",
       "(Gene: ERBB4, Gene Type: Not Interesting)     0.466323\n",
       "(Gene: MAPK4, Gene Type: Interesting)         0.500857\n",
       "(Gene: PDGFRA, Gene Type: Interesting)        0.533953\n",
       "(Gene: MYLK3, Gene Type: Not Interesting)     0.537260\n",
       "(Gene: STK32A, Gene Type: Interesting)        0.537284\n",
       "(Gene: UHMK1, Gene Type: Not Interesting)     0.552775\n",
       "(Gene: NEK9, Gene Type: Not Interesting)      0.553970\n",
       "(Gene: EGFR, Gene Type: Interesting)          0.556618\n",
       "(Gene: MAPK11, Gene Type: Interesting)        0.562674\n",
       "(Gene: CDK4, Gene Type: Interesting)          0.567937\n",
       "(Gene: TGFBR1, Gene Type: Interesting)        0.569692\n",
       "(Gene: IRAK1, Gene Type: Interesting)         0.590111\n",
       "(Gene: ERBB2, Gene Type: Not Interesting)     0.603951\n",
       "(Gene: SRPK3, Gene Type: Not Interesting)     0.605436\n",
       "(Gene: ROS1, Gene Type: Interesting)          0.606782\n",
       "(Gene: SRC, Gene Type: Interesting)           0.614782\n",
       "(Gene: MAP2K4, Gene Type: Interesting)        0.630322\n",
       "(Gene: NRK, Gene Type: Interesting)           0.649485\n",
       "(Gene: GRK4, Gene Type: Not Interesting)      0.747733\n",
       "(Gene: NPR1, Gene Type: Interesting)          0.773967\n",
       "(Gene: GRK1, Gene Type: Not Interesting)      0.839774\n",
       "(Gene: ULK4, Gene Type: Interesting)          0.925892\n",
       "(Gene: CAMK2B, Gene Type: Not Interesting)    0.993056\n",
       "dtype: float64"
      ]
     },
     "execution_count": 38,
     "metadata": {},
     "output_type": "execute_result"
    }
   ],
   "source": [
    "ser_pval"
   ]
  },
  {
   "cell_type": "code",
   "execution_count": 35,
   "metadata": {},
   "outputs": [
    {
     "data": {
      "text/plain": [
       "(Gene: PRKCE, Gene Type: Not Interesting)    0.005459\n",
       "(Gene: STK39, Gene Type: Interesting)        0.008790\n",
       "(Gene: STK24, Gene Type: Interesting)        0.049223\n",
       "dtype: float64"
      ]
     },
     "execution_count": 35,
     "metadata": {},
     "output_type": "execute_result"
    }
   ],
   "source": [
    "ser_pval[ser_pval < 0.05]"
   ]
  },
  {
   "cell_type": "code",
   "execution_count": 31,
   "metadata": {},
   "outputs": [
    {
     "data": {
      "text/plain": [
       "array([-0.57817604,  1.88282611, -0.96872281,  0.60111829,  0.59527214,\n",
       "       -0.62489808, -0.45959691, -0.52487892, -0.7389341 ,  1.63764772,\n",
       "       -0.52271428, -2.82468387,  0.32493771, -1.19410989,  1.83699349,\n",
       "        0.54517167, -1.07756185, -0.29008501, -0.74956016, -0.63005868,\n",
       "        1.28712957,  0.0938872 ,  3.02088963, -1.23283495,  0.6823073 ,\n",
       "       -0.58610431, -1.21902214,  0.2041413 , -0.52075566,  0.486809  ,\n",
       "       -0.50915178, -0.57554108,  0.00878442, -2.05935181,  1.09493689,\n",
       "        1.72600935,  0.59929785, -0.6249342 ])"
      ]
     },
     "execution_count": 31,
     "metadata": {},
     "output_type": "execute_result"
    }
   ],
   "source": [
    "inst_stats"
   ]
  },
  {
   "cell_type": "code",
   "execution_count": 28,
   "metadata": {},
   "outputs": [
    {
     "data": {
      "text/plain": [
       "{'five': [('Gene: NEK9', 'Gene Type: Not Interesting'),\n",
       "  ('Gene: ULK4', 'Gene Type: Interesting'),\n",
       "  ('Gene: ROS1', 'Gene Type: Interesting')],\n",
       " 'four': [('Gene: MAPK4', 'Gene Type: Interesting'),\n",
       "  ('Gene: TGFBR1', 'Gene Type: Interesting'),\n",
       "  ('Gene: SRPK3', 'Gene Type: Not Interesting')],\n",
       " 'one': [('Gene: STK32A', 'Gene Type: Interesting'),\n",
       "  ('Gene: STK31', 'Gene Type: Interesting'),\n",
       "  ('Gene: KDR', 'Gene Type: Not Interesting')],\n",
       " 'three': [('Gene: LRRK2', 'Gene Type: Not Interesting'),\n",
       "  ('Gene: SRC', 'Gene Type: Interesting'),\n",
       "  ('Gene: PAK3', 'Gene Type: Not Interesting')],\n",
       " 'two': [('Gene: PRKCE', 'Gene Type: Not Interesting'),\n",
       "  ('Gene: STK39', 'Gene Type: Interesting'),\n",
       "  ('Gene: STK24', 'Gene Type: Interesting')]}"
      ]
     },
     "execution_count": 28,
     "metadata": {},
     "output_type": "execute_result"
    }
   ],
   "source": [
    "keep_genes_dict"
   ]
  },
  {
   "cell_type": "code",
   "execution_count": null,
   "metadata": {},
   "outputs": [],
   "source": []
  }
 ],
 "metadata": {
  "kernelspec": {
   "display_name": "Python [py35]",
   "language": "python",
   "name": "Python [py35]"
  },
  "language_info": {
   "codemirror_mode": {
    "name": "ipython",
    "version": 3
   },
   "file_extension": ".py",
   "mimetype": "text/x-python",
   "name": "python",
   "nbconvert_exporter": "python",
   "pygments_lexer": "ipython3",
   "version": "3.5.2"
  }
 },
 "nbformat": 4,
 "nbformat_minor": 2
}
