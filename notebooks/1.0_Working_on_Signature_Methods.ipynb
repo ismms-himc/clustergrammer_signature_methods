{
 "cells": [
  {
   "cell_type": "markdown",
   "metadata": {},
   "source": [
    "# 1.0 Working on Signature Methods"
   ]
  },
  {
   "cell_type": "code",
   "execution_count": 1,
   "metadata": {},
   "outputs": [],
   "source": [
    "from clustergrammer_widget import *\n",
    "net = Network(clustergrammer_widget)\n",
    "df = {}\n",
    "\n",
    "import clustergrammer_groupby as cby\n",
    "import gene_exp_10x"
   ]
  },
  {
   "cell_type": "code",
   "execution_count": 2,
   "metadata": {},
   "outputs": [],
   "source": [
    "from sklearn.metrics import f1_score\n",
    "import pandas as pd\n",
    "import numpy as np\n",
    "from copy import deepcopy\n",
    "\n",
    "import matplotlib.pyplot as plt\n",
    "%matplotlib inline "
   ]
  },
  {
   "cell_type": "markdown",
   "metadata": {},
   "source": [
    "### Load Default Dataset"
   ]
  },
  {
   "cell_type": "code",
   "execution_count": 3,
   "metadata": {},
   "outputs": [],
   "source": [
    "net.load_file('../data/rc_two_cats.txt')\n",
    "df['ini'] = net.export_df()\n",
    "df['ini'].shape\n",
    "\n",
    "### Drop Gender Category\n",
    "cols = df['ini'].columns.tolist()\n",
    "new_cols = []\n",
    "for inst_col in cols:\n",
    "    inst_col = list(inst_col)\n",
    "    new_col = tuple(inst_col[:2])\n",
    "    new_cols.append(new_col)\n",
    "\n",
    "df['ini'].columns = new_cols"
   ]
  },
  {
   "cell_type": "markdown",
   "metadata": {},
   "source": [
    "### Make Dataset with no categories"
   ]
  },
  {
   "cell_type": "code",
   "execution_count": 4,
   "metadata": {},
   "outputs": [],
   "source": [
    "df['no_cat'] = deepcopy(df['ini'])\n",
    "cols = df['no_cat'].columns.tolist()\n",
    "new_cols = []\n",
    "for inst_col in cols:\n",
    "    new_col = inst_col[0]\n",
    "    new_cols.append(new_col)\n",
    "df['no_cat'].columns = new_cols"
   ]
  },
  {
   "cell_type": "code",
   "execution_count": 5,
   "metadata": {},
   "outputs": [],
   "source": [
    "net.set_cat_color(axis='col', cat_index=1, cat_name='Category: one', inst_color='red')\n",
    "net.set_cat_color(axis='col', cat_index=1, cat_name='Category: two', inst_color='blue')\n",
    "net.set_cat_color(axis='col', cat_index=1, cat_name='Category: three', inst_color='yellow')\n",
    "net.set_cat_color(axis='col', cat_index=1, cat_name='Category: four', inst_color='black')\n",
    "net.set_cat_color(axis='col', cat_index=1, cat_name='Category: five', inst_color='purple')"
   ]
  },
  {
   "cell_type": "markdown",
   "metadata": {},
   "source": [
    "# Visualize Original Dataset"
   ]
  },
  {
   "cell_type": "code",
   "execution_count": 6,
   "metadata": {},
   "outputs": [
    {
     "name": "stderr",
     "output_type": "stream",
     "text": [
      "Widget Javascript not detected.  It may not be installed or enabled properly.\n"
     ]
    },
    {
     "data": {
      "application/vnd.jupyter.widget-view+json": {
       "model_id": "65418b86dc794c668960d526f7683465"
      }
     },
     "metadata": {},
     "output_type": "display_data"
    }
   ],
   "source": [
    "net.load_df(df['ini'])\n",
    "net.cluster()\n",
    "net.widget()"
   ]
  },
  {
   "cell_type": "code",
   "execution_count": 7,
   "metadata": {},
   "outputs": [],
   "source": [
    "max_cl = df['ini'].idxmax(axis=1)"
   ]
  },
  {
   "cell_type": "code",
   "execution_count": 8,
   "metadata": {},
   "outputs": [
    {
     "data": {
      "text/plain": [
       "(Gene: CDK4, Gene Type: Interesting)             (Cell Line: HCC827, Category: one)\n",
       "(Gene: LMTK3, Gene Type: Not Interesting)       (Cell Line: CAL-12T, Category: two)\n",
       "(Gene: LRRK2, Gene Type: Not Interesting)       (Cell Line: H1944, Category: three)\n",
       "(Gene: UHMK1, Gene Type: Not Interesting)       (Cell Line: H1944, Category: three)\n",
       "(Gene: EGFR, Gene Type: Interesting)             (Cell Line: HCC827, Category: one)\n",
       "(Gene: STK32A, Gene Type: Interesting)           (Cell Line: HCC78, Category: five)\n",
       "(Gene: NRK, Gene Type: Interesting)              (Cell Line: HCC827, Category: one)\n",
       "(Gene: ERBB2, Gene Type: Not Interesting)       (Cell Line: CALU-3, Category: four)\n",
       "(Gene: ERBB4, Gene Type: Not Interesting)         (Cell Line: H661, Category: five)\n",
       "(Gene: AAK1, Gene Type: Not Interesting)          (Cell Line: H1650, Category: two)\n",
       "(Gene: SRPK3, Gene Type: Not Interesting)        (Cell Line: H2106, Category: four)\n",
       "(Gene: STK39, Gene Type: Interesting)           (Cell Line: CALU-3, Category: four)\n",
       "(Gene: GRK4, Gene Type: Not Interesting)         (Cell Line: H2106, Category: four)\n",
       "(Gene: TBK1, Gene Type: Not Interesting)         (Cell Line: HCC827, Category: one)\n",
       "(Gene: INSRR, Gene Type: Not Interesting)         (Cell Line: HCC15, Category: two)\n",
       "(Gene: IRAK1, Gene Type: Interesting)         (Cell Line: LOU-NH91, Category: five)\n",
       "(Gene: KDR, Gene Type: Not Interesting)            (Cell Line: H441, Category: one)\n",
       "(Gene: NPR1, Gene Type: Interesting)             (Cell Line: H1437, Category: four)\n",
       "(Gene: PAK3, Gene Type: Not Interesting)         (Cell Line: H460, Category: three)\n",
       "(Gene: PDGFRA, Gene Type: Interesting)           (Cell Line: H1703, Category: five)\n",
       "(Gene: PDK4, Gene Type: Not Interesting)          (Cell Line: HCC15, Category: two)\n",
       "(Gene: ULK4, Gene Type: Interesting)              (Cell Line: H838, Category: five)\n",
       "(Gene: PRKCE, Gene Type: Not Interesting)       (Cell Line: CAL-12T, Category: two)\n",
       "(Gene: PRKG2, Gene Type: Not Interesting)        (Cell Line: H2106, Category: four)\n",
       "(Gene: MAPK4, Gene Type: Interesting)            (Cell Line: H1666, Category: four)\n",
       "(Gene: MAPK11, Gene Type: Interesting)           (Cell Line: H1703, Category: five)\n",
       "(Gene: STK31, Gene Type: Interesting)             (Cell Line: H661, Category: five)\n",
       "(Gene: GRK1, Gene Type: Not Interesting)         (Cell Line: H1666, Category: four)\n",
       "(Gene: ROS1, Gene Type: Interesting)             (Cell Line: HCC78, Category: five)\n",
       "(Gene: MAP2K4, Gene Type: Interesting)           (Cell Line: HCC827, Category: one)\n",
       "(Gene: SRC, Gene Type: Interesting)               (Cell Line: A549, Category: four)\n",
       "(Gene: TGFBR1, Gene Type: Interesting)           (Cell Line: H1666, Category: four)\n",
       "(Gene: CAMK2B, Gene Type: Not Interesting)       (Cell Line: H2106, Category: four)\n",
       "(Gene: STK24, Gene Type: Interesting)            (Cell Line: H2405, Category: five)\n",
       "(Gene: DCLK3, Gene Type: Not Interesting)        (Cell Line: H2106, Category: four)\n",
       "(Gene: LATS1, Gene Type: Not Interesting)           (Cell Line: H23, Category: two)\n",
       "(Gene: NEK9, Gene Type: Not Interesting)        (Cell Line: H1792, Category: three)\n",
       "(Gene: MYLK3, Gene Type: Not Interesting)        (Cell Line: H2342, Category: four)\n",
       "dtype: object"
      ]
     },
     "execution_count": 8,
     "metadata": {},
     "output_type": "execute_result"
    }
   ],
   "source": [
    "max_cl"
   ]
  },
  {
   "cell_type": "markdown",
   "metadata": {},
   "source": [
    "# Run with True Categories"
   ]
  },
  {
   "cell_type": "code",
   "execution_count": 9,
   "metadata": {},
   "outputs": [],
   "source": [
    "# from sklearn.metrics import pairwise_distances\n",
    "# def predict_cats_from_sigs(df_data_ini, df_sig, dist_type='cosine', predict_level='Predict Category',\n",
    "#                            truth_level=1):\n",
    "#     ''' Predict category using signature '''\n",
    "\n",
    "#     keep_rows = df_sig.index.tolist()\n",
    "#     df_data = deepcopy(df_data_ini.ix[keep_rows])\n",
    "\n",
    "#     # calculate sim_mat of df_data and df_sig\n",
    "#     cell_types = df_sig.columns.tolist()\n",
    "#     barcodes = df_data.columns.tolist()\n",
    "#     sim_mat = 1 - pairwise_distances(df_sig.transpose(), df_data.transpose(), metric=dist_type)\n",
    "#     df_sim = pd.DataFrame(data=sim_mat, index=cell_types, columns=barcodes).transpose()\n",
    "\n",
    "#     # get the top column value (most similar signature)\n",
    "#     df_sim_top = df_sim.idxmax(axis=1)\n",
    "    \n",
    "#     # add predicted category name to top list\n",
    "#     top_list = df_sim_top.get_values()\n",
    "#     top_list = [ predict_level + ': ' + x[0] for x in top_list]    \n",
    "\n",
    "#     # add cell type category to input data\n",
    "#     df_cat = deepcopy(df_data)\n",
    "#     cols = df_cat.columns.tolist()\n",
    "#     new_cols = []\n",
    "    \n",
    "#     # check whether the columns have the true category available\n",
    "#     has_truth = False\n",
    "#     if type(cols[0]) is tuple:\n",
    "#         has_truth = True\n",
    "    \n",
    "    \n",
    "#     if has_truth:\n",
    "#         new_cols = [tuple(list(a) + [b]) for a,b in zip(cols, top_list)]\n",
    "#     else:\n",
    "#         new_cols = [tuple([a] + [b]) for a,b in zip(cols, top_list)]\n",
    "    \n",
    "#     # transfer new categories\n",
    "#     df_cat.columns = new_cols\n",
    "    \n",
    "#     # keep track of true and predicted labels\n",
    "#     y_info = {}\n",
    "#     y_info['true'] = []\n",
    "#     y_info['pred'] = []\n",
    "    \n",
    "#     if has_truth:\n",
    "#         y_info['true'] = [x[truth_level].split(': ')[1] for x in cols]\n",
    "#         y_info['pred'] = [x.split(': ')[1] for x in top_list]\n",
    "\n",
    "\n",
    "\n",
    "#     return df_cat, df_sim.transpose(), df_sim.transpose(), y_info"
   ]
  },
  {
   "cell_type": "code",
   "execution_count": 10,
   "metadata": {},
   "outputs": [
    {
     "name": "stdout",
     "output_type": "stream",
     "text": [
      "0.827586206897\n"
     ]
    }
   ],
   "source": [
    "df['cat_sig'], keep_genes, keep_genes_dict = cby.generate_signatures(df['ini'], 'Category', pval_cutoff=0.05)\n",
    "df['pred_cat'], df['sig_sim'], y_info = cby.predict_cats_from_sigs(df['ini'], df['cat_sig'])\n",
    "df['conf'], populations, ser_correct, fraction_correct = cby.confusion_matrix_and_correct_series(y_info)\n",
    "print(fraction_correct)"
   ]
  },
  {
   "cell_type": "markdown",
   "metadata": {},
   "source": [
    "# Run with no True categories"
   ]
  },
  {
   "cell_type": "code",
   "execution_count": 11,
   "metadata": {},
   "outputs": [],
   "source": [
    "# df['cat_sig'], keep_genes, keep_genes_dict = cby.generate_signatures(df['ini'], 'Category')\n",
    "# df['pred_cat'], df['sig_sim'], df['sig_max'], y_info = cby.predict_cats_from_sigs(df['no_cat'], df['cat_sig'])"
   ]
  },
  {
   "cell_type": "markdown",
   "metadata": {},
   "source": [
    "# Category Signature"
   ]
  },
  {
   "cell_type": "code",
   "execution_count": 12,
   "metadata": {},
   "outputs": [
    {
     "name": "stderr",
     "output_type": "stream",
     "text": [
      "Widget Javascript not detected.  It may not be installed or enabled properly.\n"
     ]
    },
    {
     "data": {
      "application/vnd.jupyter.widget-view+json": {
       "model_id": "4ca98ab3196644b6b721e998ec888496"
      }
     },
     "metadata": {},
     "output_type": "display_data"
    }
   ],
   "source": [
    "net.load_df(df['cat_sig'])\n",
    "net.cluster()\n",
    "net.widget()"
   ]
  },
  {
   "cell_type": "markdown",
   "metadata": {},
   "source": [
    "### Visualize Informative Dimensions in Original Data\n",
    "Generate a matrix with only category-informative dimensions/genes."
   ]
  },
  {
   "cell_type": "code",
   "execution_count": 13,
   "metadata": {},
   "outputs": [
    {
     "name": "stderr",
     "output_type": "stream",
     "text": [
      "Widget Javascript not detected.  It may not be installed or enabled properly.\n"
     ]
    },
    {
     "data": {
      "application/vnd.jupyter.widget-view+json": {
       "model_id": "6bd50605a8574c0ab0512d9dc41de7e2"
      }
     },
     "metadata": {},
     "output_type": "display_data"
    }
   ],
   "source": [
    "net.load_df(df['ini'].ix[keep_genes])\n",
    "net.cluster()\n",
    "net.widget()"
   ]
  },
  {
   "cell_type": "markdown",
   "metadata": {},
   "source": [
    "# Predict Category Based on Signature"
   ]
  },
  {
   "cell_type": "code",
   "execution_count": 14,
   "metadata": {},
   "outputs": [],
   "source": [
    "net.load_df(df['pred_cat'])\n",
    "net.set_cat_color(axis='col', cat_index=2, cat_name='Predict Category: one', inst_color='red')\n",
    "net.set_cat_color(axis='col', cat_index=2, cat_name='Predict Category: two', inst_color='blue')\n",
    "net.set_cat_color(axis='col', cat_index=2, cat_name='Predict Category: three', inst_color='yellow')\n",
    "net.set_cat_color(axis='col', cat_index=2, cat_name='Predict Category: four', inst_color='black')\n",
    "net.set_cat_color(axis='col', cat_index=2, cat_name='Predict Category: five', inst_color='purple')"
   ]
  },
  {
   "cell_type": "code",
   "execution_count": 15,
   "metadata": {
    "scrolled": false
   },
   "outputs": [
    {
     "name": "stderr",
     "output_type": "stream",
     "text": [
      "Widget Javascript not detected.  It may not be installed or enabled properly.\n"
     ]
    },
    {
     "data": {
      "application/vnd.jupyter.widget-view+json": {
       "model_id": "fbe7b4f4e1fc41869ee559267b888254"
      }
     },
     "metadata": {},
     "output_type": "display_data"
    }
   ],
   "source": [
    "net.load_df(df['pred_cat'])\n",
    "net.cluster()\n",
    "net.widget()"
   ]
  },
  {
   "cell_type": "code",
   "execution_count": 16,
   "metadata": {},
   "outputs": [
    {
     "name": "stderr",
     "output_type": "stream",
     "text": [
      "Widget Javascript not detected.  It may not be installed or enabled properly.\n"
     ]
    },
    {
     "data": {
      "application/vnd.jupyter.widget-view+json": {
       "model_id": "135f30ffe97348f9bf0d79c90cb0986b"
      }
     },
     "metadata": {},
     "output_type": "display_data"
    }
   ],
   "source": [
    "net.load_df(df['sig_sim'])\n",
    "net.cluster()\n",
    "net.widget()"
   ]
  },
  {
   "cell_type": "code",
   "execution_count": 17,
   "metadata": {},
   "outputs": [],
   "source": [
    "# net.load_df(df['sig_max'])\n",
    "# net.cluster()\n",
    "# net.widget()"
   ]
  },
  {
   "cell_type": "markdown",
   "metadata": {},
   "source": [
    "### F1 Scores"
   ]
  },
  {
   "cell_type": "code",
   "execution_count": 18,
   "metadata": {},
   "outputs": [
    {
     "name": "stdout",
     "output_type": "stream",
     "text": [
      "0.825734265734\n",
      "0.827586206897\n",
      "0.820352061731\n"
     ]
    }
   ],
   "source": [
    "print(f1_score(y_info['true'], y_info['pred'], average='macro'))\n",
    "print(f1_score(y_info['true'], y_info['pred'], average='micro'))\n",
    "print(f1_score(y_info['true'], y_info['pred'], average='weighted'))"
   ]
  },
  {
   "cell_type": "code",
   "execution_count": 19,
   "metadata": {},
   "outputs": [
    {
     "data": {
      "text/plain": [
       "<matplotlib.axes._subplots.AxesSubplot at 0x120684780>"
      ]
     },
     "execution_count": 19,
     "metadata": {},
     "output_type": "execute_result"
    },
    {
     "data": {
      "image/png": "[encoded data removed]",
      "text/plain": [
       "<matplotlib.figure.Figure at 0x120606748>"
      ]
     },
     "metadata": {},
     "output_type": "display_data"
    }
   ],
   "source": [
    "ser_orig_pop = pd.Series(populations['true']).sort_values(ascending=False)\n",
    "ser_pred_pop = pd.Series(populations['pred']).sort_values(ascending=False)\n",
    "df['compare_pop'] = pd.concat([ser_orig_pop, ser_pred_pop], axis=1)\n",
    "df['compare_pop'] = df['compare_pop'].loc[ser_orig_pop.index.tolist()]\n",
    "df['compare_pop'].plot(kind='bar', figsize=(20,7))"
   ]
  },
  {
   "cell_type": "markdown",
   "metadata": {},
   "source": [
    "### Visualize confusion matrix"
   ]
  },
  {
   "cell_type": "code",
   "execution_count": 20,
   "metadata": {},
   "outputs": [
    {
     "name": "stderr",
     "output_type": "stream",
     "text": [
      "Widget Javascript not detected.  It may not be installed or enabled properly.\n"
     ]
    },
    {
     "data": {
      "application/vnd.jupyter.widget-view+json": {
       "model_id": "ce83f9f7c6264da895f0b2e9f390ed4f"
      }
     },
     "metadata": {},
     "output_type": "display_data"
    }
   ],
   "source": [
    "net.load_df(df['conf'])\n",
    "net.cluster()\n",
    "net.widget()"
   ]
  },
  {
   "cell_type": "code",
   "execution_count": 21,
   "metadata": {},
   "outputs": [],
   "source": [
    "real_fraction_correct = deepcopy(fraction_correct)"
   ]
  },
  {
   "cell_type": "markdown",
   "metadata": {},
   "source": [
    "### Calculate the fraction of correct predictions for each category type"
   ]
  },
  {
   "cell_type": "code",
   "execution_count": 22,
   "metadata": {},
   "outputs": [
    {
     "data": {
      "text/plain": [
       "<matplotlib.axes._subplots.AxesSubplot at 0x120720ac8>"
      ]
     },
     "execution_count": 22,
     "metadata": {},
     "output_type": "execute_result"
    },
    {
     "data": {
      "image/png": "[encoded data removed]",
      "text/plain": [
       "<matplotlib.figure.Figure at 0x120742eb8>"
      ]
     },
     "metadata": {},
     "output_type": "display_data"
    }
   ],
   "source": [
    "ser_correct.sort_values(ascending=False).plot(kind='bar', figsize=(20,5), grid=True)"
   ]
  },
  {
   "cell_type": "markdown",
   "metadata": {},
   "source": [
    "# Shuffle Labels and Predict Categories\n",
    "Run "
   ]
  },
  {
   "cell_type": "code",
   "execution_count": 23,
   "metadata": {
    "scrolled": true
   },
   "outputs": [
    {
     "name": "stdout",
     "output_type": "stream",
     "text": [
      "performance (fraction correct) of unshuffled: 0.827586206897\n",
      "mean:  0.6462068965517241 std:  0.09649448470008613\n",
      "previously calc real performance:  0.827586206897\n"
     ]
    }
   ],
   "source": [
    "num_shuffles = 100\n",
    "perform_ser = cby.compare_performance_to_shuffled_labels(df['ini'], df['cat_sig'], 'Category', \n",
    "                                                         num_shuffles=num_shuffles)\n",
    "print('mean: ', perform_ser.mean(), 'std: ', perform_ser.std())\n",
    "print('previously calc real performance: ', real_fraction_correct)"
   ]
  },
  {
   "cell_type": "code",
   "execution_count": 24,
   "metadata": {},
   "outputs": [
    {
     "name": "stdout",
     "output_type": "stream",
     "text": [
      "real labels perform in the top 3.0% of shuffled labels\n"
     ]
    }
   ],
   "source": [
    "real_performance = perform_ser[perform_ser > real_fraction_correct].shape[0]/num_shuffles\n",
    "print('real labels perform in the top ' + str(real_performance*100) + '% of shuffled labels')"
   ]
  },
  {
   "cell_type": "markdown",
   "metadata": {},
   "source": [
    "### Example Shuffled Dataset"
   ]
  },
  {
   "cell_type": "code",
   "execution_count": 25,
   "metadata": {},
   "outputs": [],
   "source": [
    "# net.load_df(df['shuffle'])\n",
    "# net.cluster()\n",
    "# net.widget()"
   ]
  },
  {
   "cell_type": "code",
   "execution_count": null,
   "metadata": {},
   "outputs": [],
   "source": []
  }
 ],
 "metadata": {
  "kernelspec": {
   "display_name": "Python 3",
   "language": "python",
   "name": "python3"
  },
  "language_info": {
   "codemirror_mode": {
    "name": "ipython",
    "version": 3
   },
   "file_extension": ".py",
   "mimetype": "text/x-python",
   "name": "python",
   "nbconvert_exporter": "python",
   "pygments_lexer": "ipython3",
   "version": "3.5.2"
  },
  "widgets": {
   "application/vnd.jupyter.widget-state+json": {
    "state": {},
    "version_major": 1,
    "version_minor": 0
   }
  }
 },
 "nbformat": 4,
 "nbformat_minor": 2
}
