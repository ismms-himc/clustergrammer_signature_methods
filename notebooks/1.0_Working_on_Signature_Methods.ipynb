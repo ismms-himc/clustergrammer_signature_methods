{
 "cells": [
  {
   "cell_type": "markdown",
   "metadata": {},
   "source": [
    "# 1.0 Working on Signature Methods"
   ]
  },
  {
   "cell_type": "code",
   "execution_count": 1,
   "metadata": {},
   "outputs": [],
   "source": [
    "from clustergrammer_widget import *\n",
    "net = Network(clustergrammer_widget)\n",
    "df = {}\n",
    "\n",
    "import clustergrammer_groupby as cby\n",
    "import gene_exp_10x"
   ]
  },
  {
   "cell_type": "code",
   "execution_count": 2,
   "metadata": {},
   "outputs": [],
   "source": [
    "from sklearn.metrics import f1_score\n",
    "import pandas as pd\n",
    "import numpy as np\n",
    "from copy import deepcopy\n",
    "\n",
    "import matplotlib.pyplot as plt\n",
    "%matplotlib inline "
   ]
  },
  {
   "cell_type": "markdown",
   "metadata": {},
   "source": [
    "### Load Default Dataset"
   ]
  },
  {
   "cell_type": "code",
   "execution_count": 3,
   "metadata": {},
   "outputs": [],
   "source": [
    "net.load_file('../data/rc_two_cats.txt')\n",
    "df['ini'] = net.export_df()\n",
    "df['ini'].shape\n",
    "\n",
    "### Drop Gender Category\n",
    "cols = df['ini'].columns.tolist()\n",
    "new_cols = []\n",
    "for inst_col in cols:\n",
    "    inst_col = list(inst_col)\n",
    "    new_col = tuple(inst_col[:2])\n",
    "    new_cols.append(new_col)\n",
    "\n",
    "df['ini'].columns = new_cols"
   ]
  },
  {
   "cell_type": "markdown",
   "metadata": {},
   "source": [
    "### Make Dataset with no categories"
   ]
  },
  {
   "cell_type": "code",
   "execution_count": 4,
   "metadata": {},
   "outputs": [],
   "source": [
    "df['no_cat'] = deepcopy(df['ini'])\n",
    "cols = df['no_cat'].columns.tolist()\n",
    "new_cols = []\n",
    "for inst_col in cols:\n",
    "    new_col = inst_col[0]\n",
    "    new_cols.append(new_col)\n",
    "df['no_cat'].columns = new_cols"
   ]
  },
  {
   "cell_type": "code",
   "execution_count": 5,
   "metadata": {},
   "outputs": [],
   "source": [
    "net.set_cat_color(axis='col', cat_index=1, cat_name='Category: one', inst_color='red')\n",
    "net.set_cat_color(axis='col', cat_index=1, cat_name='Category: two', inst_color='blue')\n",
    "net.set_cat_color(axis='col', cat_index=1, cat_name='Category: three', inst_color='yellow')\n",
    "net.set_cat_color(axis='col', cat_index=1, cat_name='Category: four', inst_color='black')\n",
    "net.set_cat_color(axis='col', cat_index=1, cat_name='Category: five', inst_color='purple')"
   ]
  },
  {
   "cell_type": "markdown",
   "metadata": {},
   "source": [
    "# Visualize Original Dataset"
   ]
  },
  {
   "cell_type": "code",
   "execution_count": 6,
   "metadata": {},
   "outputs": [
    {
     "name": "stderr",
     "output_type": "stream",
     "text": [
      "Widget Javascript not detected.  It may not be installed or enabled properly.\n"
     ]
    },
    {
     "data": {
      "application/vnd.jupyter.widget-view+json": {
       "model_id": "868418982f5c4f84ae358ec5b38da635"
      }
     },
     "metadata": {},
     "output_type": "display_data"
    }
   ],
   "source": [
    "net.load_df(df['ini'])\n",
    "net.cluster()\n",
    "net.widget()"
   ]
  },
  {
   "cell_type": "code",
   "execution_count": 7,
   "metadata": {},
   "outputs": [],
   "source": [
    "max_cl = df['ini'].idxmax(axis=1)"
   ]
  },
  {
   "cell_type": "markdown",
   "metadata": {},
   "source": [
    "# Similarity of Same- and Different-Category Samples"
   ]
  },
  {
   "cell_type": "code",
   "execution_count": 8,
   "metadata": {},
   "outputs": [
    {
     "name": "stdout",
     "output_type": "stream",
     "text": [
      "{'mannwhitney': 1.7944555596854163e-06, 'ttest': 2.1617249932393951e-05}\n",
      "CPU times: user 41.8 ms, sys: 1.75 ms, total: 43.5 ms\n",
      "Wall time: 42.4 ms\n"
     ]
    },
    {
     "data": {
      "image/png": "[encoded data removed]",
      "text/plain": [
       "<Figure size 432x288 with 1 Axes>"
      ]
     },
     "metadata": {},
     "output_type": "display_data"
    }
   ],
   "source": [
    "%%time\n",
    "sim_dict, pval_dict = cby.sim_same_and_diff_category_samples(df['ini'])\n",
    "print(pval_dict)\n",
    "\n",
    "df['sim_cats'] = pd.DataFrame(sim_dict)\n",
    "ax = df['sim_cats'].boxplot(return_type='axes')"
   ]
  },
  {
   "cell_type": "markdown",
   "metadata": {},
   "source": [
    "# Run with True Categories"
   ]
  },
  {
   "cell_type": "code",
   "execution_count": 9,
   "metadata": {},
   "outputs": [
    {
     "name": "stdout",
     "output_type": "stream",
     "text": [
      "0.827586206897\n"
     ]
    }
   ],
   "source": [
    "unknown_thresh = 0.1\n",
    "df['cat_sig'], keep_genes, keep_genes_dict = cby.generate_signatures(df['ini'], 'Category', pval_cutoff=0.05)\n",
    "df['pred_cat'], df['sig_sim'], y_info = cby.predict_cats_from_sigs(df['ini'], df['cat_sig'], unknown_thresh=unknown_thresh)\n",
    "df['conf'], populations, ser_correct, fraction_correct = cby.confusion_matrix_and_correct_series(y_info)\n",
    "print(fraction_correct)"
   ]
  },
  {
   "cell_type": "markdown",
   "metadata": {},
   "source": [
    "# Run with no True categories"
   ]
  },
  {
   "cell_type": "code",
   "execution_count": 10,
   "metadata": {},
   "outputs": [],
   "source": [
    "# df['cat_sig'], keep_genes, keep_genes_dict = cby.generate_signatures(df['ini'], 'Category')\n",
    "# df['pred_cat'], df['sig_sim'], df['sig_max'], y_info = cby.predict_cats_from_sigs(df['no_cat'], df['cat_sig'])"
   ]
  },
  {
   "cell_type": "markdown",
   "metadata": {},
   "source": [
    "# Category Signature"
   ]
  },
  {
   "cell_type": "code",
   "execution_count": 11,
   "metadata": {},
   "outputs": [
    {
     "name": "stderr",
     "output_type": "stream",
     "text": [
      "Widget Javascript not detected.  It may not be installed or enabled properly.\n"
     ]
    },
    {
     "data": {
      "application/vnd.jupyter.widget-view+json": {
       "model_id": "f10b8551d75a42e39ce66ffa6890fb9c"
      }
     },
     "metadata": {},
     "output_type": "display_data"
    }
   ],
   "source": [
    "net.load_df(df['cat_sig'])\n",
    "net.cluster()\n",
    "net.widget()"
   ]
  },
  {
   "cell_type": "markdown",
   "metadata": {},
   "source": [
    "### Visualize Informative Dimensions in Original Data\n",
    "Generate a matrix with only category-informative dimensions/genes."
   ]
  },
  {
   "cell_type": "code",
   "execution_count": 12,
   "metadata": {},
   "outputs": [
    {
     "name": "stderr",
     "output_type": "stream",
     "text": [
      "/Users/nickfernandez/anaconda/envs/py35/lib/python3.5/site-packages/ipykernel/__main__.py:1: DeprecationWarning: \n",
      ".ix is deprecated. Please use\n",
      ".loc for label based indexing or\n",
      ".iloc for positional indexing\n",
      "\n",
      "See the documentation here:\n",
      "http://pandas.pydata.org/pandas-docs/stable/indexing.html#ix-indexer-is-deprecated\n",
      "  if __name__ == '__main__':\n",
      "Widget Javascript not detected.  It may not be installed or enabled properly.\n"
     ]
    },
    {
     "data": {
      "application/vnd.jupyter.widget-view+json": {
       "model_id": "22415f870f4a452fb1548abdea599749"
      }
     },
     "metadata": {},
     "output_type": "display_data"
    }
   ],
   "source": [
    "net.load_df(df['ini'].ix[keep_genes])\n",
    "net.cluster()\n",
    "net.widget()"
   ]
  },
  {
   "cell_type": "markdown",
   "metadata": {},
   "source": [
    "# Predict Category Based on Signature"
   ]
  },
  {
   "cell_type": "code",
   "execution_count": 13,
   "metadata": {},
   "outputs": [],
   "source": [
    "net.load_df(df['pred_cat'])\n",
    "net.set_cat_color(axis='col', cat_index=2, cat_name='Predict Category: one', inst_color='red')\n",
    "net.set_cat_color(axis='col', cat_index=2, cat_name='Predict Category: two', inst_color='blue')\n",
    "net.set_cat_color(axis='col', cat_index=2, cat_name='Predict Category: three', inst_color='yellow')\n",
    "net.set_cat_color(axis='col', cat_index=2, cat_name='Predict Category: four', inst_color='black')\n",
    "net.set_cat_color(axis='col', cat_index=2, cat_name='Predict Category: five', inst_color='purple')"
   ]
  },
  {
   "cell_type": "code",
   "execution_count": 14,
   "metadata": {
    "scrolled": false
   },
   "outputs": [
    {
     "name": "stderr",
     "output_type": "stream",
     "text": [
      "Widget Javascript not detected.  It may not be installed or enabled properly.\n"
     ]
    },
    {
     "data": {
      "application/vnd.jupyter.widget-view+json": {
       "model_id": "c914b565bfcc4ea8b9eca5d557d2d1fc"
      }
     },
     "metadata": {},
     "output_type": "display_data"
    }
   ],
   "source": [
    "net.load_df(df['pred_cat'])\n",
    "net.cluster()\n",
    "net.widget()"
   ]
  },
  {
   "cell_type": "code",
   "execution_count": 15,
   "metadata": {},
   "outputs": [
    {
     "name": "stderr",
     "output_type": "stream",
     "text": [
      "Widget Javascript not detected.  It may not be installed or enabled properly.\n"
     ]
    },
    {
     "data": {
      "application/vnd.jupyter.widget-view+json": {
       "model_id": "da1d5e21fa974e95b1957989270f6006"
      }
     },
     "metadata": {},
     "output_type": "display_data"
    }
   ],
   "source": [
    "net.load_df(df['sig_sim'])\n",
    "net.cluster()\n",
    "net.widget()"
   ]
  },
  {
   "cell_type": "code",
   "execution_count": 16,
   "metadata": {},
   "outputs": [],
   "source": [
    "# net.load_df(df['sig_max'])\n",
    "# net.cluster()\n",
    "# net.widget()"
   ]
  },
  {
   "cell_type": "markdown",
   "metadata": {},
   "source": [
    "### F1 Scores"
   ]
  },
  {
   "cell_type": "code",
   "execution_count": 17,
   "metadata": {},
   "outputs": [
    {
     "name": "stdout",
     "output_type": "stream",
     "text": [
      "0.825734265734\n",
      "0.827586206897\n",
      "0.820352061731\n"
     ]
    }
   ],
   "source": [
    "print(f1_score(y_info['true'], y_info['pred'], average='macro'))\n",
    "print(f1_score(y_info['true'], y_info['pred'], average='micro'))\n",
    "print(f1_score(y_info['true'], y_info['pred'], average='weighted'))"
   ]
  },
  {
   "cell_type": "code",
   "execution_count": 18,
   "metadata": {},
   "outputs": [
    {
     "name": "stderr",
     "output_type": "stream",
     "text": [
      "/Users/nickfernandez/anaconda/envs/py35/lib/python3.5/site-packages/ipykernel/__main__.py:3: FutureWarning: Sorting because non-concatenation axis is not aligned. A future version\n",
      "of pandas will change to not sort by default.\n",
      "\n",
      "To accept the future behavior, pass 'sort=False'.\n",
      "\n",
      "To retain the current behavior and silence the warning, pass 'sort=True'.\n",
      "\n",
      "  app.launch_new_instance()\n"
     ]
    },
    {
     "data": {
      "text/plain": [
       "<matplotlib.axes._subplots.AxesSubplot at 0x11ae0ecc0>"
      ]
     },
     "execution_count": 18,
     "metadata": {},
     "output_type": "execute_result"
    },
    {
     "data": {
      "image/png": "[encoded data removed]",
      "text/plain": [
       "<Figure size 1440x504 with 1 Axes>"
      ]
     },
     "metadata": {},
     "output_type": "display_data"
    }
   ],
   "source": [
    "ser_orig_pop = pd.Series(populations['true']).sort_values(ascending=False)\n",
    "ser_pred_pop = pd.Series(populations['pred']).sort_values(ascending=False)\n",
    "df['compare_pop'] = pd.concat([ser_orig_pop, ser_pred_pop], axis=1)\n",
    "df['compare_pop'] = df['compare_pop'].loc[ser_orig_pop.index.tolist()]\n",
    "df['compare_pop'].plot(kind='bar', figsize=(20,7))"
   ]
  },
  {
   "cell_type": "markdown",
   "metadata": {},
   "source": [
    "### Visualize confusion matrix"
   ]
  },
  {
   "cell_type": "code",
   "execution_count": 19,
   "metadata": {},
   "outputs": [
    {
     "name": "stderr",
     "output_type": "stream",
     "text": [
      "Widget Javascript not detected.  It may not be installed or enabled properly.\n"
     ]
    },
    {
     "data": {
      "application/vnd.jupyter.widget-view+json": {
       "model_id": "88e4c46710df4cd7962bf2d22046e19f"
      }
     },
     "metadata": {},
     "output_type": "display_data"
    }
   ],
   "source": [
    "net.load_df(df['conf'])\n",
    "net.cluster()\n",
    "net.widget()"
   ]
  },
  {
   "cell_type": "code",
   "execution_count": 20,
   "metadata": {},
   "outputs": [],
   "source": [
    "real_fraction_correct = deepcopy(fraction_correct)"
   ]
  },
  {
   "cell_type": "markdown",
   "metadata": {},
   "source": [
    "### Calculate the fraction of correct predictions for each category type"
   ]
  },
  {
   "cell_type": "code",
   "execution_count": 21,
   "metadata": {},
   "outputs": [
    {
     "data": {
      "text/plain": [
       "<matplotlib.axes._subplots.AxesSubplot at 0x11ad580f0>"
      ]
     },
     "execution_count": 21,
     "metadata": {},
     "output_type": "execute_result"
    },
    {
     "data": {
      "image/png": "[encoded data removed]",
      "text/plain": [
       "<Figure size 1440x360 with 1 Axes>"
      ]
     },
     "metadata": {},
     "output_type": "display_data"
    }
   ],
   "source": [
    "ser_correct.sort_values(ascending=False).plot(kind='bar', figsize=(20,5), grid=True)"
   ]
  },
  {
   "cell_type": "markdown",
   "metadata": {},
   "source": [
    "# Shuffle Labels and Predict Categories\n",
    "Run "
   ]
  },
  {
   "cell_type": "code",
   "execution_count": 22,
   "metadata": {
    "scrolled": true
   },
   "outputs": [
    {
     "name": "stdout",
     "output_type": "stream",
     "text": [
      "performance (fraction correct) of unshuffled: 0.827586206897\n"
     ]
    },
    {
     "name": "stderr",
     "output_type": "stream",
     "text": [
      "/Users/nickfernandez/Documents/clustergrammer_signature_methods/notebooks/clustergrammer_groupby.py:193: RuntimeWarning: invalid value encountered in long_scalars\n",
      "  inst_correct = df_conf[inst_cat].loc[inst_cat] / cat_counts[inst_cat]\n"
     ]
    },
    {
     "name": "stdout",
     "output_type": "stream",
     "text": [
      "mean:  0.639655172414 std:  0.0965884141862\n",
      "previously calc real performance:  0.827586206897\n"
     ]
    }
   ],
   "source": [
    "num_shuffles = 100\n",
    "perform_ser = cby.compare_performance_to_shuffled_labels(df['ini'], 'Category', \n",
    "                                                         num_shuffles=num_shuffles,\n",
    "                                                        unknown_thresh=unknown_thresh)\n",
    "print('mean: ', perform_ser.mean(), 'std: ', perform_ser.std())\n",
    "print('previously calc real performance: ', real_fraction_correct)"
   ]
  },
  {
   "cell_type": "code",
   "execution_count": 23,
   "metadata": {},
   "outputs": [
    {
     "name": "stdout",
     "output_type": "stream",
     "text": [
      "real labels perform in the top 2.0% of shuffled labels\n"
     ]
    }
   ],
   "source": [
    "real_performance = perform_ser[perform_ser > real_fraction_correct].shape[0]/num_shuffles\n",
    "print('real labels perform in the top ' + str(real_performance*100) + '% of shuffled labels')"
   ]
  },
  {
   "cell_type": "markdown",
   "metadata": {},
   "source": [
    "# Compare Similarity of intra vs inter category samples"
   ]
  },
  {
   "cell_type": "code",
   "execution_count": 24,
   "metadata": {},
   "outputs": [],
   "source": [
    "from sklearn.metrics import pairwise_distances\n",
    "from scipy.spatial.distance import pdist"
   ]
  },
  {
   "cell_type": "code",
   "execution_count": 25,
   "metadata": {},
   "outputs": [
    {
     "data": {
      "text/plain": [
       "(38, 29)"
      ]
     },
     "execution_count": 25,
     "metadata": {},
     "output_type": "execute_result"
    }
   ],
   "source": [
    "df['ini'].shape"
   ]
  },
  {
   "cell_type": "code",
   "execution_count": 26,
   "metadata": {},
   "outputs": [
    {
     "data": {
      "text/plain": [
       "(406,)"
      ]
     },
     "execution_count": 26,
     "metadata": {},
     "output_type": "execute_result"
    }
   ],
   "source": [
    "# compute distnace between rows (transpose to get cols as rows)\n",
    "dist_arr = 1 - pdist(df['ini'].transpose(), metric='cosine')\n",
    "dist_arr.shape"
   ]
  },
  {
   "cell_type": "markdown",
   "metadata": {},
   "source": [
    "### get sample combinations\n"
   ]
  },
  {
   "cell_type": "code",
   "execution_count": 27,
   "metadata": {},
   "outputs": [
    {
     "data": {
      "text/plain": [
       "406"
      ]
     },
     "execution_count": 27,
     "metadata": {},
     "output_type": "execute_result"
    }
   ],
   "source": [
    "from itertools import combinations\n",
    "sample_combos = list(combinations(range(df['ini'].shape[1]),2))\n",
    "len(sample_combos)"
   ]
  },
  {
   "cell_type": "code",
   "execution_count": 28,
   "metadata": {},
   "outputs": [
    {
     "data": {
      "text/plain": [
       "[('Cell Line: H1650', 'Category: two'),\n",
       " ('Cell Line: H23', 'Category: two'),\n",
       " ('Cell Line: CAL-12T', 'Category: two'),\n",
       " ('Cell Line: H358', 'Category: one')]"
      ]
     },
     "execution_count": 28,
     "metadata": {},
     "output_type": "execute_result"
    }
   ],
   "source": [
    "cols[:4]"
   ]
  },
  {
   "cell_type": "code",
   "execution_count": 29,
   "metadata": {},
   "outputs": [
    {
     "data": {
      "text/plain": [
       "[(0, 1), (0, 2), (0, 3)]"
      ]
     },
     "execution_count": 29,
     "metadata": {},
     "output_type": "execute_result"
    }
   ],
   "source": [
    "sample_combos[:3]"
   ]
  },
  {
   "cell_type": "code",
   "execution_count": 30,
   "metadata": {},
   "outputs": [],
   "source": [
    "sample_names = [(cols[x[0]][0] + '_' + cols[x[1]][0], cols[x[0]][1], cols[x[1]][1]) for x in sample_combos]"
   ]
  },
  {
   "cell_type": "code",
   "execution_count": 31,
   "metadata": {},
   "outputs": [
    {
     "name": "stdout",
     "output_type": "stream",
     "text": [
      "('Cell Line: H1650_Cell Line: H23', 'Category: two', 'Category: two')\n",
      "('Cell Line: H1650_Cell Line: CAL-12T', 'Category: two', 'Category: two')\n",
      "('Cell Line: H1650_Cell Line: H358', 'Category: two', 'Category: one')\n"
     ]
    }
   ],
   "source": [
    "print(sample_names[0])\n",
    "print(sample_names[1])\n",
    "print(sample_names[2])"
   ]
  },
  {
   "cell_type": "markdown",
   "metadata": {},
   "source": [
    "### get intra-category sample similarities"
   ]
  },
  {
   "cell_type": "code",
   "execution_count": 32,
   "metadata": {},
   "outputs": [],
   "source": [
    "ser_dist = pd.Series(data=dist_arr, index=sample_names)"
   ]
  },
  {
   "cell_type": "code",
   "execution_count": 33,
   "metadata": {},
   "outputs": [
    {
     "data": {
      "text/plain": [
       "'0.23.1'"
      ]
     },
     "execution_count": 33,
     "metadata": {},
     "output_type": "execute_result"
    }
   ],
   "source": [
    "pd.__version__"
   ]
  },
  {
   "cell_type": "code",
   "execution_count": 34,
   "metadata": {},
   "outputs": [
    {
     "data": {
      "text/plain": [
       "(Cell Line: H1650_Cell Line: H23, Category: two, Category: two)       -0.079560\n",
       "(Cell Line: H1650_Cell Line: CAL-12T, Category: two, Category: two)    0.033912\n",
       "(Cell Line: H1650_Cell Line: H358, Category: two, Category: one)       0.206788\n",
       "(Cell Line: H1650_Cell Line: H1975, Category: two, Category: two)      0.072484\n",
       "(Cell Line: H1650_Cell Line: HCC15, Category: two, Category: two)     -0.117417\n",
       "(Cell Line: H1650_Cell Line: H1355, Category: two, Category: three)   -0.041474\n",
       "(Cell Line: H1650_Cell Line: HCC827, Category: two, Category: one)     0.191598\n",
       "(Cell Line: H1650_Cell Line: H2405, Category: two, Category: five)     0.010358\n",
       "(Cell Line: H1650_Cell Line: HCC78, Category: two, Category: five)     0.045813\n",
       "(Cell Line: H1650_Cell Line: H1666, Category: two, Category: four)     0.027328\n",
       "dtype: float64"
      ]
     },
     "execution_count": 34,
     "metadata": {},
     "output_type": "execute_result"
    }
   ],
   "source": [
    "ser_dist[0:10]"
   ]
  },
  {
   "cell_type": "code",
   "execution_count": 35,
   "metadata": {},
   "outputs": [
    {
     "name": "stderr",
     "output_type": "stream",
     "text": [
      "/Users/nickfernandez/anaconda/envs/py35/lib/python3.5/site-packages/ipykernel/__main__.py:1: DeprecationWarning: \n",
      ".ix is deprecated. Please use\n",
      ".loc for label based indexing or\n",
      ".iloc for positional indexing\n",
      "\n",
      "See the documentation here:\n",
      "http://pandas.pydata.org/pandas-docs/stable/indexing.html#ix-indexer-is-deprecated\n",
      "  if __name__ == '__main__':\n"
     ]
    },
    {
     "data": {
      "text/plain": [
       "(Cell Line: H1650_Cell Line: H23, Category: two, Category: two)       -0.079560\n",
       "(Cell Line: H1650_Cell Line: CAL-12T, Category: two, Category: two)    0.033912\n",
       "dtype: float64"
      ]
     },
     "execution_count": 35,
     "metadata": {},
     "output_type": "execute_result"
    }
   ],
   "source": [
    "ser_dist.ix[sample_names[0:2]]"
   ]
  },
  {
   "cell_type": "code",
   "execution_count": 36,
   "metadata": {},
   "outputs": [
    {
     "data": {
      "text/plain": [
       "'Category: two'"
      ]
     },
     "execution_count": 36,
     "metadata": {},
     "output_type": "execute_result"
    }
   ],
   "source": [
    "sample_names[1][2]"
   ]
  },
  {
   "cell_type": "code",
   "execution_count": 37,
   "metadata": {},
   "outputs": [
    {
     "name": "stdout",
     "output_type": "stream",
     "text": [
      "71\n",
      "335\n",
      "406\n"
     ]
    }
   ],
   "source": [
    "# find intra-cat sample comparisons\n",
    "intra_cat = [x for x in sample_names if x[1] == x[2]]\n",
    "print(len(intra_cat))\n",
    "\n",
    "# find inter-cat sample comparisons\n",
    "inter_cat = [x for x in sample_names if x[1] != x[2]]\n",
    "print(len(inter_cat))\n",
    "\n",
    "print(len(intra_cat) + len(inter_cat))"
   ]
  },
  {
   "cell_type": "code",
   "execution_count": 38,
   "metadata": {},
   "outputs": [
    {
     "name": "stdout",
     "output_type": "stream",
     "text": [
      "71\n",
      "(71,)\n"
     ]
    }
   ],
   "source": [
    "print(len(intra_cat))\n",
    "print(ser_dist[intra_cat].shape)"
   ]
  },
  {
   "cell_type": "code",
   "execution_count": 39,
   "metadata": {},
   "outputs": [
    {
     "name": "stdout",
     "output_type": "stream",
     "text": [
      "(71,) (335,)\n"
     ]
    }
   ],
   "source": [
    "ser_same = ser_dist[intra_cat]\n",
    "ser_same.name = 'Same Category'\n",
    "ser_diff = ser_dist[inter_cat]\n",
    "ser_diff.name = 'Different Category'\n",
    "print(ser_same.shape, ser_diff.shape)"
   ]
  },
  {
   "cell_type": "code",
   "execution_count": 40,
   "metadata": {},
   "outputs": [
    {
     "data": {
      "text/plain": [
       "0.1259335031728058"
      ]
     },
     "execution_count": 40,
     "metadata": {},
     "output_type": "execute_result"
    }
   ],
   "source": [
    "ser_same.mean()"
   ]
  },
  {
   "cell_type": "code",
   "execution_count": 41,
   "metadata": {},
   "outputs": [
    {
     "data": {
      "text/plain": [
       "0.014070877194372661"
      ]
     },
     "execution_count": 41,
     "metadata": {},
     "output_type": "execute_result"
    }
   ],
   "source": [
    "ser_diff.mean()"
   ]
  },
  {
   "cell_type": "code",
   "execution_count": 42,
   "metadata": {},
   "outputs": [
    {
     "data": {
      "text/plain": [
       "(406, 2)"
      ]
     },
     "execution_count": 42,
     "metadata": {},
     "output_type": "execute_result"
    }
   ],
   "source": [
    "df['sim_cats'] = pd.DataFrame([ser_same, ser_diff]).transpose()\n",
    "df['sim_cats'].shape"
   ]
  },
  {
   "cell_type": "code",
   "execution_count": 43,
   "metadata": {},
   "outputs": [
    {
     "data": {
      "text/plain": [
       "<matplotlib.axes._subplots.AxesSubplot at 0x11bcb99e8>"
      ]
     },
     "execution_count": 43,
     "metadata": {},
     "output_type": "execute_result"
    },
    {
     "data": {
      "image/png": "[encoded data removed]",
      "text/plain": [
       "<Figure size 432x288 with 1 Axes>"
      ]
     },
     "metadata": {},
     "output_type": "display_data"
    }
   ],
   "source": [
    "ser_diff.hist(alpha=0.75)\n",
    "ser_same.hist(alpha=1.0)"
   ]
  },
  {
   "cell_type": "markdown",
   "metadata": {},
   "source": [
    "### Perform T-test not assuming equal variance (Welch's t-test)"
   ]
  },
  {
   "cell_type": "code",
   "execution_count": 44,
   "metadata": {},
   "outputs": [],
   "source": [
    "from scipy.stats import ttest_ind"
   ]
  },
  {
   "cell_type": "code",
   "execution_count": 45,
   "metadata": {},
   "outputs": [
    {
     "data": {
      "text/plain": [
       "Ttest_indResult(statistic=-5.3631075872892886, pvalue=1.3797666655059502e-07)"
      ]
     },
     "execution_count": 45,
     "metadata": {},
     "output_type": "execute_result"
    }
   ],
   "source": [
    "ttest_ind(ser_diff, ser_same)"
   ]
  },
  {
   "cell_type": "code",
   "execution_count": 46,
   "metadata": {},
   "outputs": [
    {
     "data": {
      "text/plain": [
       "Ttest_indResult(statistic=-4.4891354446799481, pvalue=2.1617249932393951e-05)"
      ]
     },
     "execution_count": 46,
     "metadata": {},
     "output_type": "execute_result"
    }
   ],
   "source": [
    "ttest_ind(ser_diff, ser_same, equal_var=False)"
   ]
  },
  {
   "cell_type": "code",
   "execution_count": 47,
   "metadata": {},
   "outputs": [
    {
     "data": {
      "image/png": "[encoded data removed]",
      "text/plain": [
       "<Figure size 432x288 with 1 Axes>"
      ]
     },
     "metadata": {},
     "output_type": "display_data"
    }
   ],
   "source": [
    "ax = df['sim_cats'].boxplot(return_type='axes')"
   ]
  },
  {
   "cell_type": "code",
   "execution_count": null,
   "metadata": {},
   "outputs": [],
   "source": []
  }
 ],
 "metadata": {
  "kernelspec": {
   "display_name": "Python [py35]",
   "language": "python",
   "name": "Python [py35]"
  },
  "language_info": {
   "codemirror_mode": {
    "name": "ipython",
    "version": 3
   },
   "file_extension": ".py",
   "mimetype": "text/x-python",
   "name": "python",
   "nbconvert_exporter": "python",
   "pygments_lexer": "ipython3",
   "version": "3.5.2"
  },
  "widgets": {
   "application/vnd.jupyter.widget-state+json": {
    "state": {},
    "version_major": 1,
    "version_minor": 0
   }
  }
 },
 "nbformat": 4,
 "nbformat_minor": 2
}
