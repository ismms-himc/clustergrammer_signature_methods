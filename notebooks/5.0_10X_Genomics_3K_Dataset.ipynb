{
 "cells": [
  {
   "cell_type": "markdown",
   "metadata": {},
   "source": [
    "# 5.0 10X Genomics PBMC 3K Dataset"
   ]
  },
  {
   "cell_type": "code",
   "execution_count": 32,
   "metadata": {},
   "outputs": [],
   "source": [
    "from clustergrammer_widget import *\n",
    "net = Network(clustergrammer_widget)\n",
    "df = {}\n",
    "\n",
    "import clustergrammer_groupby as cby\n",
    "import gene_exp_10x"
   ]
  },
  {
   "cell_type": "code",
   "execution_count": 33,
   "metadata": {},
   "outputs": [],
   "source": [
    "from sklearn.metrics import f1_score\n",
    "import pandas as pd\n",
    "import numpy as np\n",
    "from copy import deepcopy\n",
    "\n",
    "import matplotlib.pyplot as plt\n",
    "%matplotlib inline "
   ]
  },
  {
   "cell_type": "markdown",
   "metadata": {},
   "source": [
    "### Load Data"
   ]
  },
  {
   "cell_type": "code",
   "execution_count": 34,
   "metadata": {},
   "outputs": [
    {
     "data": {
      "text/plain": [
       "(32738, 2700)"
      ]
     },
     "execution_count": 34,
     "metadata": {},
     "output_type": "execute_result"
    }
   ],
   "source": [
    "df['ge-ini'] = gene_exp_10x.load_gene_exp_to_df('../data/pbmc3k_filtered_gene_bc_matrices/hg19/')\n",
    "df['ge-ini'].shape"
   ]
  },
  {
   "cell_type": "code",
   "execution_count": 35,
   "metadata": {},
   "outputs": [
    {
     "name": "stdout",
     "output_type": "stream",
     "text": [
      "32738\n",
      "32546\n",
      "['MTRNR2L11_3066', 'MTRNR2L12_6165', 'MTRNR2L13_7998', 'MTRF1L_11630', 'MTRNR2L6_13036', 'MTRNR2L10_13646', 'MTRNR2L7_17194', 'MTRNR2L5_17355', 'MTRNR2L8_18439', 'MTRF1_21974', 'MTRNR2L4_24777', 'MTRNR2L1_26599', 'MTRNR2L3_29240', 'MT-ND1_32696', 'MT-ND2_32697', 'MT-CO1_32698', 'MT-CO2_32699', 'MT-ATP8_32700', 'MT-ATP6_32701', 'MT-CO3_32702', 'MT-ND3_32703', 'MT-ND4L_32704', 'MT-ND4_32705', 'MT-ND5_32706', 'MT-ND6_32707', 'MT-CYB_32708']\n"
     ]
    },
    {
     "name": "stderr",
     "output_type": "stream",
     "text": [
      "/Users/nickfernandez/anaconda/envs/py35/lib/python3.5/site-packages/ipykernel/__main__.py:20: DeprecationWarning: \n",
      ".ix is deprecated. Please use\n",
      ".loc for label based indexing or\n",
      ".iloc for positional indexing\n",
      "\n",
      "See the documentation here:\n",
      "http://pandas.pydata.org/pandas-docs/stable/indexing.html#ix-indexer-is-deprecated\n"
     ]
    }
   ],
   "source": [
    "all_genes = df['ge-ini'].index.tolist()\n",
    "print(len(all_genes))\n",
    "keep_genes = [x for x in all_genes if 'RPL' not in x]\n",
    "keep_genes = [x for x in keep_genes if 'RPS' not in x]\n",
    "print(len(keep_genes))\n",
    "\n",
    "df['ge'] = df['ge-ini'].loc[keep_genes]\n",
    "df['ge'].shape\n",
    "\n",
    "# Removing Mitochondrial Genes\n",
    "list_mito_genes = ['MTRNR2L11', 'MTRF1', 'MTRNR2L12', 'MTRNR2L13', 'MTRF1L', 'MTRNR2L6', 'MTRNR2L7',\n",
    "                'MTRNR2L10', 'MTRNR2L8', 'MTRNR2L5', 'MTRNR2L1', 'MTRNR2L3', 'MTRNR2L4']\n",
    "\n",
    "all_genes = df['ge'].index.tolist()\n",
    "mito_genes = [x for x in all_genes if 'MT-' == x[:3] or \n",
    "             x.split('_')[0] in list_mito_genes]\n",
    "print(mito_genes)\n",
    "\n",
    "keep_genes = [x for x in all_genes if x not in mito_genes]\n",
    "df['ge'] = df['ge'].ix[keep_genes]\n",
    "\n",
    "# normalize by UMI count\n",
    "barcode_umi_sum = df['ge'].sum()\n",
    "df['ge'] = df['ge'].div(barcode_umi_sum)"
   ]
  },
  {
   "cell_type": "code",
   "execution_count": 36,
   "metadata": {},
   "outputs": [
    {
     "data": {
      "text/plain": [
       "(32520, 2700)"
      ]
     },
     "execution_count": 36,
     "metadata": {},
     "output_type": "execute_result"
    }
   ],
   "source": [
    "net.load_df(df['ge'])\n",
    "net.normalize(axis='row', norm_type='zscore')\n",
    "net.swap_nan_for_zero()\n",
    "df['ge-z'] = net.export_df()\n",
    "df['ge-z'].shape"
   ]
  },
  {
   "cell_type": "markdown",
   "metadata": {},
   "source": [
    "### Visualize Original Dataset"
   ]
  },
  {
   "cell_type": "code",
   "execution_count": 37,
   "metadata": {},
   "outputs": [
    {
     "data": {
      "application/vnd.jupyter.widget-view+json": {
       "model_id": "8f0adf4ea0dc47288daebc0ffa89487b"
      }
     },
     "metadata": {},
     "output_type": "display_data"
    }
   ],
   "source": [
    "net.load_df(df['ge'])\n",
    "net.filter_N_top(inst_rc='row', N_top=250, rank_type='var')\n",
    "net.normalize(axis='row', norm_type='zscore')\n",
    "net.random_sample(axis='col', num_samples=250, random_state=99)\n",
    "net.clip(lower=-5, upper=5)\n",
    "net.cluster()\n",
    "net.widget()"
   ]
  },
  {
   "cell_type": "markdown",
   "metadata": {},
   "source": [
    "### Load NM'3337 gene sigantures"
   ]
  },
  {
   "cell_type": "code",
   "execution_count": 47,
   "metadata": {},
   "outputs": [
    {
     "name": "stdout",
     "output_type": "stream",
     "text": [
      "(523, 9)\n",
      "(523, 22)\n"
     ]
    }
   ],
   "source": [
    "net.load_file('../data/cell_type_signatures/nm3337_broad_cell_type_sigs.txt')\n",
    "df['bct-sig'] = net.export_df()\n",
    "print(df['bct-sig'].shape)\n",
    "\n",
    "net.load_file('../data/cell_type_signatures/nm3337_narrow_cell_type_sigs.txt')\n",
    "df['nct-sig'] = net.export_df()\n",
    "print(df['nct-sig'].shape)"
   ]
  },
  {
   "cell_type": "code",
   "execution_count": 52,
   "metadata": {},
   "outputs": [
    {
     "name": "stdout",
     "output_type": "stream",
     "text": [
      "523 523\n"
     ]
    }
   ],
   "source": [
    "sig_rows = df['bct-sig'].index.tolist()\n",
    "clean_sig_rows = [x.split('_')[0] for x in sig_rows]\n",
    "print(len(clean_sig_rows), len(list(set(clean_sig_rows))))"
   ]
  },
  {
   "cell_type": "code",
   "execution_count": 54,
   "metadata": {},
   "outputs": [
    {
     "name": "stdout",
     "output_type": "stream",
     "text": [
      "32738 32641\n"
     ]
    }
   ],
   "source": [
    "ge_rows = df['ge-ini'].index.tolist()\n",
    "clean_ge_rows = [x.split('_')[0] for x in ge_rows]\n",
    "print(len(ge_rows), len(list(set(clean_ge_rows))))"
   ]
  },
  {
   "cell_type": "code",
   "execution_count": 43,
   "metadata": {},
   "outputs": [
    {
     "data": {
      "text/plain": [
       "2"
      ]
     },
     "execution_count": 43,
     "metadata": {},
     "output_type": "execute_result"
    }
   ],
   "source": [
    "len(set(ge_rows).intersection(sig_rows))"
   ]
  },
  {
   "cell_type": "markdown",
   "metadata": {},
   "source": [
    "# Predict Cell Types using NM3337 Signatures"
   ]
  },
  {
   "cell_type": "code",
   "execution_count": 29,
   "metadata": {},
   "outputs": [],
   "source": [
    "# rows = df['nct-sig'].index.tolist()\n",
    "# new_rows = [x.split('_')[0] for x in rows]\n",
    "# df['nct-sig'].index = new_rows"
   ]
  },
  {
   "cell_type": "code",
   "execution_count": 30,
   "metadata": {},
   "outputs": [],
   "source": [
    "# rows = df['ge-z'].index.tolist()\n",
    "# new_rows = [x.split('_')[0] for x in rows]\n",
    "# df['ge-z'].index = new_rows"
   ]
  },
  {
   "cell_type": "code",
   "execution_count": 31,
   "metadata": {},
   "outputs": [
    {
     "ename": "ValueError",
     "evalue": "Incompatible dimension for X and Y matrices: X.shape[1] == 507 while Y.shape[1] == 509",
     "output_type": "error",
     "traceback": [
      "\u001b[0;31m---------------------------------------------------------------------------\u001b[0m",
      "\u001b[0;31mValueError\u001b[0m                                Traceback (most recent call last)",
      "\u001b[0;32m<ipython-input-31-3dcff7edf37e>\u001b[0m in \u001b[0;36m<module>\u001b[0;34m()\u001b[0m\n\u001b[1;32m      1\u001b[0m df['pred_cat'], df['sig_sim'], y_info = cby.predict_cats_from_sigs(df['ge-z'], df['nct-sig'], \n\u001b[0;32m----> 2\u001b[0;31m                                                                    predict_level='Cell Type')\n\u001b[0m",
      "\u001b[0;32m~/Documents/clustergrammer_signature_methods/notebooks/clustergrammer_groupby.py\u001b[0m in \u001b[0;36mpredict_cats_from_sigs\u001b[0;34m(df_data_ini, df_sig_ini, dist_type, predict_level, truth_level, unknown_thresh)\u001b[0m\n\u001b[1;32m    121\u001b[0m     \u001b[0mcell_types\u001b[0m \u001b[0;34m=\u001b[0m \u001b[0mdf_sig\u001b[0m\u001b[0;34m.\u001b[0m\u001b[0mcolumns\u001b[0m\u001b[0;34m.\u001b[0m\u001b[0mtolist\u001b[0m\u001b[0;34m(\u001b[0m\u001b[0;34m)\u001b[0m\u001b[0;34m\u001b[0m\u001b[0m\n\u001b[1;32m    122\u001b[0m     \u001b[0mbarcodes\u001b[0m \u001b[0;34m=\u001b[0m \u001b[0mdf_data\u001b[0m\u001b[0;34m.\u001b[0m\u001b[0mcolumns\u001b[0m\u001b[0;34m.\u001b[0m\u001b[0mtolist\u001b[0m\u001b[0;34m(\u001b[0m\u001b[0;34m)\u001b[0m\u001b[0;34m\u001b[0m\u001b[0m\n\u001b[0;32m--> 123\u001b[0;31m     \u001b[0msim_mat\u001b[0m \u001b[0;34m=\u001b[0m \u001b[0;36m1\u001b[0m \u001b[0;34m-\u001b[0m \u001b[0mpairwise_distances\u001b[0m\u001b[0;34m(\u001b[0m\u001b[0mdf_sig\u001b[0m\u001b[0;34m.\u001b[0m\u001b[0mtranspose\u001b[0m\u001b[0;34m(\u001b[0m\u001b[0;34m)\u001b[0m\u001b[0;34m,\u001b[0m \u001b[0mdf_data\u001b[0m\u001b[0;34m.\u001b[0m\u001b[0mtranspose\u001b[0m\u001b[0;34m(\u001b[0m\u001b[0;34m)\u001b[0m\u001b[0;34m,\u001b[0m \u001b[0mmetric\u001b[0m\u001b[0;34m=\u001b[0m\u001b[0mdist_type\u001b[0m\u001b[0;34m)\u001b[0m\u001b[0;34m\u001b[0m\u001b[0m\n\u001b[0m\u001b[1;32m    124\u001b[0m     \u001b[0mdf_sim\u001b[0m \u001b[0;34m=\u001b[0m \u001b[0mpd\u001b[0m\u001b[0;34m.\u001b[0m\u001b[0mDataFrame\u001b[0m\u001b[0;34m(\u001b[0m\u001b[0mdata\u001b[0m\u001b[0;34m=\u001b[0m\u001b[0msim_mat\u001b[0m\u001b[0;34m,\u001b[0m \u001b[0mindex\u001b[0m\u001b[0;34m=\u001b[0m\u001b[0mcell_types\u001b[0m\u001b[0;34m,\u001b[0m \u001b[0mcolumns\u001b[0m\u001b[0;34m=\u001b[0m\u001b[0mbarcodes\u001b[0m\u001b[0;34m)\u001b[0m\u001b[0;34m.\u001b[0m\u001b[0mtranspose\u001b[0m\u001b[0;34m(\u001b[0m\u001b[0;34m)\u001b[0m\u001b[0;34m\u001b[0m\u001b[0m\n\u001b[1;32m    125\u001b[0m \u001b[0;34m\u001b[0m\u001b[0m\n",
      "\u001b[0;32m~/anaconda/envs/py35/lib/python3.5/site-packages/sklearn/metrics/pairwise.py\u001b[0m in \u001b[0;36mpairwise_distances\u001b[0;34m(X, Y, metric, n_jobs, **kwds)\u001b[0m\n\u001b[1;32m   1245\u001b[0m         \u001b[0mfunc\u001b[0m \u001b[0;34m=\u001b[0m \u001b[0mpartial\u001b[0m\u001b[0;34m(\u001b[0m\u001b[0mdistance\u001b[0m\u001b[0;34m.\u001b[0m\u001b[0mcdist\u001b[0m\u001b[0;34m,\u001b[0m \u001b[0mmetric\u001b[0m\u001b[0;34m=\u001b[0m\u001b[0mmetric\u001b[0m\u001b[0;34m,\u001b[0m \u001b[0;34m**\u001b[0m\u001b[0mkwds\u001b[0m\u001b[0;34m)\u001b[0m\u001b[0;34m\u001b[0m\u001b[0m\n\u001b[1;32m   1246\u001b[0m \u001b[0;34m\u001b[0m\u001b[0m\n\u001b[0;32m-> 1247\u001b[0;31m     \u001b[0;32mreturn\u001b[0m \u001b[0m_parallel_pairwise\u001b[0m\u001b[0;34m(\u001b[0m\u001b[0mX\u001b[0m\u001b[0;34m,\u001b[0m \u001b[0mY\u001b[0m\u001b[0;34m,\u001b[0m \u001b[0mfunc\u001b[0m\u001b[0;34m,\u001b[0m \u001b[0mn_jobs\u001b[0m\u001b[0;34m,\u001b[0m \u001b[0;34m**\u001b[0m\u001b[0mkwds\u001b[0m\u001b[0;34m)\u001b[0m\u001b[0;34m\u001b[0m\u001b[0m\n\u001b[0m\u001b[1;32m   1248\u001b[0m \u001b[0;34m\u001b[0m\u001b[0m\n\u001b[1;32m   1249\u001b[0m \u001b[0;34m\u001b[0m\u001b[0m\n",
      "\u001b[0;32m~/anaconda/envs/py35/lib/python3.5/site-packages/sklearn/metrics/pairwise.py\u001b[0m in \u001b[0;36m_parallel_pairwise\u001b[0;34m(X, Y, func, n_jobs, **kwds)\u001b[0m\n\u001b[1;32m   1088\u001b[0m     \u001b[0;32mif\u001b[0m \u001b[0mn_jobs\u001b[0m \u001b[0;34m==\u001b[0m \u001b[0;36m1\u001b[0m\u001b[0;34m:\u001b[0m\u001b[0;34m\u001b[0m\u001b[0m\n\u001b[1;32m   1089\u001b[0m         \u001b[0;31m# Special case to avoid picklability checks in delayed\u001b[0m\u001b[0;34m\u001b[0m\u001b[0;34m\u001b[0m\u001b[0m\n\u001b[0;32m-> 1090\u001b[0;31m         \u001b[0;32mreturn\u001b[0m \u001b[0mfunc\u001b[0m\u001b[0;34m(\u001b[0m\u001b[0mX\u001b[0m\u001b[0;34m,\u001b[0m \u001b[0mY\u001b[0m\u001b[0;34m,\u001b[0m \u001b[0;34m**\u001b[0m\u001b[0mkwds\u001b[0m\u001b[0;34m)\u001b[0m\u001b[0;34m\u001b[0m\u001b[0m\n\u001b[0m\u001b[1;32m   1091\u001b[0m \u001b[0;34m\u001b[0m\u001b[0m\n\u001b[1;32m   1092\u001b[0m     \u001b[0;31m# TODO: in some cases, backend='threading' may be appropriate\u001b[0m\u001b[0;34m\u001b[0m\u001b[0;34m\u001b[0m\u001b[0m\n",
      "\u001b[0;32m~/anaconda/envs/py35/lib/python3.5/site-packages/sklearn/metrics/pairwise.py\u001b[0m in \u001b[0;36mcosine_distances\u001b[0;34m(X, Y)\u001b[0m\n\u001b[1;32m    575\u001b[0m     \"\"\"\n\u001b[1;32m    576\u001b[0m     \u001b[0;31m# 1.0 - cosine_similarity(X, Y) without copy\u001b[0m\u001b[0;34m\u001b[0m\u001b[0;34m\u001b[0m\u001b[0m\n\u001b[0;32m--> 577\u001b[0;31m     \u001b[0mS\u001b[0m \u001b[0;34m=\u001b[0m \u001b[0mcosine_similarity\u001b[0m\u001b[0;34m(\u001b[0m\u001b[0mX\u001b[0m\u001b[0;34m,\u001b[0m \u001b[0mY\u001b[0m\u001b[0;34m)\u001b[0m\u001b[0;34m\u001b[0m\u001b[0m\n\u001b[0m\u001b[1;32m    578\u001b[0m     \u001b[0mS\u001b[0m \u001b[0;34m*=\u001b[0m \u001b[0;34m-\u001b[0m\u001b[0;36m1\u001b[0m\u001b[0;34m\u001b[0m\u001b[0m\n\u001b[1;32m    579\u001b[0m     \u001b[0mS\u001b[0m \u001b[0;34m+=\u001b[0m \u001b[0;36m1\u001b[0m\u001b[0;34m\u001b[0m\u001b[0m\n",
      "\u001b[0;32m~/anaconda/envs/py35/lib/python3.5/site-packages/sklearn/metrics/pairwise.py\u001b[0m in \u001b[0;36mcosine_similarity\u001b[0;34m(X, Y, dense_output)\u001b[0m\n\u001b[1;32m    915\u001b[0m     \u001b[0;31m# to avoid recursive import\u001b[0m\u001b[0;34m\u001b[0m\u001b[0;34m\u001b[0m\u001b[0m\n\u001b[1;32m    916\u001b[0m \u001b[0;34m\u001b[0m\u001b[0m\n\u001b[0;32m--> 917\u001b[0;31m     \u001b[0mX\u001b[0m\u001b[0;34m,\u001b[0m \u001b[0mY\u001b[0m \u001b[0;34m=\u001b[0m \u001b[0mcheck_pairwise_arrays\u001b[0m\u001b[0;34m(\u001b[0m\u001b[0mX\u001b[0m\u001b[0;34m,\u001b[0m \u001b[0mY\u001b[0m\u001b[0;34m)\u001b[0m\u001b[0;34m\u001b[0m\u001b[0m\n\u001b[0m\u001b[1;32m    918\u001b[0m \u001b[0;34m\u001b[0m\u001b[0m\n\u001b[1;32m    919\u001b[0m     \u001b[0mX_normalized\u001b[0m \u001b[0;34m=\u001b[0m \u001b[0mnormalize\u001b[0m\u001b[0;34m(\u001b[0m\u001b[0mX\u001b[0m\u001b[0;34m,\u001b[0m \u001b[0mcopy\u001b[0m\u001b[0;34m=\u001b[0m\u001b[0;32mTrue\u001b[0m\u001b[0;34m)\u001b[0m\u001b[0;34m\u001b[0m\u001b[0m\n",
      "\u001b[0;32m~/anaconda/envs/py35/lib/python3.5/site-packages/sklearn/metrics/pairwise.py\u001b[0m in \u001b[0;36mcheck_pairwise_arrays\u001b[0;34m(X, Y, precomputed, dtype)\u001b[0m\n\u001b[1;32m    121\u001b[0m         raise ValueError(\"Incompatible dimension for X and Y matrices: \"\n\u001b[1;32m    122\u001b[0m                          \"X.shape[1] == %d while Y.shape[1] == %d\" % (\n\u001b[0;32m--> 123\u001b[0;31m                              X.shape[1], Y.shape[1]))\n\u001b[0m\u001b[1;32m    124\u001b[0m \u001b[0;34m\u001b[0m\u001b[0m\n\u001b[1;32m    125\u001b[0m     \u001b[0;32mreturn\u001b[0m \u001b[0mX\u001b[0m\u001b[0;34m,\u001b[0m \u001b[0mY\u001b[0m\u001b[0;34m\u001b[0m\u001b[0m\n",
      "\u001b[0;31mValueError\u001b[0m: Incompatible dimension for X and Y matrices: X.shape[1] == 507 while Y.shape[1] == 509"
     ]
    }
   ],
   "source": [
    "df['pred_cat'], df['sig_sim'], y_info = cby.predict_cats_from_sigs(df['ge-z'], df['nct-sig'], \n",
    "                                                                   predict_level='Cell Type')"
   ]
  },
  {
   "cell_type": "code",
   "execution_count": 19,
   "metadata": {},
   "outputs": [
    {
     "data": {
      "text/html": [
       "<div>\n",
       "<style scoped>\n",
       "    .dataframe tbody tr th:only-of-type {\n",
       "        vertical-align: middle;\n",
       "    }\n",
       "\n",
       "    .dataframe tbody tr th {\n",
       "        vertical-align: top;\n",
       "    }\n",
       "\n",
       "    .dataframe thead th {\n",
       "        text-align: right;\n",
       "    }\n",
       "</style>\n",
       "<table border=\"1\" class=\"dataframe\">\n",
       "  <thead>\n",
       "    <tr style=\"text-align: right;\">\n",
       "      <th></th>\n",
       "      <th>(AAACATACAACCAC, Cell Type: T cells CD4 memory activated)</th>\n",
       "      <th>(AAACATTGAGCTAC, Cell Type: T cells CD4 memory activated)</th>\n",
       "      <th>(AAACATTGATCAGC, Cell Type: T cells CD4 memory activated)</th>\n",
       "      <th>(AAACCGTGCTTCCG, Cell Type: T cells CD4 memory activated)</th>\n",
       "      <th>(AAACCGTGTATGCG, Cell Type: T cells CD4 memory activated)</th>\n",
       "      <th>(AAACGCACTGGTAC, Cell Type: T cells CD4 memory activated)</th>\n",
       "      <th>(AAACGCTGACCAGT, Cell Type: T cells CD4 memory activated)</th>\n",
       "      <th>(AAACGCTGGTTCTT, Cell Type: T cells CD4 memory activated)</th>\n",
       "      <th>(AAACGCTGTAGCCA, Cell Type: T cells CD4 memory activated)</th>\n",
       "      <th>(AAACGCTGTTTCTG, Cell Type: T cells CD4 memory activated)</th>\n",
       "      <th>...</th>\n",
       "      <th>(TTTCAGTGTCACGA, Cell Type: T cells CD4 memory activated)</th>\n",
       "      <th>(TTTCAGTGTCTATC, Cell Type: T cells CD4 memory activated)</th>\n",
       "      <th>(TTTCAGTGTGCAGT, Cell Type: T cells CD4 memory activated)</th>\n",
       "      <th>(TTTCCAGAGGTGAG, Cell Type: T cells CD4 memory activated)</th>\n",
       "      <th>(TTTCGAACACCTGA, Cell Type: T cells CD4 memory activated)</th>\n",
       "      <th>(TTTCGAACTCTCAT, Cell Type: T cells CD4 memory activated)</th>\n",
       "      <th>(TTTCTACTGAGGCA, Cell Type: T cells CD4 memory activated)</th>\n",
       "      <th>(TTTCTACTTCCTCG, Cell Type: T cells CD4 memory activated)</th>\n",
       "      <th>(TTTGCATGAGAGGC, Cell Type: T cells CD4 memory activated)</th>\n",
       "      <th>(TTTGCATGCCTCAC, Cell Type: T cells CD4 memory activated)</th>\n",
       "    </tr>\n",
       "  </thead>\n",
       "  <tbody>\n",
       "    <tr>\n",
       "      <th>PKD2L2_9573</th>\n",
       "      <td>-0.023926</td>\n",
       "      <td>-0.023926</td>\n",
       "      <td>-0.023926</td>\n",
       "      <td>-0.023926</td>\n",
       "      <td>-0.023926</td>\n",
       "      <td>-0.023926</td>\n",
       "      <td>-0.023926</td>\n",
       "      <td>-0.023926</td>\n",
       "      <td>-0.023926</td>\n",
       "      <td>-0.023926</td>\n",
       "      <td>...</td>\n",
       "      <td>-0.023926</td>\n",
       "      <td>-0.023926</td>\n",
       "      <td>-0.023926</td>\n",
       "      <td>-0.023926</td>\n",
       "      <td>-0.023926</td>\n",
       "      <td>-0.023926</td>\n",
       "      <td>-0.023926</td>\n",
       "      <td>-0.023926</td>\n",
       "      <td>-0.023926</td>\n",
       "      <td>-0.023926</td>\n",
       "    </tr>\n",
       "    <tr>\n",
       "      <th>IL9_9553</th>\n",
       "      <td>0.000000</td>\n",
       "      <td>0.000000</td>\n",
       "      <td>0.000000</td>\n",
       "      <td>0.000000</td>\n",
       "      <td>0.000000</td>\n",
       "      <td>0.000000</td>\n",
       "      <td>0.000000</td>\n",
       "      <td>0.000000</td>\n",
       "      <td>0.000000</td>\n",
       "      <td>0.000000</td>\n",
       "      <td>...</td>\n",
       "      <td>0.000000</td>\n",
       "      <td>0.000000</td>\n",
       "      <td>0.000000</td>\n",
       "      <td>0.000000</td>\n",
       "      <td>0.000000</td>\n",
       "      <td>0.000000</td>\n",
       "      <td>0.000000</td>\n",
       "      <td>0.000000</td>\n",
       "      <td>0.000000</td>\n",
       "      <td>0.000000</td>\n",
       "    </tr>\n",
       "  </tbody>\n",
       "</table>\n",
       "<p>2 rows × 2700 columns</p>\n",
       "</div>"
      ],
      "text/plain": [
       "             (AAACATACAACCAC, Cell Type: T cells CD4 memory activated)  \\\n",
       "PKD2L2_9573                                          -0.023926           \n",
       "IL9_9553                                              0.000000           \n",
       "\n",
       "             (AAACATTGAGCTAC, Cell Type: T cells CD4 memory activated)  \\\n",
       "PKD2L2_9573                                          -0.023926           \n",
       "IL9_9553                                              0.000000           \n",
       "\n",
       "             (AAACATTGATCAGC, Cell Type: T cells CD4 memory activated)  \\\n",
       "PKD2L2_9573                                          -0.023926           \n",
       "IL9_9553                                              0.000000           \n",
       "\n",
       "             (AAACCGTGCTTCCG, Cell Type: T cells CD4 memory activated)  \\\n",
       "PKD2L2_9573                                          -0.023926           \n",
       "IL9_9553                                              0.000000           \n",
       "\n",
       "             (AAACCGTGTATGCG, Cell Type: T cells CD4 memory activated)  \\\n",
       "PKD2L2_9573                                          -0.023926           \n",
       "IL9_9553                                              0.000000           \n",
       "\n",
       "             (AAACGCACTGGTAC, Cell Type: T cells CD4 memory activated)  \\\n",
       "PKD2L2_9573                                          -0.023926           \n",
       "IL9_9553                                              0.000000           \n",
       "\n",
       "             (AAACGCTGACCAGT, Cell Type: T cells CD4 memory activated)  \\\n",
       "PKD2L2_9573                                          -0.023926           \n",
       "IL9_9553                                              0.000000           \n",
       "\n",
       "             (AAACGCTGGTTCTT, Cell Type: T cells CD4 memory activated)  \\\n",
       "PKD2L2_9573                                          -0.023926           \n",
       "IL9_9553                                              0.000000           \n",
       "\n",
       "             (AAACGCTGTAGCCA, Cell Type: T cells CD4 memory activated)  \\\n",
       "PKD2L2_9573                                          -0.023926           \n",
       "IL9_9553                                              0.000000           \n",
       "\n",
       "             (AAACGCTGTTTCTG, Cell Type: T cells CD4 memory activated)  \\\n",
       "PKD2L2_9573                                          -0.023926           \n",
       "IL9_9553                                              0.000000           \n",
       "\n",
       "                                       ...                              \\\n",
       "PKD2L2_9573                            ...                               \n",
       "IL9_9553                               ...                               \n",
       "\n",
       "             (TTTCAGTGTCACGA, Cell Type: T cells CD4 memory activated)  \\\n",
       "PKD2L2_9573                                          -0.023926           \n",
       "IL9_9553                                              0.000000           \n",
       "\n",
       "             (TTTCAGTGTCTATC, Cell Type: T cells CD4 memory activated)  \\\n",
       "PKD2L2_9573                                          -0.023926           \n",
       "IL9_9553                                              0.000000           \n",
       "\n",
       "             (TTTCAGTGTGCAGT, Cell Type: T cells CD4 memory activated)  \\\n",
       "PKD2L2_9573                                          -0.023926           \n",
       "IL9_9553                                              0.000000           \n",
       "\n",
       "             (TTTCCAGAGGTGAG, Cell Type: T cells CD4 memory activated)  \\\n",
       "PKD2L2_9573                                          -0.023926           \n",
       "IL9_9553                                              0.000000           \n",
       "\n",
       "             (TTTCGAACACCTGA, Cell Type: T cells CD4 memory activated)  \\\n",
       "PKD2L2_9573                                          -0.023926           \n",
       "IL9_9553                                              0.000000           \n",
       "\n",
       "             (TTTCGAACTCTCAT, Cell Type: T cells CD4 memory activated)  \\\n",
       "PKD2L2_9573                                          -0.023926           \n",
       "IL9_9553                                              0.000000           \n",
       "\n",
       "             (TTTCTACTGAGGCA, Cell Type: T cells CD4 memory activated)  \\\n",
       "PKD2L2_9573                                          -0.023926           \n",
       "IL9_9553                                              0.000000           \n",
       "\n",
       "             (TTTCTACTTCCTCG, Cell Type: T cells CD4 memory activated)  \\\n",
       "PKD2L2_9573                                          -0.023926           \n",
       "IL9_9553                                              0.000000           \n",
       "\n",
       "             (TTTGCATGAGAGGC, Cell Type: T cells CD4 memory activated)  \\\n",
       "PKD2L2_9573                                          -0.023926           \n",
       "IL9_9553                                              0.000000           \n",
       "\n",
       "             (TTTGCATGCCTCAC, Cell Type: T cells CD4 memory activated)  \n",
       "PKD2L2_9573                                          -0.023926          \n",
       "IL9_9553                                              0.000000          \n",
       "\n",
       "[2 rows x 2700 columns]"
      ]
     },
     "execution_count": 19,
     "metadata": {},
     "output_type": "execute_result"
    }
   ],
   "source": [
    "df['pred_cat'].head()"
   ]
  },
  {
   "cell_type": "code",
   "execution_count": 22,
   "metadata": {},
   "outputs": [
    {
     "data": {
      "text/plain": [
       "(32520, 2700)"
      ]
     },
     "execution_count": 22,
     "metadata": {},
     "output_type": "execute_result"
    }
   ],
   "source": [
    "df['ge-cat'] = deepcopy(df['ge'])\n",
    "df['ge-cat'].shape"
   ]
  },
  {
   "cell_type": "code",
   "execution_count": 25,
   "metadata": {},
   "outputs": [
    {
     "data": {
      "text/html": [
       "<div>\n",
       "<style scoped>\n",
       "    .dataframe tbody tr th:only-of-type {\n",
       "        vertical-align: middle;\n",
       "    }\n",
       "\n",
       "    .dataframe tbody tr th {\n",
       "        vertical-align: top;\n",
       "    }\n",
       "\n",
       "    .dataframe thead th {\n",
       "        text-align: right;\n",
       "    }\n",
       "</style>\n",
       "<table border=\"1\" class=\"dataframe\">\n",
       "  <thead>\n",
       "    <tr style=\"text-align: right;\">\n",
       "      <th></th>\n",
       "      <th>(AAACATACAACCAC, Cell Type: T cells CD4 memory activated)</th>\n",
       "      <th>(AAACATTGAGCTAC, Cell Type: T cells CD4 memory activated)</th>\n",
       "      <th>(AAACATTGATCAGC, Cell Type: T cells CD4 memory activated)</th>\n",
       "      <th>(AAACCGTGCTTCCG, Cell Type: T cells CD4 memory activated)</th>\n",
       "      <th>(AAACCGTGTATGCG, Cell Type: T cells CD4 memory activated)</th>\n",
       "      <th>(AAACGCACTGGTAC, Cell Type: T cells CD4 memory activated)</th>\n",
       "      <th>(AAACGCTGACCAGT, Cell Type: T cells CD4 memory activated)</th>\n",
       "      <th>(AAACGCTGGTTCTT, Cell Type: T cells CD4 memory activated)</th>\n",
       "      <th>(AAACGCTGTAGCCA, Cell Type: T cells CD4 memory activated)</th>\n",
       "      <th>(AAACGCTGTTTCTG, Cell Type: T cells CD4 memory activated)</th>\n",
       "      <th>...</th>\n",
       "      <th>(TTTCAGTGTCACGA, Cell Type: T cells CD4 memory activated)</th>\n",
       "      <th>(TTTCAGTGTCTATC, Cell Type: T cells CD4 memory activated)</th>\n",
       "      <th>(TTTCAGTGTGCAGT, Cell Type: T cells CD4 memory activated)</th>\n",
       "      <th>(TTTCCAGAGGTGAG, Cell Type: T cells CD4 memory activated)</th>\n",
       "      <th>(TTTCGAACACCTGA, Cell Type: T cells CD4 memory activated)</th>\n",
       "      <th>(TTTCGAACTCTCAT, Cell Type: T cells CD4 memory activated)</th>\n",
       "      <th>(TTTCTACTGAGGCA, Cell Type: T cells CD4 memory activated)</th>\n",
       "      <th>(TTTCTACTTCCTCG, Cell Type: T cells CD4 memory activated)</th>\n",
       "      <th>(TTTGCATGAGAGGC, Cell Type: T cells CD4 memory activated)</th>\n",
       "      <th>(TTTGCATGCCTCAC, Cell Type: T cells CD4 memory activated)</th>\n",
       "    </tr>\n",
       "  </thead>\n",
       "  <tbody>\n",
       "    <tr>\n",
       "      <th>PKD2L2_9573</th>\n",
       "      <td>-0.023926</td>\n",
       "      <td>-0.023926</td>\n",
       "      <td>-0.023926</td>\n",
       "      <td>-0.023926</td>\n",
       "      <td>-0.023926</td>\n",
       "      <td>-0.023926</td>\n",
       "      <td>-0.023926</td>\n",
       "      <td>-0.023926</td>\n",
       "      <td>-0.023926</td>\n",
       "      <td>-0.023926</td>\n",
       "      <td>...</td>\n",
       "      <td>-0.023926</td>\n",
       "      <td>-0.023926</td>\n",
       "      <td>-0.023926</td>\n",
       "      <td>-0.023926</td>\n",
       "      <td>-0.023926</td>\n",
       "      <td>-0.023926</td>\n",
       "      <td>-0.023926</td>\n",
       "      <td>-0.023926</td>\n",
       "      <td>-0.023926</td>\n",
       "      <td>-0.023926</td>\n",
       "    </tr>\n",
       "    <tr>\n",
       "      <th>IL9_9553</th>\n",
       "      <td>0.000000</td>\n",
       "      <td>0.000000</td>\n",
       "      <td>0.000000</td>\n",
       "      <td>0.000000</td>\n",
       "      <td>0.000000</td>\n",
       "      <td>0.000000</td>\n",
       "      <td>0.000000</td>\n",
       "      <td>0.000000</td>\n",
       "      <td>0.000000</td>\n",
       "      <td>0.000000</td>\n",
       "      <td>...</td>\n",
       "      <td>0.000000</td>\n",
       "      <td>0.000000</td>\n",
       "      <td>0.000000</td>\n",
       "      <td>0.000000</td>\n",
       "      <td>0.000000</td>\n",
       "      <td>0.000000</td>\n",
       "      <td>0.000000</td>\n",
       "      <td>0.000000</td>\n",
       "      <td>0.000000</td>\n",
       "      <td>0.000000</td>\n",
       "    </tr>\n",
       "  </tbody>\n",
       "</table>\n",
       "<p>2 rows × 2700 columns</p>\n",
       "</div>"
      ],
      "text/plain": [
       "             (AAACATACAACCAC, Cell Type: T cells CD4 memory activated)  \\\n",
       "PKD2L2_9573                                          -0.023926           \n",
       "IL9_9553                                              0.000000           \n",
       "\n",
       "             (AAACATTGAGCTAC, Cell Type: T cells CD4 memory activated)  \\\n",
       "PKD2L2_9573                                          -0.023926           \n",
       "IL9_9553                                              0.000000           \n",
       "\n",
       "             (AAACATTGATCAGC, Cell Type: T cells CD4 memory activated)  \\\n",
       "PKD2L2_9573                                          -0.023926           \n",
       "IL9_9553                                              0.000000           \n",
       "\n",
       "             (AAACCGTGCTTCCG, Cell Type: T cells CD4 memory activated)  \\\n",
       "PKD2L2_9573                                          -0.023926           \n",
       "IL9_9553                                              0.000000           \n",
       "\n",
       "             (AAACCGTGTATGCG, Cell Type: T cells CD4 memory activated)  \\\n",
       "PKD2L2_9573                                          -0.023926           \n",
       "IL9_9553                                              0.000000           \n",
       "\n",
       "             (AAACGCACTGGTAC, Cell Type: T cells CD4 memory activated)  \\\n",
       "PKD2L2_9573                                          -0.023926           \n",
       "IL9_9553                                              0.000000           \n",
       "\n",
       "             (AAACGCTGACCAGT, Cell Type: T cells CD4 memory activated)  \\\n",
       "PKD2L2_9573                                          -0.023926           \n",
       "IL9_9553                                              0.000000           \n",
       "\n",
       "             (AAACGCTGGTTCTT, Cell Type: T cells CD4 memory activated)  \\\n",
       "PKD2L2_9573                                          -0.023926           \n",
       "IL9_9553                                              0.000000           \n",
       "\n",
       "             (AAACGCTGTAGCCA, Cell Type: T cells CD4 memory activated)  \\\n",
       "PKD2L2_9573                                          -0.023926           \n",
       "IL9_9553                                              0.000000           \n",
       "\n",
       "             (AAACGCTGTTTCTG, Cell Type: T cells CD4 memory activated)  \\\n",
       "PKD2L2_9573                                          -0.023926           \n",
       "IL9_9553                                              0.000000           \n",
       "\n",
       "                                       ...                              \\\n",
       "PKD2L2_9573                            ...                               \n",
       "IL9_9553                               ...                               \n",
       "\n",
       "             (TTTCAGTGTCACGA, Cell Type: T cells CD4 memory activated)  \\\n",
       "PKD2L2_9573                                          -0.023926           \n",
       "IL9_9553                                              0.000000           \n",
       "\n",
       "             (TTTCAGTGTCTATC, Cell Type: T cells CD4 memory activated)  \\\n",
       "PKD2L2_9573                                          -0.023926           \n",
       "IL9_9553                                              0.000000           \n",
       "\n",
       "             (TTTCAGTGTGCAGT, Cell Type: T cells CD4 memory activated)  \\\n",
       "PKD2L2_9573                                          -0.023926           \n",
       "IL9_9553                                              0.000000           \n",
       "\n",
       "             (TTTCCAGAGGTGAG, Cell Type: T cells CD4 memory activated)  \\\n",
       "PKD2L2_9573                                          -0.023926           \n",
       "IL9_9553                                              0.000000           \n",
       "\n",
       "             (TTTCGAACACCTGA, Cell Type: T cells CD4 memory activated)  \\\n",
       "PKD2L2_9573                                          -0.023926           \n",
       "IL9_9553                                              0.000000           \n",
       "\n",
       "             (TTTCGAACTCTCAT, Cell Type: T cells CD4 memory activated)  \\\n",
       "PKD2L2_9573                                          -0.023926           \n",
       "IL9_9553                                              0.000000           \n",
       "\n",
       "             (TTTCTACTGAGGCA, Cell Type: T cells CD4 memory activated)  \\\n",
       "PKD2L2_9573                                          -0.023926           \n",
       "IL9_9553                                              0.000000           \n",
       "\n",
       "             (TTTCTACTTCCTCG, Cell Type: T cells CD4 memory activated)  \\\n",
       "PKD2L2_9573                                          -0.023926           \n",
       "IL9_9553                                              0.000000           \n",
       "\n",
       "             (TTTGCATGAGAGGC, Cell Type: T cells CD4 memory activated)  \\\n",
       "PKD2L2_9573                                          -0.023926           \n",
       "IL9_9553                                              0.000000           \n",
       "\n",
       "             (TTTGCATGCCTCAC, Cell Type: T cells CD4 memory activated)  \n",
       "PKD2L2_9573                                          -0.023926          \n",
       "IL9_9553                                              0.000000          \n",
       "\n",
       "[2 rows x 2700 columns]"
      ]
     },
     "execution_count": 25,
     "metadata": {},
     "output_type": "execute_result"
    }
   ],
   "source": [
    "df['pred_cat']"
   ]
  },
  {
   "cell_type": "code",
   "execution_count": 23,
   "metadata": {},
   "outputs": [
    {
     "name": "stdout",
     "output_type": "stream",
     "text": [
      "(32520, 2700)\n"
     ]
    }
   ],
   "source": [
    "# transfer predicted categories to full dataset and add UMI count\n",
    "cat_cols = df['pred_cat'].columns.tolist()\n",
    "df['ge-cat'].columns = cat_cols\n",
    "\n",
    "new_cols = [(x[0], x[1], 'UMI: ' + str(barcode_umi_sum[x[0]])) for x in cat_cols]\n",
    "\n",
    "df['ge-cat-umi'] = deepcopy(df['ge-cat'])\n",
    "df['ge-cat-umi'].columns = new_cols\n",
    "print(df['ge-cat-umi'].shape)"
   ]
  },
  {
   "cell_type": "code",
   "execution_count": 24,
   "metadata": {},
   "outputs": [
    {
     "data": {
      "application/vnd.jupyter.widget-view+json": {
       "model_id": "fc6051c55d784b81acb61faf0c08b94b"
      }
     },
     "metadata": {},
     "output_type": "display_data"
    }
   ],
   "source": [
    "net.load_df(df['ge-cat-umi'])\n",
    "net.set_cat_color(axis='col', cat_index=1, cat_name='Cell Type: T cells CD8', inst_color='red')\n",
    "net.filter_N_top(inst_rc='row', N_top=250, rank_type='var')\n",
    "net.random_sample(axis='col', num_samples=250, random_state=99)\n",
    "net.normalize(axis='row', norm_type='zscore')\n",
    "net.clip(lower=-5, upper=5)\n",
    "net.cluster()\n",
    "net.widget()"
   ]
  },
  {
   "cell_type": "code",
   "execution_count": null,
   "metadata": {},
   "outputs": [],
   "source": []
  }
 ],
 "metadata": {
  "kernelspec": {
   "display_name": "Python [py35]",
   "language": "python",
   "name": "Python [py35]"
  },
  "language_info": {
   "codemirror_mode": {
    "name": "ipython",
    "version": 3
   },
   "file_extension": ".py",
   "mimetype": "text/x-python",
   "name": "python",
   "nbconvert_exporter": "python",
   "pygments_lexer": "ipython3",
   "version": "3.5.2"
  }
 },
 "nbformat": 4,
 "nbformat_minor": 2
}
