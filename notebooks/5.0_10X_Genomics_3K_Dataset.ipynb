{
 "cells": [
  {
   "cell_type": "markdown",
   "metadata": {},
   "source": [
    "# 5.0 10X Genomics PBMC 3K Dataset"
   ]
  },
  {
   "cell_type": "code",
   "execution_count": 1,
   "metadata": {},
   "outputs": [],
   "source": [
    "from clustergrammer_widget import *\n",
    "net = Network(clustergrammer_widget)\n",
    "df = {}\n",
    "\n",
    "import clustergrammer_groupby as cby\n",
    "import gene_exp_10x"
   ]
  },
  {
   "cell_type": "code",
   "execution_count": 2,
   "metadata": {},
   "outputs": [],
   "source": [
    "from sklearn.metrics import f1_score\n",
    "import pandas as pd\n",
    "import numpy as np\n",
    "from copy import deepcopy\n",
    "\n",
    "import matplotlib.pyplot as plt\n",
    "%matplotlib inline "
   ]
  },
  {
   "cell_type": "markdown",
   "metadata": {},
   "source": [
    "### Load Data"
   ]
  },
  {
   "cell_type": "code",
   "execution_count": 3,
   "metadata": {},
   "outputs": [
    {
     "data": {
      "text/plain": [
       "(32738, 2700)"
      ]
     },
     "execution_count": 3,
     "metadata": {},
     "output_type": "execute_result"
    }
   ],
   "source": [
    "df['ge-ini'] = gene_exp_10x.load_gene_exp_to_df('../data/pbmc3k_filtered_gene_bc_matrices/hg19/')\n",
    "df['ge-ini'].shape"
   ]
  },
  {
   "cell_type": "code",
   "execution_count": 4,
   "metadata": {},
   "outputs": [
    {
     "name": "stdout",
     "output_type": "stream",
     "text": [
      "32738\n",
      "32546\n",
      "['MTRNR2L11', 'MTRNR2L12', 'MTRNR2L13', 'MTRF1L', 'MTRNR2L6', 'MTRNR2L10', 'MTRNR2L7', 'MTRNR2L5', 'MTRNR2L8', 'MTRF1', 'MTRNR2L4', 'MTRNR2L1', 'MTRNR2L3', 'MT-ND1', 'MT-ND2', 'MT-CO1', 'MT-CO2', 'MT-ATP8', 'MT-ATP6', 'MT-CO3', 'MT-ND3', 'MT-ND4L', 'MT-ND4', 'MT-ND5', 'MT-ND6', 'MT-CYB']\n"
     ]
    }
   ],
   "source": [
    "all_genes = df['ge-ini'].index.tolist()\n",
    "print(len(all_genes))\n",
    "keep_genes = [x for x in all_genes if 'RPL' not in x]\n",
    "keep_genes = [x for x in keep_genes if 'RPS' not in x]\n",
    "print(len(keep_genes))\n",
    "\n",
    "df['ge'] = df['ge-ini'].loc[keep_genes]\n",
    "df['ge'].shape\n",
    "\n",
    "# Removing Mitochondrial Genes\n",
    "list_mito_genes = ['MTRNR2L11', 'MTRF1', 'MTRNR2L12', 'MTRNR2L13', 'MTRF1L', 'MTRNR2L6', 'MTRNR2L7',\n",
    "                'MTRNR2L10', 'MTRNR2L8', 'MTRNR2L5', 'MTRNR2L1', 'MTRNR2L3', 'MTRNR2L4']\n",
    "\n",
    "all_genes = df['ge'].index.tolist()\n",
    "mito_genes = [x for x in all_genes if 'MT-' == x[:3] or \n",
    "             x.split('_')[0] in list_mito_genes]\n",
    "print(mito_genes)\n",
    "\n",
    "keep_genes = [x for x in all_genes if x not in mito_genes]\n",
    "df['ge'] = df['ge'].ix[keep_genes]\n",
    "\n",
    "# normalize by UMI count\n",
    "barcode_umi_sum = df['ge'].sum()\n",
    "df['ge'] = df['ge'].div(barcode_umi_sum)"
   ]
  },
  {
   "cell_type": "code",
   "execution_count": 5,
   "metadata": {
    "scrolled": true
   },
   "outputs": [
    {
     "data": {
      "text/plain": [
       "(32520, 2700)"
      ]
     },
     "execution_count": 5,
     "metadata": {},
     "output_type": "execute_result"
    }
   ],
   "source": [
    "net.load_df(df['ge'])\n",
    "net.normalize(axis='row', norm_type='zscore')\n",
    "net.swap_nan_for_zero()\n",
    "df['ge-z'] = net.export_df()\n",
    "df['ge-z'].shape"
   ]
  },
  {
   "cell_type": "markdown",
   "metadata": {},
   "source": [
    "### Visualize Original Dataset"
   ]
  },
  {
   "cell_type": "code",
   "execution_count": 6,
   "metadata": {},
   "outputs": [
    {
     "name": "stderr",
     "output_type": "stream",
     "text": [
      "Widget Javascript not detected.  It may not be installed or enabled properly.\n"
     ]
    },
    {
     "data": {
      "application/vnd.jupyter.widget-view+json": {
       "model_id": "506f8330127246f5b6a062069feeba4a"
      }
     },
     "metadata": {},
     "output_type": "display_data"
    }
   ],
   "source": [
    "net.load_df(df['ge'])\n",
    "net.filter_N_top(inst_rc='row', N_top=250, rank_type='var')\n",
    "net.normalize(axis='row', norm_type='zscore')\n",
    "net.random_sample(axis='col', num_samples=250, random_state=99)\n",
    "net.clip(lower=-5, upper=5)\n",
    "net.cluster()\n",
    "net.widget()"
   ]
  },
  {
   "cell_type": "markdown",
   "metadata": {},
   "source": [
    "### Load NM'3337 gene sigantures"
   ]
  },
  {
   "cell_type": "code",
   "execution_count": 7,
   "metadata": {},
   "outputs": [
    {
     "name": "stdout",
     "output_type": "stream",
     "text": [
      "(523, 9)\n",
      "(523, 22)\n"
     ]
    }
   ],
   "source": [
    "net.load_file('../data/cell_type_signatures/nm3337_broad_cell_type_sigs.txt')\n",
    "df['bct-sig'] = net.export_df()\n",
    "print(df['bct-sig'].shape)\n",
    "\n",
    "net.load_file('../data/cell_type_signatures/nm3337_narrow_cell_type_sigs.txt')\n",
    "df['nct-sig'] = net.export_df()\n",
    "print(df['nct-sig'].shape)"
   ]
  },
  {
   "cell_type": "code",
   "execution_count": 8,
   "metadata": {},
   "outputs": [
    {
     "name": "stderr",
     "output_type": "stream",
     "text": [
      "Widget Javascript not detected.  It may not be installed or enabled properly.\n"
     ]
    },
    {
     "data": {
      "application/vnd.jupyter.widget-view+json": {
       "model_id": "abdc219fcdfe438387a95a02dcef1b29"
      }
     },
     "metadata": {},
     "output_type": "display_data"
    }
   ],
   "source": [
    "net.load_df(df['nct-sig'])\n",
    "net.cluster()\n",
    "net.widget()"
   ]
  },
  {
   "cell_type": "code",
   "execution_count": 9,
   "metadata": {},
   "outputs": [
    {
     "name": "stdout",
     "output_type": "stream",
     "text": [
      "523 523\n"
     ]
    }
   ],
   "source": [
    "sig_rows = df['bct-sig'].index.tolist()\n",
    "clean_sig_rows = [x.split('_')[0] for x in sig_rows]\n",
    "print(len(clean_sig_rows), len(list(set(clean_sig_rows))))"
   ]
  },
  {
   "cell_type": "code",
   "execution_count": 10,
   "metadata": {},
   "outputs": [
    {
     "name": "stdout",
     "output_type": "stream",
     "text": [
      "32520 32425\n"
     ]
    }
   ],
   "source": [
    "ge_rows = df['ge'].index.tolist()\n",
    "clean_ge_rows = [x.split('_')[0] for x in ge_rows]\n",
    "print(len(ge_rows), len(list(set(clean_ge_rows))))"
   ]
  },
  {
   "cell_type": "code",
   "execution_count": 11,
   "metadata": {},
   "outputs": [],
   "source": [
    "ser_ge_rows = pd.Series(clean_ge_rows)"
   ]
  },
  {
   "cell_type": "code",
   "execution_count": 12,
   "metadata": {},
   "outputs": [
    {
     "data": {
      "text/plain": [
       "91"
      ]
     },
     "execution_count": 12,
     "metadata": {},
     "output_type": "execute_result"
    }
   ],
   "source": [
    "gene_name_count = ser_ge_rows.value_counts(ascending=False)\n",
    "duplicate_genes = gene_name_count[gene_name_count > 1].index.tolist()\n",
    "len(duplicate_genes)"
   ]
  },
  {
   "cell_type": "markdown",
   "metadata": {},
   "source": [
    "### only add unique index to duplicate genes"
   ]
  },
  {
   "cell_type": "code",
   "execution_count": 13,
   "metadata": {},
   "outputs": [],
   "source": [
    "dup_index = {}\n",
    "new_rows = []\n",
    "for inst_row in clean_ge_rows:\n",
    "    \n",
    "    # add index to non-unique genes\n",
    "    if inst_row in duplicate_genes:\n",
    "        \n",
    "        # calc non-unique index\n",
    "        if inst_row not in dup_index:\n",
    "            dup_index[inst_row] = 1\n",
    "        else:\n",
    "            dup_index[inst_row] = dup_index[inst_row]  + 1\n",
    "            \n",
    "        new_row = inst_row + '_' + str(dup_index[inst_row])\n",
    "        \n",
    "    else:\n",
    "        new_row = inst_row\n",
    "        \n",
    "    new_rows.append(new_row)"
   ]
  },
  {
   "cell_type": "code",
   "execution_count": 14,
   "metadata": {},
   "outputs": [
    {
     "name": "stdout",
     "output_type": "stream",
     "text": [
      "32520\n",
      "32520\n"
     ]
    }
   ],
   "source": [
    "print(len(new_rows))\n",
    "print(len(list(set(new_rows))))"
   ]
  },
  {
   "cell_type": "code",
   "execution_count": 15,
   "metadata": {},
   "outputs": [],
   "source": [
    "# df['ge'].index = new_rows\n",
    "# df['ge-z'].index = new_rows"
   ]
  },
  {
   "cell_type": "markdown",
   "metadata": {},
   "source": [
    "# Predict Cell Types using NM3337 Signatures"
   ]
  },
  {
   "cell_type": "code",
   "execution_count": 16,
   "metadata": {},
   "outputs": [],
   "source": [
    "rows = df['nct-sig'].index.tolist()\n",
    "new_rows = [x.split('_')[0] for x in rows]\n",
    "df['nct-sig'].index = new_rows"
   ]
  },
  {
   "cell_type": "code",
   "execution_count": 17,
   "metadata": {
    "scrolled": true
   },
   "outputs": [
    {
     "data": {
      "text/plain": [
       "[('B cells naive', 'B cells naive'),\n",
       " ('B cells memory', 'B cells memory'),\n",
       " ('Plasma cells', 'Plasma cells'),\n",
       " ('T cells CD8', 'T cells CD8'),\n",
       " ('T cells CD4 naive', 'T cells CD4 naive'),\n",
       " ('T cells CD4 memory resting', 'T cells CD4 memory resting'),\n",
       " ('T cells CD4 memory activated', 'T cells CD4 memory activated'),\n",
       " ('T cells follicular helper', 'T cells follicular helper'),\n",
       " ('T cells regulatory (Tregs)', 'T cells regulatory (Tregs)'),\n",
       " ('T cells gamma delta', 'T cells gamma delta'),\n",
       " ('NK cells resting', 'NK cells resting'),\n",
       " ('NK cells activated', 'NK cells activated'),\n",
       " ('Monocytes', 'Monocytes'),\n",
       " ('Macrophages M0', 'Macrophages M0'),\n",
       " ('Macrophages M1', 'Macrophages M1'),\n",
       " ('Macrophages M2', 'Macrophages M2'),\n",
       " ('Dendritic cells resting', 'Dendritic cells resting'),\n",
       " ('Dendritic cells activated', 'Dendritic cells activated'),\n",
       " ('Mast cells resting', 'Mast cells resting'),\n",
       " ('Mast cells activated', 'Mast cells activated'),\n",
       " ('Eosinophils', 'Eosinophils'),\n",
       " ('Neutrophils', 'Neutrophils')]"
      ]
     },
     "execution_count": 17,
     "metadata": {},
     "output_type": "execute_result"
    }
   ],
   "source": [
    "df['nct-sig'].columns.tolist()"
   ]
  },
  {
   "cell_type": "code",
   "execution_count": 18,
   "metadata": {},
   "outputs": [],
   "source": [
    "rows = df['bct-sig'].index.tolist()\n",
    "new_rows = [x.split('_')[0] for x in rows]\n",
    "df['bct-sig'].index = new_rows"
   ]
  },
  {
   "cell_type": "code",
   "execution_count": 19,
   "metadata": {},
   "outputs": [],
   "source": [
    "# rows = df['ge-z'].index.tolist()\n",
    "# new_rows = [x.split('_')[0] for x in rows]\n",
    "# df['ge-z'].index = new_rows"
   ]
  },
  {
   "cell_type": "code",
   "execution_count": 20,
   "metadata": {},
   "outputs": [],
   "source": [
    "df['pred_cat'], df['sig_sim'], y_info = cby.predict_cats_from_sigs(df['ge-z'], df['bct-sig'], \n",
    "                                                                   predict_level='Cell Type', unknown_thresh=0.05)"
   ]
  },
  {
   "cell_type": "code",
   "execution_count": 21,
   "metadata": {},
   "outputs": [
    {
     "name": "stderr",
     "output_type": "stream",
     "text": [
      "Widget Javascript not detected.  It may not be installed or enabled properly.\n"
     ]
    },
    {
     "data": {
      "application/vnd.jupyter.widget-view+json": {
       "model_id": "c0ca9d7146414b768a7c71148d7f5c8f"
      }
     },
     "metadata": {},
     "output_type": "display_data"
    }
   ],
   "source": [
    "net.load_df(df['pred_cat'])\n",
    "net.set_cat_color(axis='col', cat_index=1, cat_name='Cell Type: T cells CD8', inst_color='red')\n",
    "net.random_sample(axis='col', num_samples=250, random_state=99)\n",
    "net.clip(lower=-5, upper=5)\n",
    "net.cluster()\n",
    "net.widget()"
   ]
  },
  {
   "cell_type": "code",
   "execution_count": 22,
   "metadata": {},
   "outputs": [
    {
     "data": {
      "text/plain": [
       "(32520, 2700)"
      ]
     },
     "execution_count": 22,
     "metadata": {},
     "output_type": "execute_result"
    }
   ],
   "source": [
    "df['ge-cat'] = deepcopy(df['ge'])\n",
    "df['ge-cat'].shape"
   ]
  },
  {
   "cell_type": "code",
   "execution_count": 23,
   "metadata": {},
   "outputs": [],
   "source": [
    "# transfer predicted categories to full dataset and add UMI count\n",
    "cat_cols = df['pred_cat'].columns.tolist()\n",
    "df['ge-cat'].columns = cat_cols\n",
    "\n",
    "# new_cols = [(x[0], x[1], 'UMI: ' + str(barcode_umi_sum[x[0]])) for x in cat_cols]\n",
    "\n",
    "df['ge-cat-umi'] = deepcopy(df['ge-cat'])\n",
    "# df['ge-cat-umi'].columns = new_cols\n",
    "# print(df['ge-cat-umi'].shape)"
   ]
  },
  {
   "cell_type": "code",
   "execution_count": 24,
   "metadata": {},
   "outputs": [
    {
     "name": "stderr",
     "output_type": "stream",
     "text": [
      "Widget Javascript not detected.  It may not be installed or enabled properly.\n"
     ]
    },
    {
     "data": {
      "application/vnd.jupyter.widget-view+json": {
       "model_id": "fadb759cc11846c4b1eb4a57addd1693"
      }
     },
     "metadata": {},
     "output_type": "display_data"
    }
   ],
   "source": [
    "net.load_df(df['ge-cat-umi'])\n",
    "net.set_cat_color(axis='col', cat_index=1, cat_name='Cell Type: T cells CD8', inst_color='red')\n",
    "net.filter_N_top(inst_rc='row', N_top=250, rank_type='var')\n",
    "net.random_sample(axis='col', num_samples=250, random_state=99)\n",
    "net.normalize(axis='row', norm_type='zscore')\n",
    "df['tmp'] = net.export_df()\n",
    "net.clip(lower=-5, upper=5)\n",
    "net.cluster()\n",
    "net.widget()"
   ]
  },
  {
   "cell_type": "code",
   "execution_count": 25,
   "metadata": {},
   "outputs": [
    {
     "data": {
      "text/plain": [
       "(250, 250)"
      ]
     },
     "execution_count": 25,
     "metadata": {},
     "output_type": "execute_result"
    }
   ],
   "source": [
    "df['tmp'].shape"
   ]
  },
  {
   "cell_type": "markdown",
   "metadata": {},
   "source": [
    "# Make more general comparison"
   ]
  },
  {
   "cell_type": "code",
   "execution_count": 26,
   "metadata": {},
   "outputs": [],
   "source": [
    "sim_dict, pval_dict = cby.sim_same_and_diff_category_samples(df['tmp'])"
   ]
  },
  {
   "cell_type": "code",
   "execution_count": 27,
   "metadata": {
    "scrolled": false
   },
   "outputs": [
    {
     "data": {
      "text/plain": [
       "0.1033134243768756"
      ]
     },
     "execution_count": 27,
     "metadata": {},
     "output_type": "execute_result"
    }
   ],
   "source": [
    "sim_dict['same'].mean()"
   ]
  },
  {
   "cell_type": "code",
   "execution_count": 28,
   "metadata": {},
   "outputs": [
    {
     "data": {
      "text/plain": [
       "-0.024238409009971908"
      ]
     },
     "execution_count": 28,
     "metadata": {},
     "output_type": "execute_result"
    }
   ],
   "source": [
    "sim_dict['diff'].mean()"
   ]
  },
  {
   "cell_type": "code",
   "execution_count": 29,
   "metadata": {},
   "outputs": [
    {
     "data": {
      "text/plain": [
       "{'mannwhitney': 0.0, 'ttest': 0.0}"
      ]
     },
     "execution_count": 29,
     "metadata": {},
     "output_type": "execute_result"
    }
   ],
   "source": [
    "pval_dict"
   ]
  },
  {
   "cell_type": "markdown",
   "metadata": {},
   "source": [
    "### Signature Prediction"
   ]
  },
  {
   "cell_type": "code",
   "execution_count": 30,
   "metadata": {},
   "outputs": [
    {
     "name": "stdout",
     "output_type": "stream",
     "text": [
      "fraction correct:  0.734074074074\n",
      "0.619396343163\n",
      "0.734074074074\n",
      "0.718106748157\n",
      "CPU times: user 1.13 s, sys: 666 ms, total: 1.79 s\n",
      "Wall time: 1.71 s\n"
     ]
    }
   ],
   "source": [
    "%%time\n",
    "net.load_df(df['ge-cat-umi'])\n",
    "net.filter_N_top(inst_rc='row', N_top=1000, rank_type='var')\n",
    "net.normalize(axis='row', norm_type='zscore')\n",
    "df['ge-cat-umi-z'] = net.export_df() \n",
    "\n",
    "df['cat-sig'], keep_genes, keep_genes_dict = cby.generate_signatures(\n",
    "                                                          df['ge-cat-umi-z'], \n",
    "                                                          'Cell Type', pval_cutoff=0.05)\n",
    "\n",
    "df['pred_cat'], df['sig_sim'], y_info = cby.predict_cats_from_sigs(df['ge-cat-umi-z'], \n",
    "                                                                   df['cat-sig'])\n",
    "\n",
    "df['conf'], populations, ser_correct, fraction_correct = cby.confusion_matrix_and_correct_series(y_info)\n",
    "print('fraction correct: ', fraction_correct)\n",
    "print(f1_score(y_info['true'], y_info['pred'], average='macro'))\n",
    "print(f1_score(y_info['true'], y_info['pred'], average='micro'))\n",
    "print(f1_score(y_info['true'], y_info['pred'], average='weighted'))"
   ]
  },
  {
   "cell_type": "markdown",
   "metadata": {},
   "source": [
    "### Shuffle"
   ]
  },
  {
   "cell_type": "code",
   "execution_count": 35,
   "metadata": {},
   "outputs": [
    {
     "name": "stdout",
     "output_type": "stream",
     "text": [
      "performance (fraction correct) of unshuffled: 0.734074074074\n",
      "mean:  0.3645185185185185 std:  0.02519414026219763\n",
      "previously calc real performance:  0.734074074074\n",
      "CPU times: user 3.54 s, sys: 779 ms, total: 4.32 s\n",
      "Wall time: 4.3 s\n"
     ]
    }
   ],
   "source": [
    "%%time\n",
    "num_shuffles = 10\n",
    "perform_ser = cby.compare_performance_to_shuffled_labels(df['ge-cat-umi-z'], 'Cell Type', \n",
    "                                                         num_shuffles=num_shuffles)\n",
    "print('mean: ', perform_ser.mean(), 'std: ', perform_ser.std())\n",
    "print('previously calc real performance: ', fraction_correct)"
   ]
  },
  {
   "cell_type": "code",
   "execution_count": 36,
   "metadata": {},
   "outputs": [
    {
     "data": {
      "text/plain": [
       "Series([], dtype: float64)"
      ]
     },
     "execution_count": 36,
     "metadata": {},
     "output_type": "execute_result"
    }
   ],
   "source": [
    "perform_ser[perform_ser > fraction_correct]"
   ]
  },
  {
   "cell_type": "code",
   "execution_count": 37,
   "metadata": {},
   "outputs": [
    {
     "data": {
      "text/plain": [
       "<matplotlib.axes._subplots.AxesSubplot at 0x10828bc18>"
      ]
     },
     "execution_count": 37,
     "metadata": {},
     "output_type": "execute_result"
    },
    {
     "data": {
      "image/png": "[encoded data removed]",
      "text/plain": [
       "<matplotlib.figure.Figure at 0x121758ef0>"
      ]
     },
     "metadata": {},
     "output_type": "display_data"
    }
   ],
   "source": [
    "perform_ser.hist()"
   ]
  },
  {
   "cell_type": "code",
   "execution_count": 38,
   "metadata": {},
   "outputs": [
    {
     "data": {
      "text/plain": [
       "14.668313810654322"
      ]
     },
     "execution_count": 38,
     "metadata": {},
     "output_type": "execute_result"
    }
   ],
   "source": [
    "(fraction_correct - perform_ser.mean())/perform_ser.std()"
   ]
  },
  {
   "cell_type": "markdown",
   "metadata": {},
   "source": [
    "# Same-Cat vs Diff-Cat Sample Similarity"
   ]
  },
  {
   "cell_type": "code",
   "execution_count": 115,
   "metadata": {},
   "outputs": [
    {
     "name": "stdout",
     "output_type": "stream",
     "text": [
      "(1000, 2700)\n"
     ]
    }
   ],
   "source": [
    "net.load_df(df['ge-cat-umi-z'])\n",
    "# net.random_sample(axis='col', num_samples=750, random_state=99)\n",
    "df['ge-small'] = net.export_df()\n",
    "print(df['ge-small'].shape)"
   ]
  },
  {
   "cell_type": "code",
   "execution_count": 116,
   "metadata": {},
   "outputs": [
    {
     "name": "stdout",
     "output_type": "stream",
     "text": [
      "CPU times: user 1min 59s, sys: 7.13 s, total: 2min 6s\n",
      "Wall time: 2min 7s\n"
     ]
    }
   ],
   "source": [
    "%%time\n",
    "sim_dict, pval_dict = cby.sim_same_and_diff_category_samples(df['ge-small'])"
   ]
  },
  {
   "cell_type": "markdown",
   "metadata": {},
   "source": [
    "### need to normalize histograms"
   ]
  },
  {
   "cell_type": "code",
   "execution_count": 117,
   "metadata": {},
   "outputs": [
    {
     "data": {
      "image/png": "[encoded data removed]",
      "text/plain": [
       "<matplotlib.figure.Figure at 0x122860630>"
      ]
     },
     "metadata": {},
     "output_type": "display_data"
    }
   ],
   "source": [
    "hist = {}\n",
    "hist['diff'] = sim_dict['diff'].hist(bins=100, range=(-0.2,0.5))"
   ]
  },
  {
   "cell_type": "code",
   "execution_count": 118,
   "metadata": {},
   "outputs": [
    {
     "data": {
      "image/png": "[encoded data removed]",
      "text/plain": [
       "<matplotlib.figure.Figure at 0x123bd68d0>"
      ]
     },
     "metadata": {},
     "output_type": "display_data"
    }
   ],
   "source": [
    "hist['same'] = sim_dict['same'].hist(bins=100, range=(-0.2,0.5))"
   ]
  },
  {
   "cell_type": "code",
   "execution_count": 119,
   "metadata": {},
   "outputs": [
    {
     "data": {
      "text/plain": [
       "-0.011174412632669054"
      ]
     },
     "execution_count": 119,
     "metadata": {},
     "output_type": "execute_result"
    }
   ],
   "source": [
    "sim_dict['diff'].mean()"
   ]
  },
  {
   "cell_type": "code",
   "execution_count": 120,
   "metadata": {},
   "outputs": [
    {
     "data": {
      "text/plain": [
       "0.05650379027285602"
      ]
     },
     "execution_count": 120,
     "metadata": {},
     "output_type": "execute_result"
    }
   ],
   "source": [
    "sim_dict['same'].mean()"
   ]
  },
  {
   "cell_type": "markdown",
   "metadata": {},
   "source": [
    "### Calc ROC Curve"
   ]
  },
  {
   "cell_type": "code",
   "execution_count": 121,
   "metadata": {},
   "outputs": [],
   "source": [
    "from sklearn.metrics import roc_curve"
   ]
  },
  {
   "cell_type": "code",
   "execution_count": 129,
   "metadata": {},
   "outputs": [
    {
     "data": {
      "text/plain": [
       "(595270,)"
      ]
     },
     "execution_count": 129,
     "metadata": {},
     "output_type": "execute_result"
    }
   ],
   "source": [
    "sim_dict['same'].shape"
   ]
  },
  {
   "cell_type": "code",
   "execution_count": 132,
   "metadata": {},
   "outputs": [
    {
     "name": "stdout",
     "output_type": "stream",
     "text": [
      "3643650\n"
     ]
    }
   ],
   "source": [
    "true_index = list(np.ones(sim_dict['same'].shape[0]))\n",
    "false_index = list(np.zeros(sim_dict['diff'].shape[0]))\n",
    "y_true = true_index + false_index\n",
    "print(len(y_true))"
   ]
  },
  {
   "cell_type": "code",
   "execution_count": 133,
   "metadata": {},
   "outputs": [
    {
     "name": "stdout",
     "output_type": "stream",
     "text": [
      "3643650\n"
     ]
    }
   ],
   "source": [
    "true_val = list(sim_dict['same'].get_values())\n",
    "false_val = list(sim_dict['diff'].get_values())\n",
    "y_score = true_val + false_val\n",
    "print(len(y_score))"
   ]
  },
  {
   "cell_type": "code",
   "execution_count": 135,
   "metadata": {},
   "outputs": [],
   "source": [
    "fpr, tpr, thresholds = roc_curve(y_true, y_score)"
   ]
  },
  {
   "cell_type": "code",
   "execution_count": 136,
   "metadata": {},
   "outputs": [
    {
     "data": {
      "text/plain": [
       "(1361804,)"
      ]
     },
     "execution_count": 136,
     "metadata": {},
     "output_type": "execute_result"
    }
   ],
   "source": [
    "fpr.shape"
   ]
  },
  {
   "cell_type": "code",
   "execution_count": 137,
   "metadata": {},
   "outputs": [
    {
     "data": {
      "text/plain": [
       "(1361804,)"
      ]
     },
     "execution_count": 137,
     "metadata": {},
     "output_type": "execute_result"
    }
   ],
   "source": [
    "tpr.shape"
   ]
  },
  {
   "cell_type": "markdown",
   "metadata": {},
   "source": [
    "### Plot ROC Curve"
   ]
  },
  {
   "cell_type": "code",
   "execution_count": 147,
   "metadata": {},
   "outputs": [
    {
     "data": {
      "text/plain": [
       "<matplotlib.figure.Figure at 0x255902438>"
      ]
     },
     "execution_count": 147,
     "metadata": {},
     "output_type": "execute_result"
    },
    {
     "data": {
      "image/png": "[encoded data removed]",
      "text/plain": [
       "<matplotlib.figure.Figure at 0x17d698160>"
      ]
     },
     "metadata": {},
     "output_type": "display_data"
    },
    {
     "data": {
      "text/plain": [
       "<matplotlib.figure.Figure at 0x255902438>"
      ]
     },
     "metadata": {},
     "output_type": "display_data"
    }
   ],
   "source": [
    "plt.figure()\n",
    "plt.plot(fpr, tpr)\n",
    "plt.plot([0, 1], [0, 1], color='navy', linestyle='--')\n",
    "plt.figure(figsize=(10,10))"
   ]
  },
  {
   "cell_type": "code",
   "execution_count": 142,
   "metadata": {},
   "outputs": [],
   "source": [
    "from sklearn.metrics import auc"
   ]
  },
  {
   "cell_type": "code",
   "execution_count": 144,
   "metadata": {},
   "outputs": [
    {
     "data": {
      "text/plain": [
       "0.79334894112062815"
      ]
     },
     "execution_count": 144,
     "metadata": {},
     "output_type": "execute_result"
    }
   ],
   "source": [
    "auc(fpr, tpr)"
   ]
  },
  {
   "cell_type": "code",
   "execution_count": null,
   "metadata": {},
   "outputs": [],
   "source": []
  },
  {
   "cell_type": "code",
   "execution_count": null,
   "metadata": {},
   "outputs": [],
   "source": []
  },
  {
   "cell_type": "code",
   "execution_count": null,
   "metadata": {},
   "outputs": [],
   "source": []
  },
  {
   "cell_type": "code",
   "execution_count": 143,
   "metadata": {},
   "outputs": [
    {
     "data": {
      "text/plain": [
       "<matplotlib.axes._subplots.AxesSubplot at 0x197f73390>"
      ]
     },
     "execution_count": 143,
     "metadata": {},
     "output_type": "execute_result"
    }
   ],
   "source": [
    "hist['diff']"
   ]
  },
  {
   "cell_type": "code",
   "execution_count": null,
   "metadata": {},
   "outputs": [],
   "source": [
    "x = range(1000)"
   ]
  },
  {
   "cell_type": "code",
   "execution_count": 63,
   "metadata": {},
   "outputs": [
    {
     "data": {
      "text/plain": [
       "(array([  10,   24,   51,  129,  266,  852, 4206, 8540, 2509,  224]),\n",
       " array([ -2.29156215e-03,  -1.96546486e-03,  -1.63936757e-03,\n",
       "         -1.31327027e-03,  -9.87172976e-04,  -6.61075682e-04,\n",
       "         -3.34978388e-04,  -8.88109303e-06,   3.17216201e-04,\n",
       "          6.43313496e-04,   9.69410790e-04]))"
      ]
     },
     "execution_count": 63,
     "metadata": {},
     "output_type": "execute_result"
    }
   ],
   "source": [
    "np.histogram(sim_dict['diff'], )"
   ]
  },
  {
   "cell_type": "code",
   "execution_count": 60,
   "metadata": {},
   "outputs": [
    {
     "data": {
      "text/plain": [
       "<matplotlib.axes._subplots.AxesSubplot at 0x1239d2eb8>"
      ]
     },
     "execution_count": 60,
     "metadata": {},
     "output_type": "execute_result"
    },
    {
     "data": {
      "image/png": "[encoded data removed]",
      "text/plain": [
       "<matplotlib.figure.Figure at 0x121da1898>"
      ]
     },
     "metadata": {},
     "output_type": "display_data"
    }
   ],
   "source": [
    "sim_dict['diff'].hist()\n",
    "sim_dict['same'].hist()"
   ]
  },
  {
   "cell_type": "code",
   "execution_count": 57,
   "metadata": {},
   "outputs": [
    {
     "name": "stdout",
     "output_type": "stream",
     "text": [
      "1.0000000000000067 0.9999999999999993\n"
     ]
    }
   ],
   "source": [
    "print(sim_dict['diff'].sum(), sim_dict['same'].sum())"
   ]
  },
  {
   "cell_type": "code",
   "execution_count": 58,
   "metadata": {},
   "outputs": [
    {
     "name": "stdout",
     "output_type": "stream",
     "text": [
      "5.948486110284972e-05 0.00032372936225315616\n"
     ]
    }
   ],
   "source": [
    "print(sim_dict['diff'].mean(), sim_dict['same'].mean())"
   ]
  },
  {
   "cell_type": "code",
   "execution_count": null,
   "metadata": {},
   "outputs": [],
   "source": []
  }
 ],
 "metadata": {
  "kernelspec": {
   "display_name": "Python 3",
   "language": "python",
   "name": "python3"
  },
  "language_info": {
   "codemirror_mode": {
    "name": "ipython",
    "version": 3
   },
   "file_extension": ".py",
   "mimetype": "text/x-python",
   "name": "python",
   "nbconvert_exporter": "python",
   "pygments_lexer": "ipython3",
   "version": "3.5.2"
  },
  "widgets": {
   "application/vnd.jupyter.widget-state+json": {
    "state": {},
    "version_major": 1,
    "version_minor": 0
   }
  }
 },
 "nbformat": 4,
 "nbformat_minor": 2
}
