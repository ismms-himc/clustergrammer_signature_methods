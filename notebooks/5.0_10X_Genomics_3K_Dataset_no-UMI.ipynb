{
 "cells": [
  {
   "cell_type": "markdown",
   "metadata": {},
   "source": [
    "# 5.0 10X Genomics PBMC 3K Dataset"
   ]
  },
  {
   "cell_type": "code",
   "execution_count": 24,
   "metadata": {},
   "outputs": [],
   "source": [
    "from clustergrammer import *\n",
    "net = Network()\n",
    "df = {}\n",
    "\n",
    "import clustergrammer_widget2\n",
    "import clustergrammer_groupby as cby\n",
    "import gene_exp_10x"
   ]
  },
  {
   "cell_type": "code",
   "execution_count": 25,
   "metadata": {},
   "outputs": [],
   "source": [
    "from sklearn.metrics import f1_score\n",
    "import pandas as pd\n",
    "import numpy as np\n",
    "from copy import deepcopy\n",
    "\n",
    "import matplotlib.pyplot as plt\n",
    "%matplotlib inline "
   ]
  },
  {
   "cell_type": "markdown",
   "metadata": {},
   "source": [
    "### Load Data"
   ]
  },
  {
   "cell_type": "code",
   "execution_count": 26,
   "metadata": {},
   "outputs": [
    {
     "data": {
      "text/plain": [
       "(32738, 2700)"
      ]
     },
     "execution_count": 26,
     "metadata": {},
     "output_type": "execute_result"
    }
   ],
   "source": [
    "df = gene_exp_10x.load_gene_exp_to_df('../data/pbmc3k_filtered_gene_bc_matrices/hg19/')\n",
    "df.shape"
   ]
  },
  {
   "cell_type": "code",
   "execution_count": 27,
   "metadata": {},
   "outputs": [
    {
     "name": "stdout",
     "output_type": "stream",
     "text": [
      "32738\n",
      "32546\n",
      "['MTRNR2L11', 'MTRNR2L12', 'MTRNR2L13', 'MTRF1L', 'MTRNR2L6', 'MTRNR2L10', 'MTRNR2L7', 'MTRNR2L5', 'MTRNR2L8', 'MTRF1', 'MTRNR2L4', 'MTRNR2L1', 'MTRNR2L3', 'MT-ND1', 'MT-ND2', 'MT-CO1', 'MT-CO2', 'MT-ATP8', 'MT-ATP6', 'MT-CO3', 'MT-ND3', 'MT-ND4L', 'MT-ND4', 'MT-ND5', 'MT-ND6', 'MT-CYB']\n"
     ]
    },
    {
     "name": "stderr",
     "output_type": "stream",
     "text": [
      "/Users/nickfernandez/anaconda3/lib/python3.6/site-packages/ipykernel_launcher.py:20: DeprecationWarning: \n",
      ".ix is deprecated. Please use\n",
      ".loc for label based indexing or\n",
      ".iloc for positional indexing\n",
      "\n",
      "See the documentation here:\n",
      "http://pandas.pydata.org/pandas-docs/stable/indexing.html#ix-indexer-is-deprecated\n"
     ]
    }
   ],
   "source": [
    "all_genes = df.index.tolist()\n",
    "print(len(all_genes))\n",
    "keep_genes = [x for x in all_genes if 'RPL' not in x]\n",
    "keep_genes = [x for x in keep_genes if 'RPS' not in x]\n",
    "print(len(keep_genes))\n",
    "\n",
    "df = df.loc[keep_genes]\n",
    "df.shape\n",
    "\n",
    "# Removing Mitochondrial Genes\n",
    "list_mito_genes = ['MTRNR2L11', 'MTRF1', 'MTRNR2L12', 'MTRNR2L13', 'MTRF1L', 'MTRNR2L6', 'MTRNR2L7',\n",
    "                'MTRNR2L10', 'MTRNR2L8', 'MTRNR2L5', 'MTRNR2L1', 'MTRNR2L3', 'MTRNR2L4']\n",
    "\n",
    "all_genes = df.index.tolist()\n",
    "mito_genes = [x for x in all_genes if 'MT-' == x[:3] or \n",
    "             x.split('_')[0] in list_mito_genes]\n",
    "print(mito_genes)\n",
    "\n",
    "keep_genes = [x for x in all_genes if x not in mito_genes]\n",
    "df = df.ix[keep_genes]\n",
    "\n",
    "# # normalize by UMI count\n",
    "# barcode_umi_sum = df['ge'].sum()\n",
    "# df['ge'] = df['ge'].div(barcode_umi_sum)"
   ]
  },
  {
   "cell_type": "code",
   "execution_count": 28,
   "metadata": {},
   "outputs": [],
   "source": [
    "def calc_mean_var_disp(df_inst):\n",
    "    mean_arr = []\n",
    "    var_arr = []\n",
    "    mean_names = []\n",
    "    for inst_gene in df_inst.index.tolist():\n",
    "        mean_arr.append( df_inst.loc[inst_gene].mean() )\n",
    "        var_arr.append(df_inst.loc[inst_gene].var())\n",
    "        mean_names.append(inst_gene)\n",
    "\n",
    "    ser_mean = pd.Series(data=mean_arr, index=mean_names)\n",
    "    ser_var = pd.Series(data=var_arr, index=mean_names)    \n",
    "    return ser_mean, ser_var"
   ]
  },
  {
   "cell_type": "code",
   "execution_count": 29,
   "metadata": {},
   "outputs": [
    {
     "name": "stdout",
     "output_type": "stream",
     "text": [
      "(6844, 2700)\n"
     ]
    }
   ],
   "source": [
    "ser_mean, ser_var = calc_mean_var_disp(df)\n",
    "min_mean = 0.02\n",
    "keep_genes = ser_mean[ser_mean>min_mean].index.tolist()\n",
    "df = df.loc[keep_genes]\n",
    "print(df.shape)"
   ]
  },
  {
   "cell_type": "markdown",
   "metadata": {},
   "source": [
    "### Filter by Dispersion"
   ]
  },
  {
   "cell_type": "code",
   "execution_count": 30,
   "metadata": {},
   "outputs": [],
   "source": [
    "num_genes = 1000\n",
    "num_cells = 1000"
   ]
  },
  {
   "cell_type": "code",
   "execution_count": 31,
   "metadata": {},
   "outputs": [],
   "source": [
    "ser_mean, ser_var = calc_mean_var_disp(df)\n",
    "ser_disp = ser_var.divide(ser_mean).sort_values(ascending=False)\n",
    "keep_genes = ser_disp[:num_genes].index.tolist()"
   ]
  },
  {
   "cell_type": "markdown",
   "metadata": {},
   "source": [
    "### Arcsin Transform"
   ]
  },
  {
   "cell_type": "code",
   "execution_count": 32,
   "metadata": {},
   "outputs": [],
   "source": [
    "df = df.loc[keep_genes]\n",
    "df.shape\n",
    "df = np.arcsinh(df/5)"
   ]
  },
  {
   "cell_type": "markdown",
   "metadata": {},
   "source": [
    "### Z-score and Subset of Data"
   ]
  },
  {
   "cell_type": "code",
   "execution_count": 33,
   "metadata": {
    "scrolled": true
   },
   "outputs": [
    {
     "data": {
      "text/plain": [
       "(1000, 1000)"
      ]
     },
     "execution_count": 33,
     "metadata": {},
     "output_type": "execute_result"
    }
   ],
   "source": [
    "net.load_df(df)\n",
    "net.normalize(axis='row', norm_type='zscore')\n",
    "net.swap_nan_for_zero()\n",
    "net.random_sample(axis='col', num_samples=num_cells, random_state=99)\n",
    "df = net.export_df()\n",
    "df.shape"
   ]
  },
  {
   "cell_type": "markdown",
   "metadata": {},
   "source": [
    "# Visualize Data in Clustergrammer-Widget2"
   ]
  },
  {
   "cell_type": "code",
   "execution_count": 34,
   "metadata": {},
   "outputs": [
    {
     "data": {
      "application/vnd.jupyter.widget-view+json": {
       "model_id": "13b5746a798342c3ad6a6cb27ec07aa9",
       "version_major": 2,
       "version_minor": 0
      },
      "text/plain": [
       "ExampleWidget(network='{\"row_nodes\": [{\"name\": \"IGJ\", \"ini\": 1000, \"clust\": 776, \"rank\": 71, \"rankvar\": 34, \"g…"
      ]
     },
     "metadata": {},
     "output_type": "display_data"
    }
   ],
   "source": [
    "net.load_df(df)\n",
    "net.clip(lower=-5, upper=5)\n",
    "net.cluster()\n",
    "net_json = net.export_viz_to_widget()\n",
    "w = clustergrammer_widget2.ExampleWidget(network=net_json)\n",
    "w"
   ]
  },
  {
   "cell_type": "code",
   "execution_count": null,
   "metadata": {},
   "outputs": [],
   "source": []
  },
  {
   "cell_type": "markdown",
   "metadata": {},
   "source": [
    "### Visualize Original Dataset"
   ]
  },
  {
   "cell_type": "code",
   "execution_count": null,
   "metadata": {},
   "outputs": [],
   "source": [
    "net.load_df(df['ge'])\n",
    "net.filter_N_top(inst_rc='row', N_top=250, rank_type='var')\n",
    "net.normalize(axis='row', norm_type='zscore')\n",
    "net.random_sample(axis='col', num_samples=250, random_state=99)\n",
    "net.clip(lower=-5, upper=5)\n",
    "net.cluster()\n",
    "net.widget()"
   ]
  },
  {
   "cell_type": "markdown",
   "metadata": {},
   "source": [
    "### Load NM'3337 gene sigantures"
   ]
  },
  {
   "cell_type": "code",
   "execution_count": null,
   "metadata": {},
   "outputs": [],
   "source": [
    "net.load_file('../data/cell_type_signatures/nm3337_broad_cell_type_sigs.txt')\n",
    "df['bct-sig'] = net.export_df()\n",
    "print(df['bct-sig'].shape)\n",
    "\n",
    "net.load_file('../data/cell_type_signatures/nm3337_narrow_cell_type_sigs.txt')\n",
    "df['nct-sig'] = net.export_df()\n",
    "print(df['nct-sig'].shape)"
   ]
  },
  {
   "cell_type": "code",
   "execution_count": null,
   "metadata": {},
   "outputs": [],
   "source": [
    "net.load_df(df['nct-sig'])\n",
    "net.cluster()\n",
    "net.widget()"
   ]
  },
  {
   "cell_type": "code",
   "execution_count": null,
   "metadata": {},
   "outputs": [],
   "source": [
    "sig_rows = df['bct-sig'].index.tolist()\n",
    "clean_sig_rows = [x.split('_')[0] for x in sig_rows]\n",
    "print(len(clean_sig_rows), len(list(set(clean_sig_rows))))"
   ]
  },
  {
   "cell_type": "code",
   "execution_count": null,
   "metadata": {},
   "outputs": [],
   "source": [
    "ge_rows = df['ge'].index.tolist()\n",
    "clean_ge_rows = [x.split('_')[0] for x in ge_rows]\n",
    "print(len(ge_rows), len(list(set(clean_ge_rows))))"
   ]
  },
  {
   "cell_type": "code",
   "execution_count": null,
   "metadata": {},
   "outputs": [],
   "source": [
    "ser_ge_rows = pd.Series(clean_ge_rows)"
   ]
  },
  {
   "cell_type": "code",
   "execution_count": null,
   "metadata": {},
   "outputs": [],
   "source": [
    "gene_name_count = ser_ge_rows.value_counts(ascending=False)\n",
    "duplicate_genes = gene_name_count[gene_name_count > 1].index.tolist()\n",
    "len(duplicate_genes)"
   ]
  },
  {
   "cell_type": "markdown",
   "metadata": {},
   "source": [
    "### only add unique index to duplicate genes"
   ]
  },
  {
   "cell_type": "code",
   "execution_count": null,
   "metadata": {},
   "outputs": [],
   "source": [
    "dup_index = {}\n",
    "new_rows = []\n",
    "for inst_row in clean_ge_rows:\n",
    "    \n",
    "    # add index to non-unique genes\n",
    "    if inst_row in duplicate_genes:\n",
    "        \n",
    "        # calc non-unique index\n",
    "        if inst_row not in dup_index:\n",
    "            dup_index[inst_row] = 1\n",
    "        else:\n",
    "            dup_index[inst_row] = dup_index[inst_row]  + 1\n",
    "            \n",
    "        new_row = inst_row + '_' + str(dup_index[inst_row])\n",
    "        \n",
    "    else:\n",
    "        new_row = inst_row\n",
    "        \n",
    "    new_rows.append(new_row)"
   ]
  },
  {
   "cell_type": "code",
   "execution_count": null,
   "metadata": {},
   "outputs": [],
   "source": [
    "print(len(new_rows))\n",
    "print(len(list(set(new_rows))))"
   ]
  },
  {
   "cell_type": "code",
   "execution_count": null,
   "metadata": {},
   "outputs": [],
   "source": [
    "# df['ge'].index = new_rows\n",
    "# df['ge-z'].index = new_rows"
   ]
  },
  {
   "cell_type": "markdown",
   "metadata": {},
   "source": [
    "# Predict Cell Types using NM3337 Signatures"
   ]
  },
  {
   "cell_type": "code",
   "execution_count": null,
   "metadata": {},
   "outputs": [],
   "source": [
    "rows = df['nct-sig'].index.tolist()\n",
    "new_rows = [x.split('_')[0] for x in rows]\n",
    "df['nct-sig'].index = new_rows"
   ]
  },
  {
   "cell_type": "code",
   "execution_count": null,
   "metadata": {
    "scrolled": true
   },
   "outputs": [],
   "source": [
    "df['nct-sig'].columns.tolist()"
   ]
  },
  {
   "cell_type": "code",
   "execution_count": null,
   "metadata": {},
   "outputs": [],
   "source": [
    "rows = df['bct-sig'].index.tolist()\n",
    "new_rows = [x.split('_')[0] for x in rows]\n",
    "df['bct-sig'].index = new_rows"
   ]
  },
  {
   "cell_type": "code",
   "execution_count": null,
   "metadata": {},
   "outputs": [],
   "source": [
    "# rows = df['ge-z'].index.tolist()\n",
    "# new_rows = [x.split('_')[0] for x in rows]\n",
    "# df['ge-z'].index = new_rows"
   ]
  },
  {
   "cell_type": "code",
   "execution_count": null,
   "metadata": {},
   "outputs": [],
   "source": [
    "df['pred_cat'], df['sig_sim'], y_info = cby.predict_cats_from_sigs(df['ge-z'], df['bct-sig'], \n",
    "                                                                   predict_level='Cell Type', unknown_thresh=0.05)"
   ]
  },
  {
   "cell_type": "code",
   "execution_count": null,
   "metadata": {},
   "outputs": [],
   "source": [
    "net.load_df(df['pred_cat'])\n",
    "net.set_cat_color(axis='col', cat_index=1, cat_name='Cell Type: T cells CD8', inst_color='red')\n",
    "net.random_sample(axis='col', num_samples=250, random_state=99)\n",
    "net.clip(lower=-5, upper=5)\n",
    "net.cluster()\n",
    "net.widget()"
   ]
  },
  {
   "cell_type": "code",
   "execution_count": null,
   "metadata": {},
   "outputs": [],
   "source": [
    "df['ge-cat'] = deepcopy(df['ge'])\n",
    "df['ge-cat'].shape"
   ]
  },
  {
   "cell_type": "code",
   "execution_count": null,
   "metadata": {},
   "outputs": [],
   "source": [
    "# transfer predicted categories to full dataset and add UMI count\n",
    "cat_cols = df['pred_cat'].columns.tolist()\n",
    "df['ge-cat'].columns = cat_cols\n",
    "\n",
    "# new_cols = [(x[0], x[1], 'UMI: ' + str(barcode_umi_sum[x[0]])) for x in cat_cols]\n",
    "\n",
    "df['ge-cat-umi'] = deepcopy(df['ge-cat'])\n",
    "# df['ge-cat-umi'].columns = new_cols\n",
    "# print(df['ge-cat-umi'].shape)"
   ]
  },
  {
   "cell_type": "code",
   "execution_count": null,
   "metadata": {},
   "outputs": [],
   "source": [
    "net.load_df(df['ge-cat-umi'])\n",
    "net.set_cat_color(axis='col', cat_index=1, cat_name='Cell Type: T cells CD8', inst_color='red')\n",
    "net.filter_N_top(inst_rc='row', N_top=250, rank_type='var')\n",
    "net.random_sample(axis='col', num_samples=250, random_state=99)\n",
    "net.normalize(axis='row', norm_type='zscore')\n",
    "df['tmp'] = net.export_df()\n",
    "net.clip(lower=-5, upper=5)\n",
    "net.cluster()\n",
    "net.widget()"
   ]
  },
  {
   "cell_type": "code",
   "execution_count": null,
   "metadata": {},
   "outputs": [],
   "source": [
    "df['tmp'].shape"
   ]
  },
  {
   "cell_type": "markdown",
   "metadata": {},
   "source": [
    "# Make more general comparison"
   ]
  },
  {
   "cell_type": "code",
   "execution_count": null,
   "metadata": {},
   "outputs": [],
   "source": [
    "sim_dict, pval_dict = cby.sim_same_and_diff_category_samples(df['tmp'])"
   ]
  },
  {
   "cell_type": "code",
   "execution_count": null,
   "metadata": {
    "scrolled": false
   },
   "outputs": [],
   "source": [
    "sim_dict['same'].mean()"
   ]
  },
  {
   "cell_type": "code",
   "execution_count": null,
   "metadata": {},
   "outputs": [],
   "source": [
    "sim_dict['diff'].mean()"
   ]
  },
  {
   "cell_type": "code",
   "execution_count": null,
   "metadata": {},
   "outputs": [],
   "source": [
    "pval_dict"
   ]
  },
  {
   "cell_type": "markdown",
   "metadata": {},
   "source": [
    "### Signature Prediction "
   ]
  },
  {
   "cell_type": "code",
   "execution_count": null,
   "metadata": {
    "scrolled": true
   },
   "outputs": [],
   "source": [
    "%%time\n",
    "net.load_df(df['ge-cat-umi'])\n",
    "net.filter_N_top(inst_rc='row', N_top=1000, rank_type='var')\n",
    "net.normalize(axis='row', norm_type='zscore')\n",
    "df['ge-cat-umi-z'] = net.export_df() \n",
    "\n",
    "df['cat-sig'], keep_genes, keep_genes_dict = cby.generate_signatures(\n",
    "                                                          df['ge-cat-umi-z'], \n",
    "                                                          'Cell Type', pval_cutoff=0.05)\n",
    "\n",
    "df['pred_cat'], df['sig_sim'], y_info = cby.predict_cats_from_sigs(df['ge-cat-umi-z'], \n",
    "                                                                   df['cat-sig'])\n",
    "\n",
    "df['conf'], populations, ser_correct, fraction_correct = cby.confusion_matrix_and_correct_series(y_info)\n",
    "print('fraction correct: ', fraction_correct)\n",
    "print(f1_score(y_info['true'], y_info['pred'], average='macro'))\n",
    "print(f1_score(y_info['true'], y_info['pred'], average='micro'))\n",
    "print(f1_score(y_info['true'], y_info['pred'], average='weighted'))"
   ]
  },
  {
   "cell_type": "markdown",
   "metadata": {},
   "source": [
    "### Shuffle"
   ]
  },
  {
   "cell_type": "code",
   "execution_count": null,
   "metadata": {},
   "outputs": [],
   "source": [
    "df['ge-cat-umi-z'].shape"
   ]
  },
  {
   "cell_type": "code",
   "execution_count": null,
   "metadata": {},
   "outputs": [],
   "source": [
    "%%time\n",
    "num_shuffles = 10\n",
    "perform_ser = cby.compare_performance_to_shuffled_labels(df['ge-cat-umi-z'], 'Cell Type', \n",
    "                                                         num_shuffles=num_shuffles)\n",
    "print('mean: ', perform_ser.mean(), 'std: ', perform_ser.std())\n",
    "print('previously calc real performance: ', fraction_correct)"
   ]
  },
  {
   "cell_type": "code",
   "execution_count": null,
   "metadata": {},
   "outputs": [],
   "source": [
    "# perform_ser"
   ]
  },
  {
   "cell_type": "code",
   "execution_count": null,
   "metadata": {},
   "outputs": [],
   "source": [
    "perform_ser.hist()"
   ]
  },
  {
   "cell_type": "code",
   "execution_count": null,
   "metadata": {},
   "outputs": [],
   "source": [
    "(fraction_correct - perform_ser.mean())/perform_ser.std()"
   ]
  },
  {
   "cell_type": "markdown",
   "metadata": {},
   "source": [
    "# Same-Cat vs Diff-Cat Sample Similarity"
   ]
  },
  {
   "cell_type": "code",
   "execution_count": null,
   "metadata": {},
   "outputs": [],
   "source": [
    "net.load_df(df['ge-cat-umi'])\n",
    "net.filter_N_top(inst_rc='row', N_top=1000, rank_type='var')\n",
    "net.normalize(axis='row', norm_type='zscore')\n",
    "# net.random_sample(axis='col', num_samples=750, random_state=99)\n",
    "df['ge-small'] = net.export_df()\n",
    "print(df['ge-small'].shape)"
   ]
  },
  {
   "cell_type": "code",
   "execution_count": null,
   "metadata": {},
   "outputs": [],
   "source": [
    "%%time\n",
    "sim_dict, pval_dict = cby.sim_same_and_diff_category_samples(df['ge-small'])"
   ]
  },
  {
   "cell_type": "code",
   "execution_count": null,
   "metadata": {},
   "outputs": [],
   "source": [
    "hist = {}\n",
    "hist['diff'] = sim_dict['diff'].hist(bins=100, range=(-0.2,0.5))"
   ]
  },
  {
   "cell_type": "code",
   "execution_count": null,
   "metadata": {},
   "outputs": [],
   "source": [
    "hist['same'] = sim_dict['same'].hist(bins=100, range=(-0.2,0.5))"
   ]
  },
  {
   "cell_type": "code",
   "execution_count": null,
   "metadata": {},
   "outputs": [],
   "source": [
    "sim_dict['diff'].mean()"
   ]
  },
  {
   "cell_type": "code",
   "execution_count": null,
   "metadata": {},
   "outputs": [],
   "source": [
    "sim_dict['same'].mean()"
   ]
  },
  {
   "cell_type": "markdown",
   "metadata": {},
   "source": [
    "### Calc ROC Curve"
   ]
  },
  {
   "cell_type": "code",
   "execution_count": null,
   "metadata": {},
   "outputs": [],
   "source": [
    "from sklearn.metrics import roc_curve\n",
    "sim_dict['same'].shape"
   ]
  },
  {
   "cell_type": "code",
   "execution_count": null,
   "metadata": {},
   "outputs": [],
   "source": [
    "true_index = list(np.ones(sim_dict['same'].shape[0]))\n",
    "false_index = list(np.zeros(sim_dict['diff'].shape[0]))\n",
    "y_true = true_index + false_index\n",
    "print(len(y_true))"
   ]
  },
  {
   "cell_type": "code",
   "execution_count": null,
   "metadata": {},
   "outputs": [],
   "source": [
    "true_val = list(sim_dict['same'].get_values())\n",
    "false_val = list(sim_dict['diff'].get_values())\n",
    "y_score = true_val + false_val\n",
    "print(len(y_score))"
   ]
  },
  {
   "cell_type": "code",
   "execution_count": null,
   "metadata": {},
   "outputs": [],
   "source": [
    "fpr, tpr, thresholds = roc_curve(y_true, y_score)"
   ]
  },
  {
   "cell_type": "code",
   "execution_count": null,
   "metadata": {},
   "outputs": [],
   "source": [
    "fpr.shape"
   ]
  },
  {
   "cell_type": "code",
   "execution_count": null,
   "metadata": {},
   "outputs": [],
   "source": [
    "tpr.shape"
   ]
  },
  {
   "cell_type": "markdown",
   "metadata": {},
   "source": [
    "### Plot ROC Curve"
   ]
  },
  {
   "cell_type": "code",
   "execution_count": null,
   "metadata": {},
   "outputs": [],
   "source": [
    "plt.figure()\n",
    "plt.plot(fpr, tpr)\n",
    "plt.plot([0, 1], [0, 1], color='navy', linestyle='--')\n",
    "plt.figure(figsize=(10,10))"
   ]
  },
  {
   "cell_type": "code",
   "execution_count": null,
   "metadata": {},
   "outputs": [],
   "source": [
    "from sklearn.metrics import auc"
   ]
  },
  {
   "cell_type": "code",
   "execution_count": null,
   "metadata": {},
   "outputs": [],
   "source": [
    "auc(fpr, tpr)"
   ]
  },
  {
   "cell_type": "code",
   "execution_count": null,
   "metadata": {},
   "outputs": [],
   "source": []
  }
 ],
 "metadata": {
  "kernelspec": {
   "display_name": "Python 3",
   "language": "python",
   "name": "python3"
  },
  "language_info": {
   "codemirror_mode": {
    "name": "ipython",
    "version": 3
   },
   "file_extension": ".py",
   "mimetype": "text/x-python",
   "name": "python",
   "nbconvert_exporter": "python",
   "pygments_lexer": "ipython3",
   "version": "3.6.5"
  }
 },
 "nbformat": 4,
 "nbformat_minor": 2
}
