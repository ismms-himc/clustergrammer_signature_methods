{
 "cells": [
  {
   "cell_type": "markdown",
   "metadata": {},
   "source": [
    "# 3.0 Full MNIST Test"
   ]
  },
  {
   "cell_type": "code",
   "execution_count": 1,
   "metadata": {},
   "outputs": [],
   "source": [
    "from clustergrammer_widget import *\n",
    "net = Network(clustergrammer_widget)\n",
    "df = {}\n",
    "\n",
    "import clustergrammer_groupby as cby\n",
    "import gene_exp_10x"
   ]
  },
  {
   "cell_type": "code",
   "execution_count": 2,
   "metadata": {},
   "outputs": [],
   "source": [
    "from sklearn.metrics import f1_score\n",
    "import pandas as pd\n",
    "import numpy as np\n",
    "from copy import deepcopy\n",
    "\n",
    "import matplotlib.pyplot as plt\n",
    "%matplotlib inline "
   ]
  },
  {
   "cell_type": "code",
   "execution_count": 3,
   "metadata": {},
   "outputs": [
    {
     "name": "stdout",
     "output_type": "stream",
     "text": [
      "CPU times: user 50.4 s, sys: 1.79 s, total: 52.2 s\n",
      "Wall time: 52.3 s\n"
     ]
    }
   ],
   "source": [
    "%%time\n",
    "net.load_file('../data/big_data/MNIST_row_labels.txt')\n",
    "df['ini'] = net.export_df()"
   ]
  },
  {
   "cell_type": "code",
   "execution_count": 10,
   "metadata": {},
   "outputs": [
    {
     "data": {
      "text/plain": [
       "(784, 70000)"
      ]
     },
     "execution_count": 10,
     "metadata": {},
     "output_type": "execute_result"
    }
   ],
   "source": [
    "df['ini'].shape"
   ]
  },
  {
   "cell_type": "code",
   "execution_count": 4,
   "metadata": {},
   "outputs": [
    {
     "data": {
      "text/html": [
       "<div>\n",
       "<table border=\"1\" class=\"dataframe\">\n",
       "  <thead>\n",
       "    <tr style=\"text-align: right;\">\n",
       "      <th></th>\n",
       "      <th>Zero-0</th>\n",
       "      <th>Zero-1</th>\n",
       "      <th>Zero-2</th>\n",
       "      <th>Zero-3</th>\n",
       "      <th>Zero-4</th>\n",
       "      <th>Zero-5</th>\n",
       "      <th>Zero-6</th>\n",
       "      <th>Zero-7</th>\n",
       "      <th>Zero-8</th>\n",
       "      <th>Zero-9</th>\n",
       "      <th>...</th>\n",
       "      <th>Nine-6948</th>\n",
       "      <th>Nine-6949</th>\n",
       "      <th>Nine-6950</th>\n",
       "      <th>Nine-6951</th>\n",
       "      <th>Nine-6952</th>\n",
       "      <th>Nine-6953</th>\n",
       "      <th>Nine-6954</th>\n",
       "      <th>Nine-6955</th>\n",
       "      <th>Nine-6956</th>\n",
       "      <th>Nine-6957</th>\n",
       "    </tr>\n",
       "  </thead>\n",
       "  <tbody>\n",
       "    <tr>\n",
       "      <th>pos_0-0</th>\n",
       "      <td>0</td>\n",
       "      <td>0</td>\n",
       "      <td>0</td>\n",
       "      <td>0</td>\n",
       "      <td>0</td>\n",
       "      <td>0</td>\n",
       "      <td>0</td>\n",
       "      <td>0</td>\n",
       "      <td>0</td>\n",
       "      <td>0</td>\n",
       "      <td>...</td>\n",
       "      <td>0</td>\n",
       "      <td>0</td>\n",
       "      <td>0</td>\n",
       "      <td>0</td>\n",
       "      <td>0</td>\n",
       "      <td>0</td>\n",
       "      <td>0</td>\n",
       "      <td>0</td>\n",
       "      <td>0</td>\n",
       "      <td>0</td>\n",
       "    </tr>\n",
       "    <tr>\n",
       "      <th>pos_0-1</th>\n",
       "      <td>0</td>\n",
       "      <td>0</td>\n",
       "      <td>0</td>\n",
       "      <td>0</td>\n",
       "      <td>0</td>\n",
       "      <td>0</td>\n",
       "      <td>0</td>\n",
       "      <td>0</td>\n",
       "      <td>0</td>\n",
       "      <td>0</td>\n",
       "      <td>...</td>\n",
       "      <td>0</td>\n",
       "      <td>0</td>\n",
       "      <td>0</td>\n",
       "      <td>0</td>\n",
       "      <td>0</td>\n",
       "      <td>0</td>\n",
       "      <td>0</td>\n",
       "      <td>0</td>\n",
       "      <td>0</td>\n",
       "      <td>0</td>\n",
       "    </tr>\n",
       "    <tr>\n",
       "      <th>pos_0-2</th>\n",
       "      <td>0</td>\n",
       "      <td>0</td>\n",
       "      <td>0</td>\n",
       "      <td>0</td>\n",
       "      <td>0</td>\n",
       "      <td>0</td>\n",
       "      <td>0</td>\n",
       "      <td>0</td>\n",
       "      <td>0</td>\n",
       "      <td>0</td>\n",
       "      <td>...</td>\n",
       "      <td>0</td>\n",
       "      <td>0</td>\n",
       "      <td>0</td>\n",
       "      <td>0</td>\n",
       "      <td>0</td>\n",
       "      <td>0</td>\n",
       "      <td>0</td>\n",
       "      <td>0</td>\n",
       "      <td>0</td>\n",
       "      <td>0</td>\n",
       "    </tr>\n",
       "    <tr>\n",
       "      <th>pos_0-3</th>\n",
       "      <td>0</td>\n",
       "      <td>0</td>\n",
       "      <td>0</td>\n",
       "      <td>0</td>\n",
       "      <td>0</td>\n",
       "      <td>0</td>\n",
       "      <td>0</td>\n",
       "      <td>0</td>\n",
       "      <td>0</td>\n",
       "      <td>0</td>\n",
       "      <td>...</td>\n",
       "      <td>0</td>\n",
       "      <td>0</td>\n",
       "      <td>0</td>\n",
       "      <td>0</td>\n",
       "      <td>0</td>\n",
       "      <td>0</td>\n",
       "      <td>0</td>\n",
       "      <td>0</td>\n",
       "      <td>0</td>\n",
       "      <td>0</td>\n",
       "    </tr>\n",
       "    <tr>\n",
       "      <th>pos_0-4</th>\n",
       "      <td>0</td>\n",
       "      <td>0</td>\n",
       "      <td>0</td>\n",
       "      <td>0</td>\n",
       "      <td>0</td>\n",
       "      <td>0</td>\n",
       "      <td>0</td>\n",
       "      <td>0</td>\n",
       "      <td>0</td>\n",
       "      <td>0</td>\n",
       "      <td>...</td>\n",
       "      <td>0</td>\n",
       "      <td>0</td>\n",
       "      <td>0</td>\n",
       "      <td>0</td>\n",
       "      <td>0</td>\n",
       "      <td>0</td>\n",
       "      <td>0</td>\n",
       "      <td>0</td>\n",
       "      <td>0</td>\n",
       "      <td>0</td>\n",
       "    </tr>\n",
       "  </tbody>\n",
       "</table>\n",
       "<p>5 rows × 70000 columns</p>\n",
       "</div>"
      ],
      "text/plain": [
       "         Zero-0  Zero-1  Zero-2  Zero-3  Zero-4  Zero-5  Zero-6  Zero-7  \\\n",
       "pos_0-0       0       0       0       0       0       0       0       0   \n",
       "pos_0-1       0       0       0       0       0       0       0       0   \n",
       "pos_0-2       0       0       0       0       0       0       0       0   \n",
       "pos_0-3       0       0       0       0       0       0       0       0   \n",
       "pos_0-4       0       0       0       0       0       0       0       0   \n",
       "\n",
       "         Zero-8  Zero-9    ...      Nine-6948  Nine-6949  Nine-6950  \\\n",
       "pos_0-0       0       0    ...              0          0          0   \n",
       "pos_0-1       0       0    ...              0          0          0   \n",
       "pos_0-2       0       0    ...              0          0          0   \n",
       "pos_0-3       0       0    ...              0          0          0   \n",
       "pos_0-4       0       0    ...              0          0          0   \n",
       "\n",
       "         Nine-6951  Nine-6952  Nine-6953  Nine-6954  Nine-6955  Nine-6956  \\\n",
       "pos_0-0          0          0          0          0          0          0   \n",
       "pos_0-1          0          0          0          0          0          0   \n",
       "pos_0-2          0          0          0          0          0          0   \n",
       "pos_0-3          0          0          0          0          0          0   \n",
       "pos_0-4          0          0          0          0          0          0   \n",
       "\n",
       "         Nine-6957  \n",
       "pos_0-0          0  \n",
       "pos_0-1          0  \n",
       "pos_0-2          0  \n",
       "pos_0-3          0  \n",
       "pos_0-4          0  \n",
       "\n",
       "[5 rows x 70000 columns]"
      ]
     },
     "execution_count": 4,
     "metadata": {},
     "output_type": "execute_result"
    }
   ],
   "source": [
    "df['ini'].head()"
   ]
  },
  {
   "cell_type": "markdown",
   "metadata": {},
   "source": [
    "### Add categories"
   ]
  },
  {
   "cell_type": "code",
   "execution_count": 5,
   "metadata": {},
   "outputs": [],
   "source": [
    "cols = df['ini'].columns.tolist()\n",
    "new_cols = []\n",
    "for inst_col in cols:\n",
    "    new_col = (inst_col, 'Digit: ' + inst_col.split('-')[0])\n",
    "    new_cols.append(new_col)\n",
    "\n",
    "df['digits'] = deepcopy(df['ini'])\n",
    "df['digits'].columns = new_cols"
   ]
  },
  {
   "cell_type": "code",
   "execution_count": 6,
   "metadata": {},
   "outputs": [
    {
     "data": {
      "text/html": [
       "<div>\n",
       "<table border=\"1\" class=\"dataframe\">\n",
       "  <thead>\n",
       "    <tr style=\"text-align: right;\">\n",
       "      <th></th>\n",
       "      <th>(Zero-0, Digit: Zero)</th>\n",
       "      <th>(Zero-1, Digit: Zero)</th>\n",
       "      <th>(Zero-2, Digit: Zero)</th>\n",
       "      <th>(Zero-3, Digit: Zero)</th>\n",
       "      <th>(Zero-4, Digit: Zero)</th>\n",
       "      <th>(Zero-5, Digit: Zero)</th>\n",
       "      <th>(Zero-6, Digit: Zero)</th>\n",
       "      <th>(Zero-7, Digit: Zero)</th>\n",
       "      <th>(Zero-8, Digit: Zero)</th>\n",
       "      <th>(Zero-9, Digit: Zero)</th>\n",
       "      <th>...</th>\n",
       "      <th>(Nine-6948, Digit: Nine)</th>\n",
       "      <th>(Nine-6949, Digit: Nine)</th>\n",
       "      <th>(Nine-6950, Digit: Nine)</th>\n",
       "      <th>(Nine-6951, Digit: Nine)</th>\n",
       "      <th>(Nine-6952, Digit: Nine)</th>\n",
       "      <th>(Nine-6953, Digit: Nine)</th>\n",
       "      <th>(Nine-6954, Digit: Nine)</th>\n",
       "      <th>(Nine-6955, Digit: Nine)</th>\n",
       "      <th>(Nine-6956, Digit: Nine)</th>\n",
       "      <th>(Nine-6957, Digit: Nine)</th>\n",
       "    </tr>\n",
       "  </thead>\n",
       "  <tbody>\n",
       "    <tr>\n",
       "      <th>pos_0-0</th>\n",
       "      <td>0</td>\n",
       "      <td>0</td>\n",
       "      <td>0</td>\n",
       "      <td>0</td>\n",
       "      <td>0</td>\n",
       "      <td>0</td>\n",
       "      <td>0</td>\n",
       "      <td>0</td>\n",
       "      <td>0</td>\n",
       "      <td>0</td>\n",
       "      <td>...</td>\n",
       "      <td>0</td>\n",
       "      <td>0</td>\n",
       "      <td>0</td>\n",
       "      <td>0</td>\n",
       "      <td>0</td>\n",
       "      <td>0</td>\n",
       "      <td>0</td>\n",
       "      <td>0</td>\n",
       "      <td>0</td>\n",
       "      <td>0</td>\n",
       "    </tr>\n",
       "    <tr>\n",
       "      <th>pos_0-1</th>\n",
       "      <td>0</td>\n",
       "      <td>0</td>\n",
       "      <td>0</td>\n",
       "      <td>0</td>\n",
       "      <td>0</td>\n",
       "      <td>0</td>\n",
       "      <td>0</td>\n",
       "      <td>0</td>\n",
       "      <td>0</td>\n",
       "      <td>0</td>\n",
       "      <td>...</td>\n",
       "      <td>0</td>\n",
       "      <td>0</td>\n",
       "      <td>0</td>\n",
       "      <td>0</td>\n",
       "      <td>0</td>\n",
       "      <td>0</td>\n",
       "      <td>0</td>\n",
       "      <td>0</td>\n",
       "      <td>0</td>\n",
       "      <td>0</td>\n",
       "    </tr>\n",
       "    <tr>\n",
       "      <th>pos_0-2</th>\n",
       "      <td>0</td>\n",
       "      <td>0</td>\n",
       "      <td>0</td>\n",
       "      <td>0</td>\n",
       "      <td>0</td>\n",
       "      <td>0</td>\n",
       "      <td>0</td>\n",
       "      <td>0</td>\n",
       "      <td>0</td>\n",
       "      <td>0</td>\n",
       "      <td>...</td>\n",
       "      <td>0</td>\n",
       "      <td>0</td>\n",
       "      <td>0</td>\n",
       "      <td>0</td>\n",
       "      <td>0</td>\n",
       "      <td>0</td>\n",
       "      <td>0</td>\n",
       "      <td>0</td>\n",
       "      <td>0</td>\n",
       "      <td>0</td>\n",
       "    </tr>\n",
       "    <tr>\n",
       "      <th>pos_0-3</th>\n",
       "      <td>0</td>\n",
       "      <td>0</td>\n",
       "      <td>0</td>\n",
       "      <td>0</td>\n",
       "      <td>0</td>\n",
       "      <td>0</td>\n",
       "      <td>0</td>\n",
       "      <td>0</td>\n",
       "      <td>0</td>\n",
       "      <td>0</td>\n",
       "      <td>...</td>\n",
       "      <td>0</td>\n",
       "      <td>0</td>\n",
       "      <td>0</td>\n",
       "      <td>0</td>\n",
       "      <td>0</td>\n",
       "      <td>0</td>\n",
       "      <td>0</td>\n",
       "      <td>0</td>\n",
       "      <td>0</td>\n",
       "      <td>0</td>\n",
       "    </tr>\n",
       "    <tr>\n",
       "      <th>pos_0-4</th>\n",
       "      <td>0</td>\n",
       "      <td>0</td>\n",
       "      <td>0</td>\n",
       "      <td>0</td>\n",
       "      <td>0</td>\n",
       "      <td>0</td>\n",
       "      <td>0</td>\n",
       "      <td>0</td>\n",
       "      <td>0</td>\n",
       "      <td>0</td>\n",
       "      <td>...</td>\n",
       "      <td>0</td>\n",
       "      <td>0</td>\n",
       "      <td>0</td>\n",
       "      <td>0</td>\n",
       "      <td>0</td>\n",
       "      <td>0</td>\n",
       "      <td>0</td>\n",
       "      <td>0</td>\n",
       "      <td>0</td>\n",
       "      <td>0</td>\n",
       "    </tr>\n",
       "  </tbody>\n",
       "</table>\n",
       "<p>5 rows × 70000 columns</p>\n",
       "</div>"
      ],
      "text/plain": [
       "         (Zero-0, Digit: Zero)  (Zero-1, Digit: Zero)  (Zero-2, Digit: Zero)  \\\n",
       "pos_0-0                      0                      0                      0   \n",
       "pos_0-1                      0                      0                      0   \n",
       "pos_0-2                      0                      0                      0   \n",
       "pos_0-3                      0                      0                      0   \n",
       "pos_0-4                      0                      0                      0   \n",
       "\n",
       "         (Zero-3, Digit: Zero)  (Zero-4, Digit: Zero)  (Zero-5, Digit: Zero)  \\\n",
       "pos_0-0                      0                      0                      0   \n",
       "pos_0-1                      0                      0                      0   \n",
       "pos_0-2                      0                      0                      0   \n",
       "pos_0-3                      0                      0                      0   \n",
       "pos_0-4                      0                      0                      0   \n",
       "\n",
       "         (Zero-6, Digit: Zero)  (Zero-7, Digit: Zero)  (Zero-8, Digit: Zero)  \\\n",
       "pos_0-0                      0                      0                      0   \n",
       "pos_0-1                      0                      0                      0   \n",
       "pos_0-2                      0                      0                      0   \n",
       "pos_0-3                      0                      0                      0   \n",
       "pos_0-4                      0                      0                      0   \n",
       "\n",
       "         (Zero-9, Digit: Zero)            ...             \\\n",
       "pos_0-0                      0            ...              \n",
       "pos_0-1                      0            ...              \n",
       "pos_0-2                      0            ...              \n",
       "pos_0-3                      0            ...              \n",
       "pos_0-4                      0            ...              \n",
       "\n",
       "         (Nine-6948, Digit: Nine)  (Nine-6949, Digit: Nine)  \\\n",
       "pos_0-0                         0                         0   \n",
       "pos_0-1                         0                         0   \n",
       "pos_0-2                         0                         0   \n",
       "pos_0-3                         0                         0   \n",
       "pos_0-4                         0                         0   \n",
       "\n",
       "         (Nine-6950, Digit: Nine)  (Nine-6951, Digit: Nine)  \\\n",
       "pos_0-0                         0                         0   \n",
       "pos_0-1                         0                         0   \n",
       "pos_0-2                         0                         0   \n",
       "pos_0-3                         0                         0   \n",
       "pos_0-4                         0                         0   \n",
       "\n",
       "         (Nine-6952, Digit: Nine)  (Nine-6953, Digit: Nine)  \\\n",
       "pos_0-0                         0                         0   \n",
       "pos_0-1                         0                         0   \n",
       "pos_0-2                         0                         0   \n",
       "pos_0-3                         0                         0   \n",
       "pos_0-4                         0                         0   \n",
       "\n",
       "         (Nine-6954, Digit: Nine)  (Nine-6955, Digit: Nine)  \\\n",
       "pos_0-0                         0                         0   \n",
       "pos_0-1                         0                         0   \n",
       "pos_0-2                         0                         0   \n",
       "pos_0-3                         0                         0   \n",
       "pos_0-4                         0                         0   \n",
       "\n",
       "         (Nine-6956, Digit: Nine)  (Nine-6957, Digit: Nine)  \n",
       "pos_0-0                         0                         0  \n",
       "pos_0-1                         0                         0  \n",
       "pos_0-2                         0                         0  \n",
       "pos_0-3                         0                         0  \n",
       "pos_0-4                         0                         0  \n",
       "\n",
       "[5 rows x 70000 columns]"
      ]
     },
     "execution_count": 6,
     "metadata": {},
     "output_type": "execute_result"
    }
   ],
   "source": [
    "df['digits'].head()"
   ]
  },
  {
   "cell_type": "markdown",
   "metadata": {},
   "source": [
    "### Make signatures"
   ]
  },
  {
   "cell_type": "code",
   "execution_count": 7,
   "metadata": {},
   "outputs": [
    {
     "name": "stderr",
     "output_type": "stream",
     "text": [
      "/Users/nickfernandez/anaconda/envs/py35/lib/python3.5/site-packages/scipy/stats/_distn_infrastructure.py:875: RuntimeWarning: invalid value encountered in greater\n",
      "  return (self.a < x) & (x < self.b)\n",
      "/Users/nickfernandez/anaconda/envs/py35/lib/python3.5/site-packages/scipy/stats/_distn_infrastructure.py:875: RuntimeWarning: invalid value encountered in less\n",
      "  return (self.a < x) & (x < self.b)\n",
      "/Users/nickfernandez/anaconda/envs/py35/lib/python3.5/site-packages/scipy/stats/_distn_infrastructure.py:1814: RuntimeWarning: invalid value encountered in less_equal\n",
      "  cond2 = cond0 & (x <= self.a)\n"
     ]
    },
    {
     "name": "stdout",
     "output_type": "stream",
     "text": [
      "(678, 10)\n",
      "CPU times: user 5.4 s, sys: 2.67 s, total: 8.07 s\n",
      "Wall time: 8.11 s\n"
     ]
    }
   ],
   "source": [
    "%%time\n",
    "pval_cutoff = 0.001\n",
    "df['cat_sig'], keep_genes, keep_genes_dict = cby.generate_signatures(df['digits'], 'Digit', \n",
    "                                                                     pval_cutoff=pval_cutoff)\n",
    "print(df['cat_sig'].shape)"
   ]
  },
  {
   "cell_type": "markdown",
   "metadata": {},
   "source": [
    "### Predict categories"
   ]
  },
  {
   "cell_type": "code",
   "execution_count": 8,
   "metadata": {},
   "outputs": [
    {
     "name": "stdout",
     "output_type": "stream",
     "text": [
      "CPU times: user 45.6 s, sys: 945 ms, total: 46.6 s\n",
      "Wall time: 46.7 s\n"
     ]
    }
   ],
   "source": [
    "%%time\n",
    "df['pred_cat'], df['sig_sim'], df['sig_max'], y_info = cby.predict_cats_from_sigs(df['digits'], df['cat_sig'], \n",
    "                                                                                  predict_level='Predict Digit')"
   ]
  },
  {
   "cell_type": "code",
   "execution_count": 9,
   "metadata": {},
   "outputs": [
    {
     "name": "stdout",
     "output_type": "stream",
     "text": [
      "0.814828571429\n",
      "CPU times: user 168 ms, sys: 3.56 ms, total: 171 ms\n",
      "Wall time: 171 ms\n"
     ]
    }
   ],
   "source": [
    "%%time\n",
    "df['conf'], true_count, pred_count, ser_correct, fraction_correct = cby.confusion_matrix_and_correct_series(y_info)\n",
    "real_fraction_correct = deepcopy(fraction_correct)\n",
    "print(real_fraction_correct)"
   ]
  },
  {
   "cell_type": "markdown",
   "metadata": {},
   "source": [
    "### Run Time\n",
    "It takes about a minute to build the signature and predict the digits when we use the full MNIST dataset with 70,000 digits. "
   ]
  },
  {
   "cell_type": "code",
   "execution_count": 14,
   "metadata": {},
   "outputs": [
    {
     "data": {
      "text/plain": [
       "1.4285714285714286"
      ]
     },
     "execution_count": 14,
     "metadata": {},
     "output_type": "execute_result"
    }
   ],
   "source": [
    "100000/70000"
   ]
  },
  {
   "cell_type": "code",
   "execution_count": null,
   "metadata": {},
   "outputs": [],
   "source": []
  }
 ],
 "metadata": {
  "kernelspec": {
   "display_name": "Python [py35]",
   "language": "python",
   "name": "Python [py35]"
  },
  "language_info": {
   "codemirror_mode": {
    "name": "ipython",
    "version": 3
   },
   "file_extension": ".py",
   "mimetype": "text/x-python",
   "name": "python",
   "nbconvert_exporter": "python",
   "pygments_lexer": "ipython3",
   "version": "3.5.2"
  }
 },
 "nbformat": 4,
 "nbformat_minor": 2
}
