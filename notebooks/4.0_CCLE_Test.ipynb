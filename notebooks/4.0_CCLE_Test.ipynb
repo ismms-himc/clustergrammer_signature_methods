{
 "cells": [
  {
   "cell_type": "markdown",
   "metadata": {},
   "source": [
    "# 4.0 CCLE Test"
   ]
  },
  {
   "cell_type": "code",
   "execution_count": 1,
   "metadata": {},
   "outputs": [],
   "source": [
    "from clustergrammer_widget import *\n",
    "net = Network(clustergrammer_widget)\n",
    "df = {}\n",
    "\n",
    "import clustergrammer_groupby as cby\n",
    "import gene_exp_10x"
   ]
  },
  {
   "cell_type": "code",
   "execution_count": 2,
   "metadata": {},
   "outputs": [],
   "source": [
    "from sklearn.metrics import f1_score\n",
    "import pandas as pd\n",
    "import numpy as np\n",
    "from copy import deepcopy\n",
    "\n",
    "import matplotlib.pyplot as plt\n",
    "%matplotlib inline "
   ]
  },
  {
   "cell_type": "markdown",
   "metadata": {},
   "source": [
    "### Load Data"
   ]
  },
  {
   "cell_type": "code",
   "execution_count": 3,
   "metadata": {},
   "outputs": [],
   "source": [
    "net.load_file('../data/big_data/CCLE.txt')\n",
    "df['ini'] = net.export_df()\n",
    "df['ini'].shape\n",
    "\n",
    "cols = df['ini'].columns.tolist()\n",
    "new_cols = [(x[0], x[1]) for x in cols]\n",
    "df['ini'].columns = new_cols"
   ]
  },
  {
   "cell_type": "code",
   "execution_count": 4,
   "metadata": {
    "scrolled": true
   },
   "outputs": [
    {
     "data": {
      "text/html": [
       "<div>\n",
       "<table border=\"1\" class=\"dataframe\">\n",
       "  <thead>\n",
       "    <tr style=\"text-align: right;\">\n",
       "      <th></th>\n",
       "      <th>(cell line: LN18, tissue: central_nervous_system)</th>\n",
       "      <th>(cell line: 769P, tissue: kidney)</th>\n",
       "      <th>(cell line: 786O, tissue: kidney)</th>\n",
       "      <th>(cell line: CAOV3, tissue: ovary)</th>\n",
       "      <th>(cell line: HEPG2, tissue: liver)</th>\n",
       "      <th>(cell line: MOLT4, tissue: haematopoietic_and_lymphoid_tissue)</th>\n",
       "      <th>(cell line: NCIH524, tissue: lung)</th>\n",
       "      <th>(cell line: NCIH209, tissue: lung)</th>\n",
       "      <th>(cell line: MIAPACA2, tissue: pancreas)</th>\n",
       "      <th>(cell line: MCAS, tissue: ovary)</th>\n",
       "      <th>...</th>\n",
       "      <th>(cell line: SLR21, tissue: kidney)</th>\n",
       "      <th>(cell line: LNZ308, tissue: central_nervous_system)</th>\n",
       "      <th>(cell line: LN340, tissue: central_nervous_system)</th>\n",
       "      <th>(cell line: HCC827GR5, tissue: lung)</th>\n",
       "      <th>(cell line: SLR20, tissue: kidney)</th>\n",
       "      <th>(cell line: HK2, tissue: kidney)</th>\n",
       "      <th>(cell line: EW8, tissue: bone)</th>\n",
       "      <th>(cell line: UOK101, tissue: kidney)</th>\n",
       "      <th>(cell line: JHESOAD1, tissue: oesophagus)</th>\n",
       "      <th>(cell line: CH157MN, tissue: central_nervous_system)</th>\n",
       "    </tr>\n",
       "  </thead>\n",
       "  <tbody>\n",
       "    <tr>\n",
       "      <th>LOC100009676</th>\n",
       "      <td>5.987545</td>\n",
       "      <td>5.444892</td>\n",
       "      <td>5.838828</td>\n",
       "      <td>6.074743</td>\n",
       "      <td>5.788600</td>\n",
       "      <td>5.459675</td>\n",
       "      <td>5.755560</td>\n",
       "      <td>7.190493</td>\n",
       "      <td>5.449818</td>\n",
       "      <td>5.801820</td>\n",
       "      <td>...</td>\n",
       "      <td>5.473156</td>\n",
       "      <td>5.517208</td>\n",
       "      <td>5.858379</td>\n",
       "      <td>5.196033</td>\n",
       "      <td>5.831437</td>\n",
       "      <td>5.362021</td>\n",
       "      <td>5.799747</td>\n",
       "      <td>5.865606</td>\n",
       "      <td>5.463812</td>\n",
       "      <td>5.720593</td>\n",
       "    </tr>\n",
       "    <tr>\n",
       "      <th>AKT3</th>\n",
       "      <td>6.230233</td>\n",
       "      <td>7.544216</td>\n",
       "      <td>7.328450</td>\n",
       "      <td>4.270720</td>\n",
       "      <td>4.478293</td>\n",
       "      <td>6.212102</td>\n",
       "      <td>7.562398</td>\n",
       "      <td>8.642669</td>\n",
       "      <td>5.556191</td>\n",
       "      <td>6.808673</td>\n",
       "      <td>...</td>\n",
       "      <td>6.375324</td>\n",
       "      <td>6.119814</td>\n",
       "      <td>6.561409</td>\n",
       "      <td>4.521773</td>\n",
       "      <td>6.830904</td>\n",
       "      <td>7.031690</td>\n",
       "      <td>4.881235</td>\n",
       "      <td>6.914640</td>\n",
       "      <td>5.313795</td>\n",
       "      <td>5.757825</td>\n",
       "    </tr>\n",
       "    <tr>\n",
       "      <th>MED6</th>\n",
       "      <td>9.363550</td>\n",
       "      <td>8.715909</td>\n",
       "      <td>8.410834</td>\n",
       "      <td>9.845271</td>\n",
       "      <td>9.761157</td>\n",
       "      <td>10.532820</td>\n",
       "      <td>10.393960</td>\n",
       "      <td>9.478429</td>\n",
       "      <td>9.112954</td>\n",
       "      <td>9.815614</td>\n",
       "      <td>...</td>\n",
       "      <td>8.849773</td>\n",
       "      <td>8.767192</td>\n",
       "      <td>8.521635</td>\n",
       "      <td>8.224544</td>\n",
       "      <td>9.325785</td>\n",
       "      <td>8.362727</td>\n",
       "      <td>8.990524</td>\n",
       "      <td>8.958629</td>\n",
       "      <td>9.748100</td>\n",
       "      <td>9.758431</td>\n",
       "    </tr>\n",
       "    <tr>\n",
       "      <th>NR2E3</th>\n",
       "      <td>3.803069</td>\n",
       "      <td>4.173643</td>\n",
       "      <td>3.776557</td>\n",
       "      <td>3.934091</td>\n",
       "      <td>3.822202</td>\n",
       "      <td>3.949198</td>\n",
       "      <td>3.807546</td>\n",
       "      <td>3.930186</td>\n",
       "      <td>4.161937</td>\n",
       "      <td>4.028581</td>\n",
       "      <td>...</td>\n",
       "      <td>3.717506</td>\n",
       "      <td>3.977377</td>\n",
       "      <td>3.659459</td>\n",
       "      <td>3.933996</td>\n",
       "      <td>4.515748</td>\n",
       "      <td>4.434658</td>\n",
       "      <td>4.127832</td>\n",
       "      <td>3.942736</td>\n",
       "      <td>4.062648</td>\n",
       "      <td>4.074257</td>\n",
       "    </tr>\n",
       "    <tr>\n",
       "      <th>NAALAD2</th>\n",
       "      <td>3.586430</td>\n",
       "      <td>3.663081</td>\n",
       "      <td>4.047007</td>\n",
       "      <td>3.817250</td>\n",
       "      <td>6.444302</td>\n",
       "      <td>4.081071</td>\n",
       "      <td>5.462774</td>\n",
       "      <td>4.252446</td>\n",
       "      <td>3.932451</td>\n",
       "      <td>3.835827</td>\n",
       "      <td>...</td>\n",
       "      <td>3.520843</td>\n",
       "      <td>4.036661</td>\n",
       "      <td>4.168351</td>\n",
       "      <td>3.535915</td>\n",
       "      <td>4.445632</td>\n",
       "      <td>3.622032</td>\n",
       "      <td>5.436580</td>\n",
       "      <td>3.666404</td>\n",
       "      <td>3.556565</td>\n",
       "      <td>3.728828</td>\n",
       "    </tr>\n",
       "  </tbody>\n",
       "</table>\n",
       "<p>5 rows × 1037 columns</p>\n",
       "</div>"
      ],
      "text/plain": [
       "              (cell line: LN18, tissue: central_nervous_system)  \\\n",
       "LOC100009676                                           5.987545   \n",
       "AKT3                                                   6.230233   \n",
       "MED6                                                   9.363550   \n",
       "NR2E3                                                  3.803069   \n",
       "NAALAD2                                                3.586430   \n",
       "\n",
       "              (cell line: 769P, tissue: kidney)  \\\n",
       "LOC100009676                           5.444892   \n",
       "AKT3                                   7.544216   \n",
       "MED6                                   8.715909   \n",
       "NR2E3                                  4.173643   \n",
       "NAALAD2                                3.663081   \n",
       "\n",
       "              (cell line: 786O, tissue: kidney)  \\\n",
       "LOC100009676                           5.838828   \n",
       "AKT3                                   7.328450   \n",
       "MED6                                   8.410834   \n",
       "NR2E3                                  3.776557   \n",
       "NAALAD2                                4.047007   \n",
       "\n",
       "              (cell line: CAOV3, tissue: ovary)  \\\n",
       "LOC100009676                           6.074743   \n",
       "AKT3                                   4.270720   \n",
       "MED6                                   9.845271   \n",
       "NR2E3                                  3.934091   \n",
       "NAALAD2                                3.817250   \n",
       "\n",
       "              (cell line: HEPG2, tissue: liver)  \\\n",
       "LOC100009676                           5.788600   \n",
       "AKT3                                   4.478293   \n",
       "MED6                                   9.761157   \n",
       "NR2E3                                  3.822202   \n",
       "NAALAD2                                6.444302   \n",
       "\n",
       "              (cell line: MOLT4, tissue: haematopoietic_and_lymphoid_tissue)  \\\n",
       "LOC100009676                                           5.459675                \n",
       "AKT3                                                   6.212102                \n",
       "MED6                                                  10.532820                \n",
       "NR2E3                                                  3.949198                \n",
       "NAALAD2                                                4.081071                \n",
       "\n",
       "              (cell line: NCIH524, tissue: lung)  \\\n",
       "LOC100009676                            5.755560   \n",
       "AKT3                                    7.562398   \n",
       "MED6                                   10.393960   \n",
       "NR2E3                                   3.807546   \n",
       "NAALAD2                                 5.462774   \n",
       "\n",
       "              (cell line: NCIH209, tissue: lung)  \\\n",
       "LOC100009676                            7.190493   \n",
       "AKT3                                    8.642669   \n",
       "MED6                                    9.478429   \n",
       "NR2E3                                   3.930186   \n",
       "NAALAD2                                 4.252446   \n",
       "\n",
       "              (cell line: MIAPACA2, tissue: pancreas)  \\\n",
       "LOC100009676                                 5.449818   \n",
       "AKT3                                         5.556191   \n",
       "MED6                                         9.112954   \n",
       "NR2E3                                        4.161937   \n",
       "NAALAD2                                      3.932451   \n",
       "\n",
       "              (cell line: MCAS, tissue: ovary)  \\\n",
       "LOC100009676                          5.801820   \n",
       "AKT3                                  6.808673   \n",
       "MED6                                  9.815614   \n",
       "NR2E3                                 4.028581   \n",
       "NAALAD2                               3.835827   \n",
       "\n",
       "                                      ...                           \\\n",
       "LOC100009676                          ...                            \n",
       "AKT3                                  ...                            \n",
       "MED6                                  ...                            \n",
       "NR2E3                                 ...                            \n",
       "NAALAD2                               ...                            \n",
       "\n",
       "              (cell line: SLR21, tissue: kidney)  \\\n",
       "LOC100009676                            5.473156   \n",
       "AKT3                                    6.375324   \n",
       "MED6                                    8.849773   \n",
       "NR2E3                                   3.717506   \n",
       "NAALAD2                                 3.520843   \n",
       "\n",
       "              (cell line: LNZ308, tissue: central_nervous_system)  \\\n",
       "LOC100009676                                           5.517208     \n",
       "AKT3                                                   6.119814     \n",
       "MED6                                                   8.767192     \n",
       "NR2E3                                                  3.977377     \n",
       "NAALAD2                                                4.036661     \n",
       "\n",
       "              (cell line: LN340, tissue: central_nervous_system)  \\\n",
       "LOC100009676                                           5.858379    \n",
       "AKT3                                                   6.561409    \n",
       "MED6                                                   8.521635    \n",
       "NR2E3                                                  3.659459    \n",
       "NAALAD2                                                4.168351    \n",
       "\n",
       "              (cell line: HCC827GR5, tissue: lung)  \\\n",
       "LOC100009676                              5.196033   \n",
       "AKT3                                      4.521773   \n",
       "MED6                                      8.224544   \n",
       "NR2E3                                     3.933996   \n",
       "NAALAD2                                   3.535915   \n",
       "\n",
       "              (cell line: SLR20, tissue: kidney)  \\\n",
       "LOC100009676                            5.831437   \n",
       "AKT3                                    6.830904   \n",
       "MED6                                    9.325785   \n",
       "NR2E3                                   4.515748   \n",
       "NAALAD2                                 4.445632   \n",
       "\n",
       "              (cell line: HK2, tissue: kidney)  \\\n",
       "LOC100009676                          5.362021   \n",
       "AKT3                                  7.031690   \n",
       "MED6                                  8.362727   \n",
       "NR2E3                                 4.434658   \n",
       "NAALAD2                               3.622032   \n",
       "\n",
       "              (cell line: EW8, tissue: bone)  \\\n",
       "LOC100009676                        5.799747   \n",
       "AKT3                                4.881235   \n",
       "MED6                                8.990524   \n",
       "NR2E3                               4.127832   \n",
       "NAALAD2                             5.436580   \n",
       "\n",
       "              (cell line: UOK101, tissue: kidney)  \\\n",
       "LOC100009676                             5.865606   \n",
       "AKT3                                     6.914640   \n",
       "MED6                                     8.958629   \n",
       "NR2E3                                    3.942736   \n",
       "NAALAD2                                  3.666404   \n",
       "\n",
       "              (cell line: JHESOAD1, tissue: oesophagus)  \\\n",
       "LOC100009676                                   5.463812   \n",
       "AKT3                                           5.313795   \n",
       "MED6                                           9.748100   \n",
       "NR2E3                                          4.062648   \n",
       "NAALAD2                                        3.556565   \n",
       "\n",
       "              (cell line: CH157MN, tissue: central_nervous_system)  \n",
       "LOC100009676                                           5.720593     \n",
       "AKT3                                                   5.757825     \n",
       "MED6                                                   9.758431     \n",
       "NR2E3                                                  4.074257     \n",
       "NAALAD2                                                3.728828     \n",
       "\n",
       "[5 rows x 1037 columns]"
      ]
     },
     "execution_count": 4,
     "metadata": {},
     "output_type": "execute_result"
    }
   ],
   "source": [
    "df['ini'].head()"
   ]
  },
  {
   "cell_type": "markdown",
   "metadata": {},
   "source": [
    "### Visualize Subset of Original Dataset"
   ]
  },
  {
   "cell_type": "code",
   "execution_count": 17,
   "metadata": {},
   "outputs": [
    {
     "name": "stderr",
     "output_type": "stream",
     "text": [
      "Widget Javascript not detected.  It may not be installed or enabled properly.\n"
     ]
    },
    {
     "data": {
      "application/vnd.jupyter.widget-view+json": {
       "model_id": "2f029f8ed89b44a1bfcdafc32cd5df63"
      }
     },
     "metadata": {},
     "output_type": "display_data"
    }
   ],
   "source": [
    "net.load_df(df['ini'])\n",
    "net.filter_N_top(inst_rc='row', N_top=100, rank_type='var')\n",
    "net.normalize(axis='row', norm_type='zscore')\n",
    "net.random_sample(axis='col', num_samples=100, random_state=99)\n",
    "df['small-z'] = net.export_df()\n",
    "net.cluster()\n",
    "net.widget()"
   ]
  },
  {
   "cell_type": "code",
   "execution_count": 15,
   "metadata": {},
   "outputs": [
    {
     "data": {
      "text/plain": [
       "(18874, 1037)"
      ]
     },
     "execution_count": 15,
     "metadata": {},
     "output_type": "execute_result"
    }
   ],
   "source": [
    "net.load_df(df['ini'])\n",
    "net.normalize(axis='row', norm_type='zscore')\n",
    "df['ini-z'] = net.export_df()\n",
    "df['ini-z'].shape"
   ]
  },
  {
   "cell_type": "markdown",
   "metadata": {},
   "source": [
    "# Similarity of Same- and Different-Category Samples"
   ]
  },
  {
   "cell_type": "code",
   "execution_count": 12,
   "metadata": {},
   "outputs": [
    {
     "name": "stdout",
     "output_type": "stream",
     "text": [
      "{'mannwhitney': 0.0, 'ttest': 0.0}\n",
      "CPU times: user 25.1 s, sys: 1.11 s, total: 26.2 s\n",
      "Wall time: 26.4 s\n"
     ]
    },
    {
     "data": {
      "image/png": "[encoded data removed]",
      "text/plain": [
       "<matplotlib.figure.Figure at 0x11a67e6d8>"
      ]
     },
     "metadata": {},
     "output_type": "display_data"
    }
   ],
   "source": [
    "%%time\n",
    "sim_dict, pval_dict = cby.sim_same_and_diff_category_samples(df['ini'])\n",
    "print(pval_dict)\n",
    "\n",
    "df['sim_cats'] = pd.DataFrame(sim_dict)\n",
    "ax = df['sim_cats'].boxplot(return_type='axes')"
   ]
  },
  {
   "cell_type": "code",
   "execution_count": 13,
   "metadata": {},
   "outputs": [
    {
     "name": "stdout",
     "output_type": "stream",
     "text": [
      "{'mannwhitney': 0.0, 'ttest': 0.0}\n",
      "CPU times: user 24.5 s, sys: 1 s, total: 25.5 s\n",
      "Wall time: 25.6 s\n"
     ]
    },
    {
     "data": {
      "image/png": "[encoded data removed]",
      "text/plain": [
       "<matplotlib.figure.Figure at 0x11a6e19e8>"
      ]
     },
     "metadata": {},
     "output_type": "display_data"
    }
   ],
   "source": [
    "%%time\n",
    "sim_dict, pval_dict = cby.sim_same_and_diff_category_samples(df['ini-z'])\n",
    "print(pval_dict)\n",
    "\n",
    "df['sim_cats'] = pd.DataFrame(sim_dict)\n",
    "ax = df['sim_cats'].boxplot(return_type='axes')"
   ]
  },
  {
   "cell_type": "code",
   "execution_count": 18,
   "metadata": {},
   "outputs": [
    {
     "name": "stdout",
     "output_type": "stream",
     "text": [
      "{'mannwhitney': 1.3501185961668493e-40, 'ttest': 2.9598088223171594e-34}\n",
      "CPU times: user 149 ms, sys: 2.77 ms, total: 152 ms\n",
      "Wall time: 152 ms\n"
     ]
    },
    {
     "data": {
      "image/png": "[encoded data removed]",
      "text/plain": [
       "<matplotlib.figure.Figure at 0x11a87b7b8>"
      ]
     },
     "metadata": {},
     "output_type": "display_data"
    }
   ],
   "source": [
    "%%time\n",
    "sim_dict, pval_dict = cby.sim_same_and_diff_category_samples(df['small-z'])\n",
    "print(pval_dict)\n",
    "\n",
    "df['sim_cats'] = pd.DataFrame(sim_dict)\n",
    "ax = df['sim_cats'].boxplot(return_type='axes')"
   ]
  },
  {
   "cell_type": "markdown",
   "metadata": {},
   "source": [
    "# Make signature and predict"
   ]
  },
  {
   "cell_type": "code",
   "execution_count": null,
   "metadata": {},
   "outputs": [],
   "source": [
    "%%time\n",
    "num_top_dims = 15\n",
    "df['cat_sig'], keep_genes, keep_genes_dict = cby.generate_signatures(df['ini-z'], 'tissue', pval_cutoff=0.05, \n",
    "                                                                     num_top_dims=num_top_dims)\n",
    "print(df['cat_sig'].shape)"
   ]
  },
  {
   "cell_type": "code",
   "execution_count": null,
   "metadata": {
    "scrolled": true
   },
   "outputs": [],
   "source": [
    "df['pred_cat'], df['sig_sim'], y_info = cby.predict_cats_from_sigs(df['ini-z'], df['cat_sig'])\n",
    "df['conf'], populations, ser_correct, fraction_correct = cby.confusion_matrix_and_correct_series(y_info)\n",
    "print(fraction_correct)"
   ]
  },
  {
   "cell_type": "markdown",
   "metadata": {},
   "source": [
    "### Tissue Signature"
   ]
  },
  {
   "cell_type": "code",
   "execution_count": null,
   "metadata": {},
   "outputs": [],
   "source": [
    "net.load_df(df['cat_sig'])\n",
    "net.cluster()\n",
    "net.widget()"
   ]
  },
  {
   "cell_type": "code",
   "execution_count": null,
   "metadata": {
    "scrolled": false
   },
   "outputs": [],
   "source": [
    "net.load_df(df['pred_cat'])\n",
    "net.random_sample(axis='col', num_samples=100, random_state=99)\n",
    "net.cluster()\n",
    "net.widget()"
   ]
  },
  {
   "cell_type": "markdown",
   "metadata": {},
   "source": [
    "# Shuffle Labels and Predict Tissues"
   ]
  },
  {
   "cell_type": "code",
   "execution_count": null,
   "metadata": {},
   "outputs": [],
   "source": [
    "%%time\n",
    "num_shuffles = 100\n",
    "perform_ser = cby.compare_performance_to_shuffled_labels(df['ini-z'], 'tissue', \n",
    "                                                         num_shuffles=num_shuffles, num_top_dims=num_top_dims)\n",
    "print('mean: ', perform_ser.mean(), 'std: ', perform_ser.std())\n",
    "print('previously calc real performance: ', fraction_correct)"
   ]
  },
  {
   "cell_type": "markdown",
   "metadata": {},
   "source": [
    "# Overfitting on ~20 Cell Lines"
   ]
  },
  {
   "cell_type": "code",
   "execution_count": null,
   "metadata": {},
   "outputs": [],
   "source": [
    "net.load_df(df['ini-z'])\n",
    "net.random_sample(axis='col', num_samples=20, random_state=99)\n",
    "df['subset-z'] = net.export_df()\n",
    "df['subset-z'].shape"
   ]
  },
  {
   "cell_type": "code",
   "execution_count": null,
   "metadata": {},
   "outputs": [],
   "source": [
    "net.load_df(df['subset-z'])\n",
    "net.filter_N_top(inst_rc='row', N_top=100, rank_type='var')\n",
    "net.normalize(axis='row', norm_type='zscore')\n",
    "net.cluster()\n",
    "net.widget()"
   ]
  },
  {
   "cell_type": "code",
   "execution_count": null,
   "metadata": {},
   "outputs": [],
   "source": [
    "%%time\n",
    "num_top_dims = 15\n",
    "df['cat_sig'], keep_genes, keep_genes_dict = cby.generate_signatures(df['subset-z'], 'tissue', pval_cutoff=0.05, \n",
    "                                                                     num_top_dims=num_top_dims)\n",
    "print(df['cat_sig'].shape)\n",
    "\n",
    "df['pred_cat'], df['sig_sim'], y_info = cby.predict_cats_from_sigs(df['subset-z'], df['cat_sig'])\n",
    "df['conf'], populations, ser_correct, fraction_correct = cby.confusion_matrix_and_correct_series(y_info)\n",
    "print(fraction_correct)"
   ]
  },
  {
   "cell_type": "code",
   "execution_count": null,
   "metadata": {},
   "outputs": [],
   "source": [
    "net.load_df(df['pred_cat'])\n",
    "net.cluster()\n",
    "net.widget()"
   ]
  },
  {
   "cell_type": "markdown",
   "metadata": {},
   "source": [
    "### Shuffled labels on small number of samples"
   ]
  },
  {
   "cell_type": "code",
   "execution_count": null,
   "metadata": {},
   "outputs": [],
   "source": [
    "%%time\n",
    "num_shuffles = 10\n",
    "perform_ser = cby.compare_performance_to_shuffled_labels(df['subset-z'], 'tissue', \n",
    "                                                         num_shuffles=num_shuffles, num_top_dims=num_top_dims)\n",
    "print('mean: ', perform_ser.mean(), 'std: ', perform_ser.std())\n",
    "print('previously calc real performance: ', fraction_correct)"
   ]
  },
  {
   "cell_type": "markdown",
   "metadata": {},
   "source": [
    "### Increase the number of samples"
   ]
  },
  {
   "cell_type": "code",
   "execution_count": null,
   "metadata": {},
   "outputs": [],
   "source": [
    "%%time\n",
    "\n",
    "for num_samples in [20, 50, 75, 100, 200, 500, 750, 1000]:\n",
    "    \n",
    "    net.load_df(df['ini-z'])\n",
    "    net.random_sample(axis='col', num_samples=num_samples, random_state=99)\n",
    "    df['subset-z'] = net.export_df()\n",
    "    df['subset-z'].shape    \n",
    "\n",
    "    print('\\nnum samples: '+ str(num_samples) +'\\n-------------------------')\n",
    "    \n",
    "    num_shuffles = 10\n",
    "    perform_ser = cby.compare_performance_to_shuffled_labels(df['subset-z'], 'tissue', \n",
    "                                                             num_shuffles=num_shuffles, num_top_dims=num_top_dims)\n",
    "\n",
    "    print('mean: ', perform_ser.mean(), 'std: ', perform_ser.std())"
   ]
  },
  {
   "cell_type": "markdown",
   "metadata": {},
   "source": [
    "### Increase the number of samples on pre-filtered data"
   ]
  },
  {
   "cell_type": "code",
   "execution_count": null,
   "metadata": {},
   "outputs": [],
   "source": [
    "num_var_genes = 1000\n",
    "net.load_df(df['ini'])\n",
    "net.filter_N_top(inst_rc='row', N_top=num_var_genes, rank_type='var')\n",
    "net.normalize(axis='row', norm_type='zscore')\n",
    "df['ini-var-z'] = net.export_df()\n",
    "df['ini-var-z'].shape"
   ]
  },
  {
   "cell_type": "code",
   "execution_count": null,
   "metadata": {
    "scrolled": false
   },
   "outputs": [],
   "source": [
    "%%time\n",
    "\n",
    "for num_samples in [20, 50, 75, 100, 200, 500, 750, 1000]:\n",
    "    \n",
    "    net.load_df(df['ini-var-z'])\n",
    "    net.random_sample(axis='col', num_samples=num_samples, random_state=99)\n",
    "    df['subset-z'] = net.export_df()\n",
    "    df['subset-z'].shape    \n",
    "\n",
    "    print('\\nnum samples: '+ str(num_samples) +'\\n-------------------------')\n",
    "    \n",
    "    num_shuffles = 10\n",
    "    perform_ser = cby.compare_performance_to_shuffled_labels(df['subset-z'], 'tissue', \n",
    "                                                             num_shuffles=num_shuffles, num_top_dims=num_top_dims)\n",
    "\n",
    "    print('mean: ', perform_ser.mean(), 'std: ', perform_ser.std())"
   ]
  },
  {
   "cell_type": "code",
   "execution_count": null,
   "metadata": {},
   "outputs": [],
   "source": []
  }
 ],
 "metadata": {
  "kernelspec": {
   "display_name": "Python [py35]",
   "language": "python",
   "name": "Python [py35]"
  },
  "language_info": {
   "codemirror_mode": {
    "name": "ipython",
    "version": 3
   },
   "file_extension": ".py",
   "mimetype": "text/x-python",
   "name": "python",
   "nbconvert_exporter": "python",
   "pygments_lexer": "ipython3",
   "version": "3.5.2"
  },
  "widgets": {
   "application/vnd.jupyter.widget-state+json": {
    "state": {},
    "version_major": 1,
    "version_minor": 0
   }
  }
 },
 "nbformat": 4,
 "nbformat_minor": 2
}
