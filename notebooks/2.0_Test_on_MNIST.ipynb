{
 "cells": [
  {
   "cell_type": "markdown",
   "metadata": {},
   "source": [
    "# 2.0 Test on MNIST"
   ]
  },
  {
   "cell_type": "code",
   "execution_count": 1,
   "metadata": {},
   "outputs": [],
   "source": [
    "from clustergrammer_widget import *\n",
    "net = Network(clustergrammer_widget)\n",
    "df = {}\n",
    "\n",
    "import clustergrammer_groupby as cby\n",
    "import gene_exp_10x"
   ]
  },
  {
   "cell_type": "code",
   "execution_count": 2,
   "metadata": {},
   "outputs": [],
   "source": [
    "from sklearn.metrics import f1_score\n",
    "import pandas as pd\n",
    "import numpy as np\n",
    "from copy import deepcopy\n",
    "\n",
    "import matplotlib.pyplot as plt\n",
    "%matplotlib inline "
   ]
  },
  {
   "cell_type": "code",
   "execution_count": 3,
   "metadata": {},
   "outputs": [
    {
     "data": {
      "text/plain": [
       "(784, 200)"
      ]
     },
     "execution_count": 3,
     "metadata": {},
     "output_type": "execute_result"
    }
   ],
   "source": [
    "net.load_file('../data/mnist.txt')\n",
    "net.normalize(axis='row', norm_type='zscore')\n",
    "net.swap_nan_for_zero()\n",
    "df['ini'] = net.export_df()\n",
    "df['ini'].shape"
   ]
  },
  {
   "cell_type": "code",
   "execution_count": 4,
   "metadata": {},
   "outputs": [],
   "source": [
    "net.load_df(df['ini'])\n",
    "net.set_cat_color(axis='col', cat_index=1, cat_name='Digit: Zero', inst_color='yellow')\n",
    "net.set_cat_color(axis='col', cat_index=1, cat_name='Digit: One', inst_color='red')\n",
    "net.set_cat_color(axis='col', cat_index=1, cat_name='Digit: Two', inst_color='blue')\n",
    "net.set_cat_color(axis='col', cat_index=1, cat_name='Digit: Three', inst_color='green')\n",
    "net.set_cat_color(axis='col', cat_index=1, cat_name='Digit: Four', inst_color='black')\n",
    "net.set_cat_color(axis='col', cat_index=1, cat_name='Digit: Five', inst_color='orange')\n",
    "net.set_cat_color(axis='col', cat_index=1, cat_name='Digit: Six', inst_color='purple')\n",
    "net.set_cat_color(axis='col', cat_index=1, cat_name='Digit: Seven', inst_color='grey')\n",
    "net.set_cat_color(axis='col', cat_index=1, cat_name='Digit: Eight', inst_color='white')\n",
    "net.set_cat_color(axis='col', cat_index=1, cat_name='Digit: Nine', inst_color='brown')"
   ]
  },
  {
   "cell_type": "code",
   "execution_count": 5,
   "metadata": {},
   "outputs": [
    {
     "name": "stderr",
     "output_type": "stream",
     "text": [
      "Widget Javascript not detected.  It may not be installed or enabled properly.\n"
     ]
    },
    {
     "data": {
      "application/vnd.jupyter.widget-view+json": {
       "model_id": "e546d2ee0f2241c0ba55c69df7e057b0"
      }
     },
     "metadata": {},
     "output_type": "display_data"
    }
   ],
   "source": [
    "net.load_df(df['ini'])\n",
    "net.cluster()\n",
    "net.widget()"
   ]
  },
  {
   "cell_type": "code",
   "execution_count": 6,
   "metadata": {
    "scrolled": true
   },
   "outputs": [
    {
     "name": "stdout",
     "output_type": "stream",
     "text": [
      "(396, 10)\n",
      "0.89\n"
     ]
    }
   ],
   "source": [
    "pval_cutoff = 0.001\n",
    "df['cat_sig'], keep_genes, keep_genes_dict = cby.generate_signatures(df['ini'], 'Digit', \n",
    "                                                                     pval_cutoff=pval_cutoff)\n",
    "print(df['cat_sig'].shape)\n",
    "df['pred_cat'], df['sig_sim'], y_info = cby.predict_cats_from_sigs(df['ini'], df['cat_sig'], \n",
    "                                                                                  predict_level='Predict Digit')\n",
    "\n",
    "df['conf'], populations, ser_correct, fraction_correct = cby.confusion_matrix_and_correct_series(y_info)\n",
    "real_fraction_correct = deepcopy(fraction_correct)\n",
    "print(real_fraction_correct)"
   ]
  },
  {
   "cell_type": "code",
   "execution_count": 7,
   "metadata": {},
   "outputs": [
    {
     "data": {
      "text/plain": [
       "(396, 10)"
      ]
     },
     "execution_count": 7,
     "metadata": {},
     "output_type": "execute_result"
    }
   ],
   "source": [
    "df['cat_sig'].shape"
   ]
  },
  {
   "cell_type": "code",
   "execution_count": 8,
   "metadata": {},
   "outputs": [
    {
     "name": "stderr",
     "output_type": "stream",
     "text": [
      "Widget Javascript not detected.  It may not be installed or enabled properly.\n"
     ]
    },
    {
     "data": {
      "application/vnd.jupyter.widget-view+json": {
       "model_id": "3c145c2ccf8e43c4aa0404c18370e7a6"
      }
     },
     "metadata": {},
     "output_type": "display_data"
    }
   ],
   "source": [
    "net.load_df(df['cat_sig'])\n",
    "net.cluster()\n",
    "net.widget()"
   ]
  },
  {
   "cell_type": "markdown",
   "metadata": {},
   "source": [
    "### View Predictions"
   ]
  },
  {
   "cell_type": "code",
   "execution_count": 9,
   "metadata": {},
   "outputs": [],
   "source": [
    "net.load_df(df['pred_cat'])\n",
    "net.set_cat_color(axis='col', cat_index=2, cat_name='Predict Digit: Zero', inst_color='yellow')\n",
    "net.set_cat_color(axis='col', cat_index=2, cat_name='Predict Digit: One', inst_color='red')\n",
    "net.set_cat_color(axis='col', cat_index=2, cat_name='Predict Digit: Two', inst_color='blue')\n",
    "net.set_cat_color(axis='col', cat_index=2, cat_name='Predict Digit: Three', inst_color='green')\n",
    "net.set_cat_color(axis='col', cat_index=2, cat_name='Predict Digit: Four', inst_color='black')\n",
    "net.set_cat_color(axis='col', cat_index=2, cat_name='Predict Digit: Five', inst_color='orange')\n",
    "net.set_cat_color(axis='col', cat_index=2, cat_name='Predict Digit: Six', inst_color='purple')\n",
    "net.set_cat_color(axis='col', cat_index=2, cat_name='Predict Digit: Seven', inst_color='grey')\n",
    "net.set_cat_color(axis='col', cat_index=2, cat_name='Predict Digit: Eight', inst_color='white')\n",
    "net.set_cat_color(axis='col', cat_index=2, cat_name='Predict Digit: Nine', inst_color='brown')"
   ]
  },
  {
   "cell_type": "code",
   "execution_count": 10,
   "metadata": {},
   "outputs": [
    {
     "name": "stderr",
     "output_type": "stream",
     "text": [
      "Widget Javascript not detected.  It may not be installed or enabled properly.\n"
     ]
    },
    {
     "data": {
      "application/vnd.jupyter.widget-view+json": {
       "model_id": "4bf7d5a62c374e8cbd2cafef30f401e2"
      }
     },
     "metadata": {},
     "output_type": "display_data"
    }
   ],
   "source": [
    "net.load_df(df['pred_cat'].ix[keep_genes])\n",
    "net.cluster()\n",
    "net.widget()"
   ]
  },
  {
   "cell_type": "code",
   "execution_count": 11,
   "metadata": {},
   "outputs": [],
   "source": [
    "# net.load_df(df['sig_max'])\n",
    "# net.cluster()\n",
    "# net.widget()"
   ]
  },
  {
   "cell_type": "code",
   "execution_count": 12,
   "metadata": {},
   "outputs": [
    {
     "name": "stderr",
     "output_type": "stream",
     "text": [
      "Widget Javascript not detected.  It may not be installed or enabled properly.\n"
     ]
    },
    {
     "data": {
      "application/vnd.jupyter.widget-view+json": {
       "model_id": "d05d72ff272a4269a8accbdbd09d083a"
      }
     },
     "metadata": {},
     "output_type": "display_data"
    }
   ],
   "source": [
    "net.load_df(df['conf'])\n",
    "net.cluster()\n",
    "net.widget()"
   ]
  },
  {
   "cell_type": "code",
   "execution_count": 13,
   "metadata": {},
   "outputs": [
    {
     "data": {
      "text/plain": [
       "<matplotlib.axes._subplots.AxesSubplot at 0x11b052a90>"
      ]
     },
     "execution_count": 13,
     "metadata": {},
     "output_type": "execute_result"
    },
    {
     "data": {
      "image/png": "[encoded data removed]",
      "text/plain": [
       "<matplotlib.figure.Figure at 0x11b10eb70>"
      ]
     },
     "metadata": {},
     "output_type": "display_data"
    }
   ],
   "source": [
    "ser_correct.sort_values(ascending=False).plot(kind='bar', figsize=(20,5), grid=True)"
   ]
  },
  {
   "cell_type": "markdown",
   "metadata": {},
   "source": [
    "# Shuffle"
   ]
  },
  {
   "cell_type": "code",
   "execution_count": 14,
   "metadata": {},
   "outputs": [
    {
     "name": "stdout",
     "output_type": "stream",
     "text": [
      "performance (fraction correct) of unshuffled: 0.89\n",
      "mean:  0.23365 std:  0.0410644664405\n",
      "CPU times: user 4.02 s, sys: 44.5 ms, total: 4.06 s\n",
      "Wall time: 4.1 s\n"
     ]
    }
   ],
   "source": [
    "%%time\n",
    "num_shuffles = 100\n",
    "perform_ser = cby.compare_performance_to_shuffled_labels(df['ini'], 'Digit', \n",
    "                                                         num_shuffles=num_shuffles, pval_cutoff=pval_cutoff)\n",
    "print('mean: ', perform_ser.mean(), 'std: ', perform_ser.std())"
   ]
  },
  {
   "cell_type": "code",
   "execution_count": 15,
   "metadata": {},
   "outputs": [
    {
     "name": "stdout",
     "output_type": "stream",
     "text": [
      "real labels perform in the top 0.0% of shuffled labels\n",
      "previously calc real performance:  0.89\n"
     ]
    }
   ],
   "source": [
    "real_performance = perform_ser[perform_ser > real_fraction_correct].shape[0]/num_shuffles\n",
    "print('real labels perform in the top ' + str(real_performance*100) + '% of shuffled labels')\n",
    "print('previously calc real performance: ', real_fraction_correct)"
   ]
  },
  {
   "cell_type": "markdown",
   "metadata": {},
   "source": [
    "# Compare Similarity of Same-Cat vs Diff-Cat Samples"
   ]
  },
  {
   "cell_type": "code",
   "execution_count": 16,
   "metadata": {},
   "outputs": [],
   "source": [
    "from sklearn.metrics import pairwise_distances\n",
    "from scipy.spatial.distance import pdist"
   ]
  },
  {
   "cell_type": "code",
   "execution_count": 17,
   "metadata": {},
   "outputs": [
    {
     "data": {
      "text/plain": [
       "(784, 200)"
      ]
     },
     "execution_count": 17,
     "metadata": {},
     "output_type": "execute_result"
    }
   ],
   "source": [
    "df['ini'].shape"
   ]
  },
  {
   "cell_type": "code",
   "execution_count": 18,
   "metadata": {},
   "outputs": [
    {
     "data": {
      "text/plain": [
       "<bound method Network.load_df of <clustergrammer_widget.clustergrammer.Network object at 0x10804b390>>"
      ]
     },
     "execution_count": 18,
     "metadata": {},
     "output_type": "execute_result"
    }
   ],
   "source": [
    "net.load_df"
   ]
  },
  {
   "cell_type": "code",
   "execution_count": 19,
   "metadata": {},
   "outputs": [],
   "source": [
    "cols = df['ini'].columns.tolist()"
   ]
  },
  {
   "cell_type": "code",
   "execution_count": 20,
   "metadata": {},
   "outputs": [
    {
     "data": {
      "text/html": [
       "<div>\n",
       "<table border=\"1\" class=\"dataframe\">\n",
       "  <thead>\n",
       "    <tr style=\"text-align: right;\">\n",
       "      <th></th>\n",
       "      <th>(Numbers: Zero-0, Digit: Zero)</th>\n",
       "      <th>(Numbers: Zero-1, Digit: Zero)</th>\n",
       "      <th>(Numbers: Zero-2, Digit: Zero)</th>\n",
       "      <th>(Numbers: Zero-3, Digit: Zero)</th>\n",
       "      <th>(Numbers: Zero-4, Digit: Zero)</th>\n",
       "      <th>(Numbers: Zero-5, Digit: Zero)</th>\n",
       "      <th>(Numbers: Zero-6, Digit: Zero)</th>\n",
       "      <th>(Numbers: Zero-7, Digit: Zero)</th>\n",
       "      <th>(Numbers: Zero-8, Digit: Zero)</th>\n",
       "      <th>(Numbers: Zero-9, Digit: Zero)</th>\n",
       "      <th>...</th>\n",
       "      <th>(Numbers: Nine-10, Digit: Nine)</th>\n",
       "      <th>(Numbers: Nine-11, Digit: Nine)</th>\n",
       "      <th>(Numbers: Nine-12, Digit: Nine)</th>\n",
       "      <th>(Numbers: Nine-13, Digit: Nine)</th>\n",
       "      <th>(Numbers: Nine-14, Digit: Nine)</th>\n",
       "      <th>(Numbers: Nine-15, Digit: Nine)</th>\n",
       "      <th>(Numbers: Nine-16, Digit: Nine)</th>\n",
       "      <th>(Numbers: Nine-17, Digit: Nine)</th>\n",
       "      <th>(Numbers: Nine-18, Digit: Nine)</th>\n",
       "      <th>(Numbers: Nine-19, Digit: Nine)</th>\n",
       "    </tr>\n",
       "  </thead>\n",
       "  <tbody>\n",
       "    <tr>\n",
       "      <th>(Pixels: pos_0-0, Center: 39.5979797464)</th>\n",
       "      <td>0.0</td>\n",
       "      <td>0.0</td>\n",
       "      <td>0.0</td>\n",
       "      <td>0.0</td>\n",
       "      <td>0.0</td>\n",
       "      <td>0.0</td>\n",
       "      <td>0.0</td>\n",
       "      <td>0.0</td>\n",
       "      <td>0.0</td>\n",
       "      <td>0.0</td>\n",
       "      <td>...</td>\n",
       "      <td>0.0</td>\n",
       "      <td>0.0</td>\n",
       "      <td>0.0</td>\n",
       "      <td>0.0</td>\n",
       "      <td>0.0</td>\n",
       "      <td>0.0</td>\n",
       "      <td>0.0</td>\n",
       "      <td>0.0</td>\n",
       "      <td>0.0</td>\n",
       "      <td>0.0</td>\n",
       "    </tr>\n",
       "    <tr>\n",
       "      <th>(Pixels: pos_0-1, Center: 38.5979797464)</th>\n",
       "      <td>0.0</td>\n",
       "      <td>0.0</td>\n",
       "      <td>0.0</td>\n",
       "      <td>0.0</td>\n",
       "      <td>0.0</td>\n",
       "      <td>0.0</td>\n",
       "      <td>0.0</td>\n",
       "      <td>0.0</td>\n",
       "      <td>0.0</td>\n",
       "      <td>0.0</td>\n",
       "      <td>...</td>\n",
       "      <td>0.0</td>\n",
       "      <td>0.0</td>\n",
       "      <td>0.0</td>\n",
       "      <td>0.0</td>\n",
       "      <td>0.0</td>\n",
       "      <td>0.0</td>\n",
       "      <td>0.0</td>\n",
       "      <td>0.0</td>\n",
       "      <td>0.0</td>\n",
       "      <td>0.0</td>\n",
       "    </tr>\n",
       "    <tr>\n",
       "      <th>(Pixels: pos_0-2, Center: 37.5979797464)</th>\n",
       "      <td>0.0</td>\n",
       "      <td>0.0</td>\n",
       "      <td>0.0</td>\n",
       "      <td>0.0</td>\n",
       "      <td>0.0</td>\n",
       "      <td>0.0</td>\n",
       "      <td>0.0</td>\n",
       "      <td>0.0</td>\n",
       "      <td>0.0</td>\n",
       "      <td>0.0</td>\n",
       "      <td>...</td>\n",
       "      <td>0.0</td>\n",
       "      <td>0.0</td>\n",
       "      <td>0.0</td>\n",
       "      <td>0.0</td>\n",
       "      <td>0.0</td>\n",
       "      <td>0.0</td>\n",
       "      <td>0.0</td>\n",
       "      <td>0.0</td>\n",
       "      <td>0.0</td>\n",
       "      <td>0.0</td>\n",
       "    </tr>\n",
       "    <tr>\n",
       "      <th>(Pixels: pos_0-3, Center: 36.5979797464)</th>\n",
       "      <td>0.0</td>\n",
       "      <td>0.0</td>\n",
       "      <td>0.0</td>\n",
       "      <td>0.0</td>\n",
       "      <td>0.0</td>\n",
       "      <td>0.0</td>\n",
       "      <td>0.0</td>\n",
       "      <td>0.0</td>\n",
       "      <td>0.0</td>\n",
       "      <td>0.0</td>\n",
       "      <td>...</td>\n",
       "      <td>0.0</td>\n",
       "      <td>0.0</td>\n",
       "      <td>0.0</td>\n",
       "      <td>0.0</td>\n",
       "      <td>0.0</td>\n",
       "      <td>0.0</td>\n",
       "      <td>0.0</td>\n",
       "      <td>0.0</td>\n",
       "      <td>0.0</td>\n",
       "      <td>0.0</td>\n",
       "    </tr>\n",
       "    <tr>\n",
       "      <th>(Pixels: pos_0-4, Center: 35.5979797464)</th>\n",
       "      <td>0.0</td>\n",
       "      <td>0.0</td>\n",
       "      <td>0.0</td>\n",
       "      <td>0.0</td>\n",
       "      <td>0.0</td>\n",
       "      <td>0.0</td>\n",
       "      <td>0.0</td>\n",
       "      <td>0.0</td>\n",
       "      <td>0.0</td>\n",
       "      <td>0.0</td>\n",
       "      <td>...</td>\n",
       "      <td>0.0</td>\n",
       "      <td>0.0</td>\n",
       "      <td>0.0</td>\n",
       "      <td>0.0</td>\n",
       "      <td>0.0</td>\n",
       "      <td>0.0</td>\n",
       "      <td>0.0</td>\n",
       "      <td>0.0</td>\n",
       "      <td>0.0</td>\n",
       "      <td>0.0</td>\n",
       "    </tr>\n",
       "  </tbody>\n",
       "</table>\n",
       "<p>5 rows × 200 columns</p>\n",
       "</div>"
      ],
      "text/plain": [
       "                                          (Numbers: Zero-0, Digit: Zero)  \\\n",
       "(Pixels: pos_0-0, Center: 39.5979797464)                             0.0   \n",
       "(Pixels: pos_0-1, Center: 38.5979797464)                             0.0   \n",
       "(Pixels: pos_0-2, Center: 37.5979797464)                             0.0   \n",
       "(Pixels: pos_0-3, Center: 36.5979797464)                             0.0   \n",
       "(Pixels: pos_0-4, Center: 35.5979797464)                             0.0   \n",
       "\n",
       "                                          (Numbers: Zero-1, Digit: Zero)  \\\n",
       "(Pixels: pos_0-0, Center: 39.5979797464)                             0.0   \n",
       "(Pixels: pos_0-1, Center: 38.5979797464)                             0.0   \n",
       "(Pixels: pos_0-2, Center: 37.5979797464)                             0.0   \n",
       "(Pixels: pos_0-3, Center: 36.5979797464)                             0.0   \n",
       "(Pixels: pos_0-4, Center: 35.5979797464)                             0.0   \n",
       "\n",
       "                                          (Numbers: Zero-2, Digit: Zero)  \\\n",
       "(Pixels: pos_0-0, Center: 39.5979797464)                             0.0   \n",
       "(Pixels: pos_0-1, Center: 38.5979797464)                             0.0   \n",
       "(Pixels: pos_0-2, Center: 37.5979797464)                             0.0   \n",
       "(Pixels: pos_0-3, Center: 36.5979797464)                             0.0   \n",
       "(Pixels: pos_0-4, Center: 35.5979797464)                             0.0   \n",
       "\n",
       "                                          (Numbers: Zero-3, Digit: Zero)  \\\n",
       "(Pixels: pos_0-0, Center: 39.5979797464)                             0.0   \n",
       "(Pixels: pos_0-1, Center: 38.5979797464)                             0.0   \n",
       "(Pixels: pos_0-2, Center: 37.5979797464)                             0.0   \n",
       "(Pixels: pos_0-3, Center: 36.5979797464)                             0.0   \n",
       "(Pixels: pos_0-4, Center: 35.5979797464)                             0.0   \n",
       "\n",
       "                                          (Numbers: Zero-4, Digit: Zero)  \\\n",
       "(Pixels: pos_0-0, Center: 39.5979797464)                             0.0   \n",
       "(Pixels: pos_0-1, Center: 38.5979797464)                             0.0   \n",
       "(Pixels: pos_0-2, Center: 37.5979797464)                             0.0   \n",
       "(Pixels: pos_0-3, Center: 36.5979797464)                             0.0   \n",
       "(Pixels: pos_0-4, Center: 35.5979797464)                             0.0   \n",
       "\n",
       "                                          (Numbers: Zero-5, Digit: Zero)  \\\n",
       "(Pixels: pos_0-0, Center: 39.5979797464)                             0.0   \n",
       "(Pixels: pos_0-1, Center: 38.5979797464)                             0.0   \n",
       "(Pixels: pos_0-2, Center: 37.5979797464)                             0.0   \n",
       "(Pixels: pos_0-3, Center: 36.5979797464)                             0.0   \n",
       "(Pixels: pos_0-4, Center: 35.5979797464)                             0.0   \n",
       "\n",
       "                                          (Numbers: Zero-6, Digit: Zero)  \\\n",
       "(Pixels: pos_0-0, Center: 39.5979797464)                             0.0   \n",
       "(Pixels: pos_0-1, Center: 38.5979797464)                             0.0   \n",
       "(Pixels: pos_0-2, Center: 37.5979797464)                             0.0   \n",
       "(Pixels: pos_0-3, Center: 36.5979797464)                             0.0   \n",
       "(Pixels: pos_0-4, Center: 35.5979797464)                             0.0   \n",
       "\n",
       "                                          (Numbers: Zero-7, Digit: Zero)  \\\n",
       "(Pixels: pos_0-0, Center: 39.5979797464)                             0.0   \n",
       "(Pixels: pos_0-1, Center: 38.5979797464)                             0.0   \n",
       "(Pixels: pos_0-2, Center: 37.5979797464)                             0.0   \n",
       "(Pixels: pos_0-3, Center: 36.5979797464)                             0.0   \n",
       "(Pixels: pos_0-4, Center: 35.5979797464)                             0.0   \n",
       "\n",
       "                                          (Numbers: Zero-8, Digit: Zero)  \\\n",
       "(Pixels: pos_0-0, Center: 39.5979797464)                             0.0   \n",
       "(Pixels: pos_0-1, Center: 38.5979797464)                             0.0   \n",
       "(Pixels: pos_0-2, Center: 37.5979797464)                             0.0   \n",
       "(Pixels: pos_0-3, Center: 36.5979797464)                             0.0   \n",
       "(Pixels: pos_0-4, Center: 35.5979797464)                             0.0   \n",
       "\n",
       "                                          (Numbers: Zero-9, Digit: Zero)  \\\n",
       "(Pixels: pos_0-0, Center: 39.5979797464)                             0.0   \n",
       "(Pixels: pos_0-1, Center: 38.5979797464)                             0.0   \n",
       "(Pixels: pos_0-2, Center: 37.5979797464)                             0.0   \n",
       "(Pixels: pos_0-3, Center: 36.5979797464)                             0.0   \n",
       "(Pixels: pos_0-4, Center: 35.5979797464)                             0.0   \n",
       "\n",
       "                                                       ...                 \\\n",
       "(Pixels: pos_0-0, Center: 39.5979797464)               ...                  \n",
       "(Pixels: pos_0-1, Center: 38.5979797464)               ...                  \n",
       "(Pixels: pos_0-2, Center: 37.5979797464)               ...                  \n",
       "(Pixels: pos_0-3, Center: 36.5979797464)               ...                  \n",
       "(Pixels: pos_0-4, Center: 35.5979797464)               ...                  \n",
       "\n",
       "                                          (Numbers: Nine-10, Digit: Nine)  \\\n",
       "(Pixels: pos_0-0, Center: 39.5979797464)                              0.0   \n",
       "(Pixels: pos_0-1, Center: 38.5979797464)                              0.0   \n",
       "(Pixels: pos_0-2, Center: 37.5979797464)                              0.0   \n",
       "(Pixels: pos_0-3, Center: 36.5979797464)                              0.0   \n",
       "(Pixels: pos_0-4, Center: 35.5979797464)                              0.0   \n",
       "\n",
       "                                          (Numbers: Nine-11, Digit: Nine)  \\\n",
       "(Pixels: pos_0-0, Center: 39.5979797464)                              0.0   \n",
       "(Pixels: pos_0-1, Center: 38.5979797464)                              0.0   \n",
       "(Pixels: pos_0-2, Center: 37.5979797464)                              0.0   \n",
       "(Pixels: pos_0-3, Center: 36.5979797464)                              0.0   \n",
       "(Pixels: pos_0-4, Center: 35.5979797464)                              0.0   \n",
       "\n",
       "                                          (Numbers: Nine-12, Digit: Nine)  \\\n",
       "(Pixels: pos_0-0, Center: 39.5979797464)                              0.0   \n",
       "(Pixels: pos_0-1, Center: 38.5979797464)                              0.0   \n",
       "(Pixels: pos_0-2, Center: 37.5979797464)                              0.0   \n",
       "(Pixels: pos_0-3, Center: 36.5979797464)                              0.0   \n",
       "(Pixels: pos_0-4, Center: 35.5979797464)                              0.0   \n",
       "\n",
       "                                          (Numbers: Nine-13, Digit: Nine)  \\\n",
       "(Pixels: pos_0-0, Center: 39.5979797464)                              0.0   \n",
       "(Pixels: pos_0-1, Center: 38.5979797464)                              0.0   \n",
       "(Pixels: pos_0-2, Center: 37.5979797464)                              0.0   \n",
       "(Pixels: pos_0-3, Center: 36.5979797464)                              0.0   \n",
       "(Pixels: pos_0-4, Center: 35.5979797464)                              0.0   \n",
       "\n",
       "                                          (Numbers: Nine-14, Digit: Nine)  \\\n",
       "(Pixels: pos_0-0, Center: 39.5979797464)                              0.0   \n",
       "(Pixels: pos_0-1, Center: 38.5979797464)                              0.0   \n",
       "(Pixels: pos_0-2, Center: 37.5979797464)                              0.0   \n",
       "(Pixels: pos_0-3, Center: 36.5979797464)                              0.0   \n",
       "(Pixels: pos_0-4, Center: 35.5979797464)                              0.0   \n",
       "\n",
       "                                          (Numbers: Nine-15, Digit: Nine)  \\\n",
       "(Pixels: pos_0-0, Center: 39.5979797464)                              0.0   \n",
       "(Pixels: pos_0-1, Center: 38.5979797464)                              0.0   \n",
       "(Pixels: pos_0-2, Center: 37.5979797464)                              0.0   \n",
       "(Pixels: pos_0-3, Center: 36.5979797464)                              0.0   \n",
       "(Pixels: pos_0-4, Center: 35.5979797464)                              0.0   \n",
       "\n",
       "                                          (Numbers: Nine-16, Digit: Nine)  \\\n",
       "(Pixels: pos_0-0, Center: 39.5979797464)                              0.0   \n",
       "(Pixels: pos_0-1, Center: 38.5979797464)                              0.0   \n",
       "(Pixels: pos_0-2, Center: 37.5979797464)                              0.0   \n",
       "(Pixels: pos_0-3, Center: 36.5979797464)                              0.0   \n",
       "(Pixels: pos_0-4, Center: 35.5979797464)                              0.0   \n",
       "\n",
       "                                          (Numbers: Nine-17, Digit: Nine)  \\\n",
       "(Pixels: pos_0-0, Center: 39.5979797464)                              0.0   \n",
       "(Pixels: pos_0-1, Center: 38.5979797464)                              0.0   \n",
       "(Pixels: pos_0-2, Center: 37.5979797464)                              0.0   \n",
       "(Pixels: pos_0-3, Center: 36.5979797464)                              0.0   \n",
       "(Pixels: pos_0-4, Center: 35.5979797464)                              0.0   \n",
       "\n",
       "                                          (Numbers: Nine-18, Digit: Nine)  \\\n",
       "(Pixels: pos_0-0, Center: 39.5979797464)                              0.0   \n",
       "(Pixels: pos_0-1, Center: 38.5979797464)                              0.0   \n",
       "(Pixels: pos_0-2, Center: 37.5979797464)                              0.0   \n",
       "(Pixels: pos_0-3, Center: 36.5979797464)                              0.0   \n",
       "(Pixels: pos_0-4, Center: 35.5979797464)                              0.0   \n",
       "\n",
       "                                          (Numbers: Nine-19, Digit: Nine)  \n",
       "(Pixels: pos_0-0, Center: 39.5979797464)                              0.0  \n",
       "(Pixels: pos_0-1, Center: 38.5979797464)                              0.0  \n",
       "(Pixels: pos_0-2, Center: 37.5979797464)                              0.0  \n",
       "(Pixels: pos_0-3, Center: 36.5979797464)                              0.0  \n",
       "(Pixels: pos_0-4, Center: 35.5979797464)                              0.0  \n",
       "\n",
       "[5 rows x 200 columns]"
      ]
     },
     "execution_count": 20,
     "metadata": {},
     "output_type": "execute_result"
    }
   ],
   "source": [
    "df['ini'].head()"
   ]
  },
  {
   "cell_type": "code",
   "execution_count": 21,
   "metadata": {},
   "outputs": [
    {
     "data": {
      "text/plain": [
       "(19900,)"
      ]
     },
     "execution_count": 21,
     "metadata": {},
     "output_type": "execute_result"
    }
   ],
   "source": [
    "# compute distnace between rows (transpose to get cols as rows)\n",
    "dist_arr = 1 - pdist(df['ini'].transpose(), metric='cosine')\n",
    "dist_arr.shape"
   ]
  },
  {
   "cell_type": "code",
   "execution_count": 22,
   "metadata": {},
   "outputs": [
    {
     "data": {
      "text/plain": [
       "array([ 0.70273914,  0.2135408 ,  0.57092739,  0.52384325,  0.34463461,\n",
       "        0.45218848, -0.01867111,  0.23485128,  0.45638313,  0.44762441,\n",
       "        0.38328774,  0.49622095,  0.04072457,  0.34711509,  0.59890014,\n",
       "        0.68589038,  0.20232118,  0.30633088,  0.32166133, -0.1715569 ,\n",
       "       -0.24477293, -0.22284181, -0.23599737, -0.19477875,  0.06626973,\n",
       "       -0.198248  , -0.09777639, -0.21725815, -0.09515102, -0.21190906,\n",
       "       -0.12648956, -0.1887195 , -0.17440804, -0.19875949, -0.20709605,\n",
       "       -0.0880464 , -0.19044227, -0.06457936, -0.16240389, -0.03110458,\n",
       "        0.00268144, -0.01063256, -0.02175579, -0.15253283,  0.05398065,\n",
       "       -0.05717403, -0.0098857 , -0.06953954, -0.09278036, -0.18575661,\n",
       "       -0.08848967,  0.07297807, -0.06579307,  0.21751238, -0.16692462,\n",
       "        0.07236431, -0.06067068,  0.07720313, -0.08036738,  0.05989568,\n",
       "       -0.0104966 , -0.07487167,  0.00550694, -0.14694425, -0.19747721,\n",
       "        0.13350501, -0.02133607, -0.1646427 , -0.10555061, -0.20457636,\n",
       "        0.01187438, -0.03131378, -0.13682271, -0.02068479, -0.26317138,\n",
       "       -0.14907513,  0.0495408 ,  0.05933376,  0.07769103, -0.07459527,\n",
       "       -0.10925361, -0.08524676, -0.24256795, -0.13575154, -0.14563512,\n",
       "        0.10898398, -0.25063228,  0.18152481,  0.06539985, -0.17907823,\n",
       "       -0.05842973, -0.09933474,  0.02354119, -0.13737922, -0.18587578,\n",
       "        0.10035787, -0.12242042, -0.04786376, -0.17252707,  0.049157  ])"
      ]
     },
     "execution_count": 22,
     "metadata": {},
     "output_type": "execute_result"
    }
   ],
   "source": [
    "dist_arr[:100]"
   ]
  },
  {
   "cell_type": "code",
   "execution_count": 23,
   "metadata": {},
   "outputs": [
    {
     "data": {
      "text/plain": [
       "19900"
      ]
     },
     "execution_count": 23,
     "metadata": {},
     "output_type": "execute_result"
    }
   ],
   "source": [
    "from itertools import combinations\n",
    "sample_combos = list(combinations(range(df['ini'].shape[1]),2))\n",
    "len(sample_combos)"
   ]
  },
  {
   "cell_type": "code",
   "execution_count": 24,
   "metadata": {},
   "outputs": [],
   "source": [
    "sample_names = [(cols[x[0]][0] + '_' + cols[x[1]][0], cols[x[0]][1], cols[x[1]][1]) for x in sample_combos]"
   ]
  },
  {
   "cell_type": "code",
   "execution_count": 25,
   "metadata": {},
   "outputs": [
    {
     "name": "stdout",
     "output_type": "stream",
     "text": [
      "('Numbers: Zero-0_Numbers: Zero-1', 'Digit: Zero', 'Digit: Zero')\n",
      "('Numbers: Zero-0_Numbers: Zero-2', 'Digit: Zero', 'Digit: Zero')\n",
      "('Numbers: Zero-0_Numbers: Zero-3', 'Digit: Zero', 'Digit: Zero')\n"
     ]
    }
   ],
   "source": [
    "print(sample_names[0])\n",
    "print(sample_names[1])\n",
    "print(sample_names[2])"
   ]
  },
  {
   "cell_type": "code",
   "execution_count": 26,
   "metadata": {},
   "outputs": [],
   "source": [
    "ser_dist = pd.Series(data=dist_arr, index=sample_names)"
   ]
  },
  {
   "cell_type": "code",
   "execution_count": 27,
   "metadata": {},
   "outputs": [
    {
     "data": {
      "text/plain": [
       "(Numbers: Zero-0_Numbers: Zero-1, Digit: Zero, Digit: Zero)     0.702739\n",
       "(Numbers: Zero-0_Numbers: Zero-2, Digit: Zero, Digit: Zero)     0.213541\n",
       "(Numbers: Zero-0_Numbers: Zero-3, Digit: Zero, Digit: Zero)     0.570927\n",
       "(Numbers: Zero-0_Numbers: Zero-4, Digit: Zero, Digit: Zero)     0.523843\n",
       "(Numbers: Zero-0_Numbers: Zero-5, Digit: Zero, Digit: Zero)     0.344635\n",
       "(Numbers: Zero-0_Numbers: Zero-6, Digit: Zero, Digit: Zero)     0.452188\n",
       "(Numbers: Zero-0_Numbers: Zero-7, Digit: Zero, Digit: Zero)    -0.018671\n",
       "(Numbers: Zero-0_Numbers: Zero-8, Digit: Zero, Digit: Zero)     0.234851\n",
       "(Numbers: Zero-0_Numbers: Zero-9, Digit: Zero, Digit: Zero)     0.456383\n",
       "(Numbers: Zero-0_Numbers: Zero-10, Digit: Zero, Digit: Zero)    0.447624\n",
       "dtype: float64"
      ]
     },
     "execution_count": 27,
     "metadata": {},
     "output_type": "execute_result"
    }
   ],
   "source": [
    "ser_dist[0:10]"
   ]
  },
  {
   "cell_type": "code",
   "execution_count": 28,
   "metadata": {},
   "outputs": [
    {
     "data": {
      "text/plain": [
       "(Numbers: Zero-0_Numbers: Zero-1, Digit: Zero, Digit: Zero)    0.702739\n",
       "(Numbers: Zero-0_Numbers: Zero-2, Digit: Zero, Digit: Zero)    0.213541\n",
       "dtype: float64"
      ]
     },
     "execution_count": 28,
     "metadata": {},
     "output_type": "execute_result"
    }
   ],
   "source": [
    "ser_dist.ix[sample_names[0:2]]"
   ]
  },
  {
   "cell_type": "code",
   "execution_count": 29,
   "metadata": {},
   "outputs": [
    {
     "name": "stdout",
     "output_type": "stream",
     "text": [
      "1900\n",
      "18000\n",
      "19900\n"
     ]
    }
   ],
   "source": [
    "# find intra-cat sample comparisons\n",
    "intra_cat = [x for x in sample_names if x[1] == x[2]]\n",
    "print(len(intra_cat))\n",
    "\n",
    "# find inter-cat sample comparisons\n",
    "inter_cat = [x for x in sample_names if x[1] != x[2]]\n",
    "print(len(inter_cat))\n",
    "\n",
    "print(len(intra_cat) + len(inter_cat))"
   ]
  },
  {
   "cell_type": "code",
   "execution_count": 30,
   "metadata": {},
   "outputs": [
    {
     "name": "stdout",
     "output_type": "stream",
     "text": [
      "(1900,) (18000,)\n"
     ]
    }
   ],
   "source": [
    "ser_same = ser_dist[intra_cat]\n",
    "ser_same.name = 'Same Category'\n",
    "ser_diff = ser_dist[inter_cat]\n",
    "ser_diff.name = 'Different Category'\n",
    "print(ser_same.shape, ser_diff.shape)"
   ]
  },
  {
   "cell_type": "code",
   "execution_count": 31,
   "metadata": {},
   "outputs": [
    {
     "data": {
      "text/plain": [
       "0.20851407534969865"
      ]
     },
     "execution_count": 31,
     "metadata": {},
     "output_type": "execute_result"
    }
   ],
   "source": [
    "ser_same.mean()"
   ]
  },
  {
   "cell_type": "code",
   "execution_count": 32,
   "metadata": {},
   "outputs": [
    {
     "data": {
      "text/plain": [
       "-0.02359053239734276"
      ]
     },
     "execution_count": 32,
     "metadata": {},
     "output_type": "execute_result"
    }
   ],
   "source": [
    "ser_diff.mean()"
   ]
  },
  {
   "cell_type": "code",
   "execution_count": 33,
   "metadata": {},
   "outputs": [
    {
     "data": {
      "text/plain": [
       "(19900, 2)"
      ]
     },
     "execution_count": 33,
     "metadata": {},
     "output_type": "execute_result"
    }
   ],
   "source": [
    "df['sim_cats'] = pd.DataFrame([ser_same, ser_diff]).transpose()\n",
    "df['sim_cats'].shape"
   ]
  },
  {
   "cell_type": "code",
   "execution_count": 34,
   "metadata": {},
   "outputs": [
    {
     "data": {
      "text/plain": [
       "<matplotlib.axes._subplots.AxesSubplot at 0x11b10e710>"
      ]
     },
     "execution_count": 34,
     "metadata": {},
     "output_type": "execute_result"
    },
    {
     "data": {
      "image/png": "[encoded data removed]",
      "text/plain": [
       "<matplotlib.figure.Figure at 0x11b1092b0>"
      ]
     },
     "metadata": {},
     "output_type": "display_data"
    }
   ],
   "source": [
    "ser_same.hist()"
   ]
  },
  {
   "cell_type": "code",
   "execution_count": 35,
   "metadata": {},
   "outputs": [
    {
     "data": {
      "text/plain": [
       "<matplotlib.axes._subplots.AxesSubplot at 0x11bf912b0>"
      ]
     },
     "execution_count": 35,
     "metadata": {},
     "output_type": "execute_result"
    },
    {
     "data": {
      "image/png": "[encoded data removed]",
      "text/plain": [
       "<matplotlib.figure.Figure at 0x1075625c0>"
      ]
     },
     "metadata": {},
     "output_type": "display_data"
    }
   ],
   "source": [
    "ser_diff.hist()"
   ]
  },
  {
   "cell_type": "code",
   "execution_count": 36,
   "metadata": {},
   "outputs": [
    {
     "data": {
      "text/plain": [
       "<matplotlib.axes._subplots.AxesSubplot at 0x11bfac438>"
      ]
     },
     "execution_count": 36,
     "metadata": {},
     "output_type": "execute_result"
    },
    {
     "data": {
      "image/png": "[encoded data removed]",
      "text/plain": [
       "<matplotlib.figure.Figure at 0x11afe6518>"
      ]
     },
     "metadata": {},
     "output_type": "display_data"
    }
   ],
   "source": [
    "ser_diff.hist(alpha=0.75)\n",
    "ser_same.hist(alpha=1.0)"
   ]
  },
  {
   "cell_type": "code",
   "execution_count": 37,
   "metadata": {},
   "outputs": [
    {
     "data": {
      "image/png": "[encoded data removed]",
      "text/plain": [
       "<matplotlib.figure.Figure at 0x11cfc0ac8>"
      ]
     },
     "metadata": {},
     "output_type": "display_data"
    }
   ],
   "source": [
    "ax = df['sim_cats'].boxplot(return_type='axes')"
   ]
  },
  {
   "cell_type": "code",
   "execution_count": 39,
   "metadata": {},
   "outputs": [],
   "source": [
    "from scipy.stats import ttest_ind, mannwhitneyu"
   ]
  },
  {
   "cell_type": "code",
   "execution_count": 40,
   "metadata": {},
   "outputs": [
    {
     "data": {
      "text/plain": [
       "Ttest_indResult(statistic=-69.417766102207437, pvalue=0.0)"
      ]
     },
     "execution_count": 40,
     "metadata": {},
     "output_type": "execute_result"
    }
   ],
   "source": [
    "ttest_ind(ser_diff, ser_same)"
   ]
  },
  {
   "cell_type": "code",
   "execution_count": 41,
   "metadata": {},
   "outputs": [
    {
     "data": {
      "text/plain": [
       "Ttest_indResult(statistic=-42.683398139599703, pvalue=4.3263797378605525e-284)"
      ]
     },
     "execution_count": 41,
     "metadata": {},
     "output_type": "execute_result"
    }
   ],
   "source": [
    "ttest_ind(ser_diff, ser_same, equal_var=False)"
   ]
  },
  {
   "cell_type": "code",
   "execution_count": 44,
   "metadata": {},
   "outputs": [
    {
     "name": "stdout",
     "output_type": "stream",
     "text": [
      "(18000,)\n",
      "(1900,)\n"
     ]
    }
   ],
   "source": [
    "print(ser_diff.shape)\n",
    "print(ser_same.shape)"
   ]
  },
  {
   "cell_type": "code",
   "execution_count": 45,
   "metadata": {},
   "outputs": [
    {
     "data": {
      "text/plain": [
       "MannwhitneyuResult(statistic=6434972.0, pvalue=0.0)"
      ]
     },
     "execution_count": 45,
     "metadata": {},
     "output_type": "execute_result"
    }
   ],
   "source": [
    "mannwhitneyu(ser_diff, ser_same)"
   ]
  },
  {
   "cell_type": "code",
   "execution_count": 46,
   "metadata": {},
   "outputs": [
    {
     "data": {
      "text/plain": [
       "MannwhitneyuResult(statistic=162000000.0, pvalue=0.4999997976790263)"
      ]
     },
     "execution_count": 46,
     "metadata": {},
     "output_type": "execute_result"
    }
   ],
   "source": [
    "mannwhitneyu(ser_diff, ser_diff)"
   ]
  },
  {
   "cell_type": "code",
   "execution_count": 50,
   "metadata": {},
   "outputs": [
    {
     "data": {
      "text/plain": [
       "MannwhitneyuResult(statistic=498173.0, pvalue=0.44375931203137553)"
      ]
     },
     "execution_count": 50,
     "metadata": {},
     "output_type": "execute_result"
    }
   ],
   "source": [
    "mannwhitneyu(ser_diff[0:1000], ser_diff[1000:2000])"
   ]
  },
  {
   "cell_type": "code",
   "execution_count": 51,
   "metadata": {},
   "outputs": [
    {
     "data": {
      "text/plain": [
       "MannwhitneyuResult(statistic=460618.0, pvalue=0.0011452910286007438)"
      ]
     },
     "execution_count": 51,
     "metadata": {},
     "output_type": "execute_result"
    }
   ],
   "source": [
    "mannwhitneyu(ser_diff[0:1000], ser_diff[3000:4000])"
   ]
  },
  {
   "cell_type": "code",
   "execution_count": 52,
   "metadata": {},
   "outputs": [
    {
     "name": "stdout",
     "output_type": "stream",
     "text": [
      "-0.0568530809305\n",
      "-0.035042259923\n"
     ]
    }
   ],
   "source": [
    "print(ser_diff[0:1000].mean())\n",
    "print(ser_diff[3000:4000].mean())"
   ]
  },
  {
   "cell_type": "code",
   "execution_count": 57,
   "metadata": {},
   "outputs": [],
   "source": [
    "stat, pval = mannwhitneyu(ser_same[0:1000], ser_same[1000:4000])"
   ]
  },
  {
   "cell_type": "code",
   "execution_count": 58,
   "metadata": {},
   "outputs": [
    {
     "data": {
      "text/plain": [
       "0.10307388896781422"
      ]
     },
     "execution_count": 58,
     "metadata": {},
     "output_type": "execute_result"
    }
   ],
   "source": [
    "pval"
   ]
  },
  {
   "cell_type": "code",
   "execution_count": null,
   "metadata": {},
   "outputs": [],
   "source": []
  }
 ],
 "metadata": {
  "anaconda-cloud": {},
  "kernelspec": {
   "display_name": "Python [py35]",
   "language": "python",
   "name": "Python [py35]"
  },
  "language_info": {
   "codemirror_mode": {
    "name": "ipython",
    "version": 3
   },
   "file_extension": ".py",
   "mimetype": "text/x-python",
   "name": "python",
   "nbconvert_exporter": "python",
   "pygments_lexer": "ipython3",
   "version": "3.5.2"
  },
  "widgets": {
   "application/vnd.jupyter.widget-state+json": {
    "state": {},
    "version_major": 1,
    "version_minor": 0
   }
  }
 },
 "nbformat": 4,
 "nbformat_minor": 2
}
