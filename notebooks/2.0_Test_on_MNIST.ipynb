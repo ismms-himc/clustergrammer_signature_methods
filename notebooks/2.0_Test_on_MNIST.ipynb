{
 "cells": [
  {
   "cell_type": "markdown",
   "metadata": {},
   "source": [
    "# 2.0 Test on MNIST"
   ]
  },
  {
   "cell_type": "code",
   "execution_count": 1,
   "metadata": {},
   "outputs": [],
   "source": [
    "from clustergrammer_widget import *\n",
    "net = Network(clustergrammer_widget)\n",
    "df = {}\n",
    "\n",
    "import clustergrammer_groupby as cby\n",
    "import gene_exp_10x"
   ]
  },
  {
   "cell_type": "code",
   "execution_count": 2,
   "metadata": {},
   "outputs": [],
   "source": [
    "from sklearn.metrics import f1_score\n",
    "import pandas as pd\n",
    "import numpy as np\n",
    "from copy import deepcopy\n",
    "\n",
    "import matplotlib.pyplot as plt\n",
    "%matplotlib inline "
   ]
  },
  {
   "cell_type": "code",
   "execution_count": 3,
   "metadata": {},
   "outputs": [
    {
     "data": {
      "text/plain": [
       "(784, 200)"
      ]
     },
     "execution_count": 3,
     "metadata": {},
     "output_type": "execute_result"
    }
   ],
   "source": [
    "net.load_file('../data/mnist.txt')\n",
    "net.normalize(axis='row', norm_type='zscore')\n",
    "df['ini'] = net.export_df()\n",
    "df['ini'].shape"
   ]
  },
  {
   "cell_type": "code",
   "execution_count": 4,
   "metadata": {},
   "outputs": [],
   "source": [
    "net.load_df(df['ini'])\n",
    "net.set_cat_color(axis='col', cat_index=1, cat_name='Digit: Zero', inst_color='yellow')\n",
    "net.set_cat_color(axis='col', cat_index=1, cat_name='Digit: One', inst_color='red')\n",
    "net.set_cat_color(axis='col', cat_index=1, cat_name='Digit: Two', inst_color='blue')\n",
    "net.set_cat_color(axis='col', cat_index=1, cat_name='Digit: Three', inst_color='green')\n",
    "net.set_cat_color(axis='col', cat_index=1, cat_name='Digit: Four', inst_color='black')\n",
    "net.set_cat_color(axis='col', cat_index=1, cat_name='Digit: Five', inst_color='orange')\n",
    "net.set_cat_color(axis='col', cat_index=1, cat_name='Digit: Six', inst_color='purple')\n",
    "net.set_cat_color(axis='col', cat_index=1, cat_name='Digit: Seven', inst_color='grey')\n",
    "net.set_cat_color(axis='col', cat_index=1, cat_name='Digit: Eight', inst_color='white')\n",
    "net.set_cat_color(axis='col', cat_index=1, cat_name='Digit: Nine', inst_color='brown')"
   ]
  },
  {
   "cell_type": "code",
   "execution_count": 5,
   "metadata": {},
   "outputs": [
    {
     "name": "stderr",
     "output_type": "stream",
     "text": [
      "Widget Javascript not detected.  It may not be installed or enabled properly.\n"
     ]
    },
    {
     "data": {
      "application/vnd.jupyter.widget-view+json": {
       "model_id": "6039941ab5e94b6fa082e838f94db815"
      }
     },
     "metadata": {},
     "output_type": "display_data"
    }
   ],
   "source": [
    "net.load_df(df['ini'])\n",
    "net.cluster()\n",
    "net.widget()"
   ]
  },
  {
   "cell_type": "code",
   "execution_count": 6,
   "metadata": {
    "scrolled": true
   },
   "outputs": [
    {
     "name": "stdout",
     "output_type": "stream",
     "text": [
      "(396, 10)\n",
      "0.89\n"
     ]
    }
   ],
   "source": [
    "pval_cutoff = 0.001\n",
    "df['cat_sig'], keep_genes, keep_genes_dict = cby.generate_signatures(df['ini'], 'Digit', \n",
    "                                                                     pval_cutoff=pval_cutoff)\n",
    "print(df['cat_sig'].shape)\n",
    "df['pred_cat'], df['sig_sim'], y_info = cby.predict_cats_from_sigs(df['ini'], df['cat_sig'], \n",
    "                                                                                  predict_level='Predict Digit')\n",
    "\n",
    "df['conf'], populations, ser_correct, fraction_correct = cby.confusion_matrix_and_correct_series(y_info)\n",
    "real_fraction_correct = deepcopy(fraction_correct)\n",
    "print(real_fraction_correct)"
   ]
  },
  {
   "cell_type": "code",
   "execution_count": 7,
   "metadata": {},
   "outputs": [
    {
     "data": {
      "text/plain": [
       "(396, 10)"
      ]
     },
     "execution_count": 7,
     "metadata": {},
     "output_type": "execute_result"
    }
   ],
   "source": [
    "df['cat_sig'].shape"
   ]
  },
  {
   "cell_type": "code",
   "execution_count": 8,
   "metadata": {},
   "outputs": [
    {
     "name": "stderr",
     "output_type": "stream",
     "text": [
      "Widget Javascript not detected.  It may not be installed or enabled properly.\n"
     ]
    },
    {
     "data": {
      "application/vnd.jupyter.widget-view+json": {
       "model_id": "dc89c7d738b3480ab0852b6cacc93b48"
      }
     },
     "metadata": {},
     "output_type": "display_data"
    }
   ],
   "source": [
    "net.load_df(df['cat_sig'])\n",
    "net.cluster()\n",
    "net.widget()"
   ]
  },
  {
   "cell_type": "markdown",
   "metadata": {},
   "source": [
    "### View Predictions"
   ]
  },
  {
   "cell_type": "code",
   "execution_count": 9,
   "metadata": {},
   "outputs": [],
   "source": [
    "net.load_df(df['pred_cat'])\n",
    "net.set_cat_color(axis='col', cat_index=2, cat_name='Predict Digit: Zero', inst_color='yellow')\n",
    "net.set_cat_color(axis='col', cat_index=2, cat_name='Predict Digit: One', inst_color='red')\n",
    "net.set_cat_color(axis='col', cat_index=2, cat_name='Predict Digit: Two', inst_color='blue')\n",
    "net.set_cat_color(axis='col', cat_index=2, cat_name='Predict Digit: Three', inst_color='green')\n",
    "net.set_cat_color(axis='col', cat_index=2, cat_name='Predict Digit: Four', inst_color='black')\n",
    "net.set_cat_color(axis='col', cat_index=2, cat_name='Predict Digit: Five', inst_color='orange')\n",
    "net.set_cat_color(axis='col', cat_index=2, cat_name='Predict Digit: Six', inst_color='purple')\n",
    "net.set_cat_color(axis='col', cat_index=2, cat_name='Predict Digit: Seven', inst_color='grey')\n",
    "net.set_cat_color(axis='col', cat_index=2, cat_name='Predict Digit: Eight', inst_color='white')\n",
    "net.set_cat_color(axis='col', cat_index=2, cat_name='Predict Digit: Nine', inst_color='brown')"
   ]
  },
  {
   "cell_type": "code",
   "execution_count": 10,
   "metadata": {},
   "outputs": [
    {
     "name": "stderr",
     "output_type": "stream",
     "text": [
      "Widget Javascript not detected.  It may not be installed or enabled properly.\n"
     ]
    },
    {
     "data": {
      "application/vnd.jupyter.widget-view+json": {
       "model_id": "75d365fac967423dbb9f5f1553c2071f"
      }
     },
     "metadata": {},
     "output_type": "display_data"
    }
   ],
   "source": [
    "net.load_df(df['pred_cat'].ix[keep_genes])\n",
    "net.cluster()\n",
    "net.widget()"
   ]
  },
  {
   "cell_type": "code",
   "execution_count": 11,
   "metadata": {},
   "outputs": [],
   "source": [
    "# net.load_df(df['sig_max'])\n",
    "# net.cluster()\n",
    "# net.widget()"
   ]
  },
  {
   "cell_type": "code",
   "execution_count": 12,
   "metadata": {},
   "outputs": [
    {
     "name": "stderr",
     "output_type": "stream",
     "text": [
      "Widget Javascript not detected.  It may not be installed or enabled properly.\n"
     ]
    },
    {
     "data": {
      "application/vnd.jupyter.widget-view+json": {
       "model_id": "1aeb45a53e284162b1156767d9fee5a9"
      }
     },
     "metadata": {},
     "output_type": "display_data"
    }
   ],
   "source": [
    "net.load_df(df['conf'])\n",
    "net.cluster()\n",
    "net.widget()"
   ]
  },
  {
   "cell_type": "code",
   "execution_count": 13,
   "metadata": {},
   "outputs": [
    {
     "data": {
      "text/plain": [
       "<matplotlib.axes._subplots.AxesSubplot at 0x1089b45f8>"
      ]
     },
     "execution_count": 13,
     "metadata": {},
     "output_type": "execute_result"
    },
    {
     "data": {
      "image/png": "[encoded data removed]",
      "text/plain": [
       "<matplotlib.figure.Figure at 0x1089b4a90>"
      ]
     },
     "metadata": {},
     "output_type": "display_data"
    }
   ],
   "source": [
    "ser_correct.sort_values(ascending=False).plot(kind='bar', figsize=(20,5), grid=True)"
   ]
  },
  {
   "cell_type": "markdown",
   "metadata": {},
   "source": [
    "# Shuffle"
   ]
  },
  {
   "cell_type": "code",
   "execution_count": 14,
   "metadata": {},
   "outputs": [
    {
     "name": "stdout",
     "output_type": "stream",
     "text": [
      "performance (fraction correct) of unshuffled: 0.89\n",
      "mean:  0.23364999999999994 std:  0.041064466440469\n",
      "CPU times: user 8.34 s, sys: 247 ms, total: 8.58 s\n",
      "Wall time: 8.9 s\n"
     ]
    }
   ],
   "source": [
    "%%time\n",
    "num_shuffles = 100\n",
    "perform_ser = cby.compare_performance_to_shuffled_labels(df['ini'], df['cat_sig'], 'Digit', \n",
    "                                                         num_shuffles=num_shuffles, pval_cutoff=pval_cutoff)\n",
    "print('mean: ', perform_ser.mean(), 'std: ', perform_ser.std())"
   ]
  },
  {
   "cell_type": "code",
   "execution_count": 15,
   "metadata": {},
   "outputs": [
    {
     "name": "stdout",
     "output_type": "stream",
     "text": [
      "real labels perform in the top 0.0% of shuffled labels\n",
      "previously calc real performance:  0.89\n"
     ]
    }
   ],
   "source": [
    "real_performance = perform_ser[perform_ser > real_fraction_correct].shape[0]/num_shuffles\n",
    "print('real labels perform in the top ' + str(real_performance*100) + '% of shuffled labels')\n",
    "print('previously calc real performance: ', real_fraction_correct)"
   ]
  },
  {
   "cell_type": "code",
   "execution_count": 16,
   "metadata": {},
   "outputs": [
    {
     "data": {
      "text/plain": [
       "<matplotlib.axes._subplots.AxesSubplot at 0x1226f0550>"
      ]
     },
     "execution_count": 16,
     "metadata": {},
     "output_type": "execute_result"
    },
    {
     "data": {
      "image/png": "[encoded data removed]",
      "text/plain": [
       "<matplotlib.figure.Figure at 0x122ab6f60>"
      ]
     },
     "metadata": {},
     "output_type": "display_data"
    }
   ],
   "source": [
    "perform_ser.hist()"
   ]
  },
  {
   "cell_type": "code",
   "execution_count": null,
   "metadata": {},
   "outputs": [],
   "source": []
  },
  {
   "cell_type": "code",
   "execution_count": null,
   "metadata": {},
   "outputs": [],
   "source": []
  }
 ],
 "metadata": {
  "anaconda-cloud": {},
  "kernelspec": {
   "display_name": "Python 3",
   "language": "python",
   "name": "python3"
  },
  "language_info": {
   "codemirror_mode": {
    "name": "ipython",
    "version": 3
   },
   "file_extension": ".py",
   "mimetype": "text/x-python",
   "name": "python",
   "nbconvert_exporter": "python",
   "pygments_lexer": "ipython3",
   "version": "3.5.2"
  },
  "widgets": {
   "application/vnd.jupyter.widget-state+json": {
    "state": {},
    "version_major": 1,
    "version_minor": 0
   }
  }
 },
 "nbformat": 4,
 "nbformat_minor": 2
}
